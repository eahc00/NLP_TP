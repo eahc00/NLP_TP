{
 "cells": [
  {
   "cell_type": "code",
   "execution_count": 1,
   "metadata": {},
   "outputs": [
    {
     "name": "stderr",
     "output_type": "stream",
     "text": [
      "Special tokens have been added in the vocabulary, make sure the associated word embeddings are fine-tuned or trained.\n"
     ]
    }
   ],
   "source": [
    "from transformers import AutoModelForCausalLM, AutoTokenizer, BitsAndBytesConfig\n",
    "import pytorch_lightning\n",
    "from nlp_datasets import get_dataloader, get_dataset\n",
    "\n",
    "import torch\n",
    "from torch import optim\n",
    "from torch.optim.lr_scheduler import StepLR\n",
    "from tensorboardX import SummaryWriter\n",
    "from accelerate import Accelerator\n",
    "from safetensors.torch import load_file\n",
    "\n",
    "import json\n",
    "import gc"
   ]
  },
  {
   "cell_type": "code",
   "execution_count": 2,
   "metadata": {},
   "outputs": [],
   "source": [
    "writer = SummaryWriter()\n",
    "accelerator = Accelerator()"
   ]
  },
  {
   "cell_type": "code",
   "execution_count": 3,
   "metadata": {},
   "outputs": [
    {
     "data": {
      "text/plain": [
       "60"
      ]
     },
     "execution_count": 3,
     "metadata": {},
     "output_type": "execute_result"
    }
   ],
   "source": [
    "torch.cuda.empty_cache()\n",
    "gc.collect()"
   ]
  },
  {
   "cell_type": "code",
   "execution_count": 4,
   "metadata": {},
   "outputs": [
    {
     "name": "stderr",
     "output_type": "stream",
     "text": [
      "Special tokens have been added in the vocabulary, make sure the associated word embeddings are fine-tuned or trained.\n"
     ]
    }
   ],
   "source": [
    "text_decoder_id = f\"MLP-KTLim/llama-3-Korean-Bllossom-8B\"\n",
    "bnb_config = BitsAndBytesConfig(\n",
    "    load_in_4bit=True,\n",
    "    bnb_4bit_use_double_quant=True,\n",
    "    bnb_4bit_quant_type=\"nf4\",\n",
    "    bnb_4bit_compute_dtype=torch.bfloat16\n",
    ")\n",
    "tokenizer = AutoTokenizer.from_pretrained(\n",
    "    text_decoder_id,\n",
    "    lagacy = False\n",
    ")\n",
    "\n",
    "tokenizer.pad_token = tokenizer.eos_token"
   ]
  },
  {
   "cell_type": "code",
   "execution_count": 5,
   "metadata": {},
   "outputs": [
    {
     "data": {
      "application/vnd.jupyter.widget-view+json": {
       "model_id": "c59c00710f9c4453b9c621785418254f",
       "version_major": 2,
       "version_minor": 0
      },
      "text/plain": [
       "Loading checkpoint shards:   0%|          | 0/4 [00:00<?, ?it/s]"
      ]
     },
     "metadata": {},
     "output_type": "display_data"
    }
   ],
   "source": [
    "base_model = AutoModelForCausalLM.from_pretrained(\n",
    "    text_decoder_id,\n",
    "    torch_dtype=torch.float16,\n",
    "    low_cpu_mem_usage=True, \n",
    "    quantization_config=bnb_config\n",
    "    )"
   ]
  },
  {
   "cell_type": "code",
   "execution_count": 6,
   "metadata": {},
   "outputs": [
    {
     "name": "stdout",
     "output_type": "stream",
     "text": [
      "\n"
     ]
    }
   ],
   "source": [
    "for name, module in base_model.named_modules():\n",
    "    print(name)\n",
    "    break"
   ]
  },
  {
   "cell_type": "code",
   "execution_count": 7,
   "metadata": {},
   "outputs": [
    {
     "name": "stdout",
     "output_type": "stream",
     "text": [
      "dataset_dict:  {'prompt': '\\n        system : 한국말로만 대답하고 최대한 간결하고 알기쉽게 정리해줘.\\n        user : 사건의 title과 판시사항을 보고 판결 결과와 그 이유를 예측해줘\\n        \\n title:[자본시장과금융투자업에관한법률위반]〈이른바 스캘핑(scalping) 행위가 자본시장법위반죄로 기소된 사건〉 [공2017상,930]\\n판시사항:투자자문업자 등이, 추천하는 증권을 자신이 선행매수하여 보유하고 있고 추천 후에 이를 매도할 수도 있다는 그 증권에 관한 자신의 이해관계를 표시하지 않은 채 그 증권의 매수를 추천하는 행위가 자본시장과 금융투자업에 관한 법률 제178조 제1항 제1호에서 말하는 ‘부정한 수단, 계획, 기교를 사용하는 행위’ 및 같은 조 제2항에서 정한 ‘위계의 사용’에 해당하는지 여부(적극)\\n\\n        assistant : \\n    ', 'label': '\\n그러므로 상고를 기각하기로 하여, 관여 대법관의 일치된 의견으로 주문과 같이 판결한다.\\n상고이유를 판단한다.\\n1. 자본시장과 금융투자업에 관한 법률 제178조 제1항 제1호, 제2항에 관한 법리오해 등의 점에 대하여\\n가. 1) 자본시장과 금융투자업에 관한 법률(이하 ‘자본시장법’이라고 한다) 제178조 제1항 제1호는 금융투자상품의 매매, 그 밖의 거래와 관련하여 ‘부정한 수단, 계획 또는 기교를 사용하는 행위’를 금지하고 있다. 여기서 ‘부정한 수단, 계획 또는 기교’란 사회통념상 부정하다고 인정되는 일체의 수단, 계획 또는 기교를 말한다. 나아가 어떠한 행위를 부정하다고 할지는 그 행위가 법령 등에서 금지된 것인지, 다른 투자자들로 하여금 잘못된 판단을 하게 함으로써 공정한 경쟁을 해치고 선의의 투자자에게 손해를 전가하여 자본시장의 공정성, 신뢰성 및 효율성을 해칠 위험이 있는지를 고려하여 판단하여야 한다(대법원 2014. 1. 16. 선고 2013도9933 판결 등 참조).\\n한편 자본시장법 제178조 제2항은 금융투자상품의 매매, 그 밖의 거래를 할 목적이나 그 시세의 변동을 도모할 목적으로 ‘풍문의 유포, 위계의 사용, 폭행 또는 협박’을 하는 것을 금지하고 있다. 여기서 ‘위계’란 거래 상대방이나 불특정 투자자를 기망하여 일정한 행위를 하도록 유인할 목적의 수단, 계획, 기교 등을 말하고, ‘기망’이란 객관적 사실과 다른 내용의 허위사실을 내세우는 등의 방법으로 타인을 속이는 것을 의미한다(대법원 2011. 10. 27. 선고 2011도8109 판결 등 참조).\\n2) 투자자문업자, 증권분석가, 언론매체 종사자, 투자 관련 웹사이트 운영자 등(이하 ‘투자자문업자 등’이라고 한다)이 특정 증권을 장기투자로 추천하기 직전에 자신의 계산으로 그 증권을 매수한 다음, 추천 후 그 증권의 시장가격이 상승할 때에 즉시 차익을 남기고 매도하는 이른바 스캘핑(scalping) 행위를 하는 경우, 그 행위가 명백하게 거짓인 정보를 시장에 흘리는 방법으로 그 특정 증권을 추천하는 것이라면 이는 정상적인 자본의 흐름을 왜곡시켜 자본시장의 공정성과 효율성을 해침은 물론이다. 또한 그 증권 자체에 관한 정보는 거짓이 아니어서 자본의 흐름을 왜곡시키는 것은 아니라도, 이러한 스캘핑 행위가 용인되면 자본시장에서의 공정한 경쟁에 대한 시장참여자들의 신뢰가 훼손되고 시장 내의 각종 투자 관련 조언행위가 평가절하됨으로써, 양질의 정보를 생산하고 소비하려는 유인이 감소하여 자본시장에서의 자원배분의 효율성을 해치고 투자자들이 자본시장으로부터 이탈하는 결과를 가져올 수 있다.\\n또한 특정 증권을 추천하기 직전에 그 증권을 매수한 투자자문업자 등은 장기적 가격상승의 잠재력이 아니라 추천으로 예상되는 투자자들의 행동에 따른 단기적 가격상승 가능성 때문에 의식적으로 또는 무의식적으로 그 증권을 추천할 유인이 생길 수 있고, 추천내용의 객관성에 영향을 미칠 수 있는 추천의 동기는 추천에 따라 투자 판단을 하려는 합리적인 투자자가 중요하게 고려할 상당한 개연성이 있는 사항에 해당하므로, 특정 증권을 추천하기 전에 자신의 계산으로 그 증권을 매수한 투자자문업자 등이 그 증권에 관한 자신의 이해관계를 공시하지 않고 추천하면 상대방에게 개인적인 이해관계 없이 객관적인 동기에서 그 증권을 추천한다는 오해를 초래할 수 있다.\\n위와 같은 제반 사정을 고려하면, 투자자문업자 등이 추천하는 증권을 자신이 선행매수하여 보유하고 있고 추천 후에 이를 매도할 수도 있다는 그 증권에 관한 자신의 이해관계를 표시하지 않은 채 그 증권의 매수를 추천하는 행위는 자본시장법 제178조 제1항 제1호에서 말하는 ‘부정한 수단, 계획, 기교를 사용하는 행위’에 해당하는 한편, 투자자들의 오해를 초래하지 않기 위하여 필요한 중요사항인 개인적인 이해관계의 표시를 누락함으로써 투자자들에게 객관적인 동기에서 그 증권을 추천한다는 인상을 주어 거래를 유인하려는 행위로서 자본시장법 제178조 제2항에서 정한 ‘위계의 사용’에도 해당한다.\\n나. 원심은, 피고인이 2009. 12.경부터 2013. 3.경까지 ○○○ ○○○○ TV 방송제작팀에서 애널리스트로 근무하면서 생방송 증권방송인 ‘△△△△’, ‘□□□’ 등 프로그램에 출연하여 유망 종목을 추천하는 업무를 담당하던 중, 제1심판결 별지 [첨부 1] 범죄일람표 각 기재와 같이 2010. 4. 8.부터 2013. 1. 22.까지 90개 종목에 대하여 117회에 걸쳐 차명계좌를 이용하여 방송 전에 특정 종목의 주식을 선행 매수한 다음, 그 주식을 사전에 매수하여 보유하고 있다는 사실을 숨긴 채 방송에서 단독 또는 다수의 유망 종목 중 하나로 분석·추천하여 유망 주식을 매입하려는 일반 투자자들의 관심을 환기시키고는, 방송 직후 또는 적어도 방송일부터 수일 이내에 선행매수물량을 매도하거나, 혹은 낮은 목표수익 수준으로 방송 전 또는 방송 중에 미리 예상 상승가격으로 제출해 둔 매도 주문에 따라 방송 중 또는 방송 직후 계약이 체결되도록 하는 방법 등으로 주식의 매수·매도거래를 한 사실을 인정한 다음, 그러한 행위는 자본시장법 제178조 제1항 제1호에서 정한 주식의 매매와 관련하여 부정한 수단, 계획, 기교를 사용한 행위 및 자본시장법 제178조 제2항에서 정한 거래 목적 또는 시세 변동 목적으로 위계를 사용한 행위에 해당한다고 판단하였다.\\n앞서 본 법리와 증거에 비추어 살펴보면, 원심의 위와 같은 판단에 상고이유 주장과 같이 자본시장법 제178조 제1항 제1호, 제2항에 관한 법리를 오해하거나, 논리와 경험의 법칙을 위반하여 사실을 오인한 잘못이 없다.\\n2. 부당이득 산정에 관한 법리오해의 점에 대하여\\n자본시장법 제443조 제1항 단서 및 제2항에서 규정하고 있는 ‘위반행위로 얻은 이익’이란 그 위반행위와 관련된 거래로 인한 이익을 말하는 것으로서 위반행위로 인하여 발생한 위험과 인과관계가 인정되는 것을 의미한다.\\n원심은, 이 사건에서 피고인이 얻은 이익액을 방송 전후 매매일치수량을 확정하여 평균매수단가와 평균매도단가의 차액에 매매일치수량을 곱한 후 실제 발생한 거래수수료 및 증권거래세, 농어촌특별세를 공제하는 방법으로 산정한 후 그 금액의 추징을 명한 제1심의 판단을 유지하면서, 매수 후 방송 전까지의 시세상승 부분이나 거래일 3일 이후부터 매도 전까지의 시세상승 부분은 인과관계 없는 이익으로서 제외되어야 한다는 피고인의 주장을 배척하였다.\\n관련 법리와 증거에 의하여 살펴보면, 위와 같이 산정한 금액의 추징을 명한 원심의 판단은 수긍할 수 있다. 원심의 판단에 부당이득 산정에 관한 법리를 오해한 잘못이 있다는 상고이유 주장은 받아들이지 아니한다.\\n'}\n"
     ]
    },
    {
     "data": {
      "application/vnd.jupyter.widget-view+json": {
       "model_id": "9a330d99f1ad42e081943f2022059467",
       "version_major": 2,
       "version_minor": 0
      },
      "text/plain": [
       "Map:   0%|          | 0/701 [00:00<?, ? examples/s]"
      ]
     },
     "metadata": {},
     "output_type": "display_data"
    },
    {
     "name": "stdout",
     "output_type": "stream",
     "text": [
      "dataset_dict:  {'prompt': '\\n        system : 한국말로만 대답하고 최대한 간결하고 알기쉽게 정리해줘.\\n        user : 사건의 title과 판시사항을 보고 판결 결과와 그 이유를 예측해줘\\n        \\n title:[손해배상(기)]〈혼인파탄후 제3자와의 성적행위로 인한 손해배상청구 사건〉 [공2014하,2361]\\n판시사항:[1] 제3자가 부부의 일방과 부정행위를 함으로써 부부공동생활을 침해하거나 유지를 방해하고 그에 대한 배우자로서 권리를 침해하여 배우자에게 정신적 고통을 가하는 행위가 불법행위를 구성하는지 여부(원칙적 적극)\\n[2] 부부가 아직 이혼하지 아니하였지만 실질적으로 부부공동생활이 파탄되어 회복할 수 없을 정도의 상태에 이른 경우, 제3자가 부부의 일방과 한 성적인 행위가 배우자에 대하여 불법행위를 구성하는지 여부(소극) / 이러한 법률관계는 재판상 이혼청구가 계속 중에 있다거나 재판상 이혼이 청구되지 않은 상태라고 하더라도 마찬가지인지 여부(적극)\\n\\n        assistant : \\n    ', 'label': '\\n상고이유를 판단한다.\\n1. 부부는 동거하며 서로 부양하고 협조하여야 하는 의무를 진다(민법 제826조). 부부는 정신적·육체적·경제적으로 결합된 공동체로서 서로 협조하고 보호하여 부부공동생활로서의 혼인이 유지되도록 상호 간에 포괄적으로 협력할 의무를 부담하고 그에 관한 권리를 가진다. 이러한 동거의무 내지 부부공동생활 유지의무의 내용으로서 부부는 부정행위를 하지 아니하여야 하는 성적(성적) 성실의무를 부담한다. 이에 따라 부부의 일방이 부정행위를 한 경우에 이는 민법 제840조에 따라 재판상 이혼사유가 되고, 부부의 일방은 그로 인하여 배우자가 입게 된 정신적 고통에 대하여 불법행위에 의한 손해배상의무를 진다.\\n한편 제3자도 타인의 부부공동생활에 개입하여 그 부부공동생활의 파탄을 초래하는 등 그 혼인의 본질에 해당하는 부부공동생활을 방해하여서는 아니 된다. 제3자가 부부의 일방과 부정행위를 함으로써 혼인의 본질에 해당하는 부부공동생활을 침해하거나 그 유지를 방해하고 그에 대한 배우자로서의 권리를 침해하여 배우자에게 정신적 고통을 가하는 행위는 원칙적으로 불법행위를 구성한다(대법원 2005. 5. 13. 선고 2004다1899 판결 등 참조).\\n이와 같이 제3자가 부부의 일방과 부정행위를 하여서는 아니 되는 것은 혼인의 본질에 해당하는 부부공동생활이 보호되고 유지되어야 하기 때문이다. 그런데 민법 제840조는 ‘혼인을 계속하기 어려운 중대한 사유가 있을 때’를 이혼사유로 삼고 있으며, 부부간의 애정과 신뢰가 바탕이 되어야 할 혼인의 본질에 해당하는 부부공동생활 관계가 회복할 수 없을 정도로 파탄되고 그 혼인생활의 계속을 강제하는 것이 일방 배우자에게 참을 수 없는 고통이 되는 경우에는 위 이혼사유에 해당할 수 있다(대법원 2010. 7. 15. 선고 2010므1140 판결 등 참조). 이에 비추어 보면 부부가 장기간 별거하는 등의 사유로 실질적으로 부부공동생활이 파탄되어 실체가 더 이상 존재하지 아니하게 되고 객관적으로 회복할 수 없는 정도에 이른 경우에는 혼인의 본질에 해당하는 부부공동생활이 유지되고 있다고 볼 수 없다. 따라서 비록 부부가 아직 이혼하지 아니하였지만 이처럼 실질적으로 부부공동생활이 파탄되어 회복할 수 없을 정도의 상태에 이르렀다면, 제3자가 부부의 일방과 성적인 행위를 하더라도 이를 두고 부부공동생활을 침해하거나 그 유지를 방해하는 행위라고 할 수 없고 또한 그로 인하여 배우자의 부부공동생활에 관한 권리가 침해되는 손해가 생긴다고 할 수도 없으므로 불법행위가 성립한다고 보기 어렵다. 그리고 이러한 법률관계는 재판상 이혼청구가 계속 중에 있다거나 재판상 이혼이 청구되지 않은 상태라고 하여 달리 볼 것은 아니다.\\n2. 원심판결 이유 및 적법하게 채택된 증거들에 의하면 다음과 같은 사실들을 알 수 있다.\\n가. 원고와 소외인은 1992. 10. 19. 혼인신고를 마치고 법률상 부부로서 생활하다 경제적인 문제, 성격 차이 등으로 불화를 겪었다. 소외인은 원고로부터 “우리는 부부가 아니다.”라는 말을 듣고 2004. 2.경 가출하여, 이때부터 별거가 시작되었고, 원고는 그 후 소외인을 설득하려는 별다른 노력 없이 소외인을 비난하면서 지내왔다.\\n나. 결국 소외인은 2008. 4. 29. 원고를 상대로 이혼청구의 소를 제기하여 2008. 9. 26. 이혼판결이 선고되었다. 이에 원고가 항소하고 2008. 11. 26. 소외인을 상대로 이혼청구의 반소를 제기하였는데, 그 항소심에서 2010. 6. 18. ‘본소 및 반소에 의하여 소외인과 원고는 이혼하고, 본소 및 반소의 위자료 청구를 모두 기각한다’는 내용의 판결이 선고되었고, 2010. 9. 30. 이에 대한 원고의 상고가 기각됨으로써 그대로 확정되었다.\\n다. 한편 피고는 2006년 봄경 등산모임에서 소외인을 알게 되어 연락을 주고받고 금전거래를 하는 등 친밀하게 지내왔는데, 위 이혼소송이 항소심에 계속 중이던 2009. 1. 29. 밤에 소외인의 집에서 소외인과 애무하는 등 신체적 접촉을 가지다가 당시 밖에 있던 원고가 출입문을 두드리는 바람에 그만두었다(이하 이러한 신체적 접촉 행위를 ‘이 사건 성적 행위’라 한다).\\n3. 원심은 위와 같은 사실관계에 대하여, (1) 피고는 이미 원고와 소외인의 혼인관계가 불화 및 장기간의 별거로 파탄되어 그 파탄상태가 고착된 후에 소외인을 만나게 된 것으로 보이고, 이 사건 성적 행위로 인하여 원고와 소외인의 혼인관계가 파탄되었다고 할 수 없다고 하면서도, (2) 피고가 소외인이 원고의 배우자라는 사실을 알면서 이 사건 성적 행위를 하였으므로 불법행위를 구성한다고 보아 이로 인하여 원고가 입은 정신적 손해를 피고가 배상할 의무가 있다고 판단하였다.\\n4. 그러나 원심이 인정한 것과 같이 이 사건 성적 행위에 앞서 이미 원고와 소외인의 혼인관계가 불화 및 장기간의 별거로 파탄되어 그 파탄상태가 고착되었고 소외인이 제기한 이혼소송의 제1심에서 이혼판결이 선고되기까지 한 상태였다면, 원고와 소외인 사이에서는 더 이상 부부공동생활의 실체가 존재하지 아니하게 되었고 이를 회복할 수 없는 상태에 이르렀다고 할 것이다.\\n따라서 이러한 사정을 앞서 본 법리에 비추어 보면, 비록 이 사건 성적 행위 당시 제1심 이혼판결이 확정되지 아니하였다고 하더라도 이 사건 성적 행위가 원고와 소외인 사이의 부부공동생활을 침해하거나 방해하였다고 볼 수 없고 또한 그로 인하여 원고의 부부공동생활에 관한 권리가 침해되는 손해가 생긴다고 할 수도 없으므로, 이 사건 성적 행위가 원고에 대하여 불법행위를 구성한다고 보기 어렵다.\\n그럼에도 이와 달리 원심은 피고가 소외인이 원고의 배우자라는 사실을 알았다는 사정만을 이유로 들어 이 사건 성적 행위가 불법행위에 해당한다고 판단하였으므로, 이러한 원심의 판단에는 부부공동생활에 따른 성적 성실의무에 관한 법리 및 부부공동생활이 파탄에 이른 상태에서의 부부의 일방과 제3자의 성적 행위로 인한 불법행위 성립에 관한 법리 등을 오해하여 판결에 영향을 미친 위법이 있다. 이를 지적하는 취지의 상고이유의 주장은 이유 있다.\\n5. 그러므로 나머지 상고이유에 대한 판단을 생략하고 원심판결을 파기하며, 사건을 다시 심리·판단하게 하기 위하여 원심법원에 환송하기로 하여 주문과 같이 판결한다. 이 판결에 대하여는 대법관 이상훈, 대법관 박보영, 대법관 김소영의 별개의견이 있는 외에는 관여 법관의 의견이 일치되었고, 다수의견에 대한 대법관 민일영, 대법관 김용덕의 보충의견이 있다.\\n6. 대법관 이상훈, 대법관 박보영, 대법관 김소영의 별개의견은 다음과 같다.\\n가. 부부공동생활이 파탄되어 회복할 수 없는 상태에 이르렀다는 사정만으로 그 후에 이루어진 일방 배우자와 제3자의 부정행위가 불법행위를 구성하지 아니한다는 다수의견에 대하여는 다음과 같은 이유로 동의할 수 없다.\\n(1) 대한민국헌법은 혼인과 가족생활은 개인의 존엄과 양성의 평등을 기초로 성립되고 유지되어야 하며, 국가는 이를 보장한다고 규정하고 있고(제36조 제1항), 우리나라 혼인제도는 법률혼주의와 일부일처주의를 취하고 있다. 법률혼주의 아래에서는 유효한 혼인의 합의가 이루어져 혼인신고를 마치고 법률상의 혼인이 성립되면 부부는 동거·부양·협조의무(민법 제826조 제1항)와 성적 성실의무를 지게 되고, 그 혼인관계의 해소는 법률에서 정한 절차에 따라야 한다. 즉 부부공동생활이 파탄되어 회복할 수 없는 상태에 이르렀다고 하여도 이혼 절차나 부부 일방의 사망에 의하여 혼인관계가 해소되지 아니하는 이상 법률상 부부는 여전히 법적인 권리의무가 있고, 누구든지 부부로 대우하여야 한다.\\n부부공동생활이 파탄되어 회복할 수 없는 상태에 이르렀다는 사정만으로 혼인에 따른 가장 본질적인 의무 중 하나인 부부 상호 간의 성적 성실의무의 소멸을 쉽게 인정하는 것은 법률상 부부라는 존재와 실체를 무의미하게 취급하는 것이 되어 우리나라가 취하는 법률혼주의를 훼손시킬 우려가 있다.\\n(2) 형법 역시 선량한 성도덕과 일부일처주의 혼인제도의 유지, 가족생활의 보장 및 부부 쌍방의 성적 성실의무의 확보를 위하여 부부 일방과 제3자의 간통을 처벌하되 이를 친고죄로 하여 상대방 배우자에게 고소권을 부여하고 있다. 간통죄를 규정한 형법 제241조 제1항은 “배우자 있는 자가 간통한 때에는 2년 이하의 징역에 처한다. 그와 상간한 자도 같다.”고 규정할 뿐이므로 부부공동생활의 실체가 소멸되었다고 하여도 상대방 배우자가 종용 또는 유서하거나 법률혼이 해소되지 아니한 이상 간통죄의 성립이 부정될 수 없다.\\n그럼에도 다수의견에 의하면 형사 처벌되는 간통행위가 손해배상책임을 물을 때는 위법성이 부정되는 것이 되어 법체계상 모순되는 결과가 발생하게 된다.\\n(3) 우리 사회에는 장기간 부부공동생활의 실체가 존재한다고 보기 어려운 부부라도 자녀문제 등 여러 가지 이유로 쌍방 모두 이혼을 원하지 아니하는 경우가 있고 부부 일방의 재판상 이혼청구가 허용되지 아니하여 법률상 혼인관계가 지속되는 경우도 드물지 아니하다. 이러한 경우에 이혼을 원하지 아니하는 부부 일방은 여전히 법률상 부부로서 혼인생활의 평화를 유지하는 데 이익을 가지고 있다고 할 수 있고, 상대방 배우자가 제3자와 성적 행위를 한 것을 알게 되면 정신적 고통을 받는다는 것을 부정할 수 없다.\\n다수의견은 부부공동생활의 실체가 존재하지 아니하고 이를 회복할 수 없는 정도에 이른 경우에는 민법 제840조에 따라 재판상 이혼사유에 해당하여 언제라도 이혼청구를 하면 혼인이 해소될 수 있을 것처럼 보고 있지만 실제는 다르다. 다수의견이 들고 있는 대법원 2010므1140 판결에 의하더라도 파탄의 원인에 대한 원고의 책임이 피고의 책임보다 더 무겁다고 인정되는 경우에는 이혼청구가 인용되지 아니한다. 다수의견이 재판상 이혼사유에 관한 종래의 판례를 뒤집고 민법 제840조 제6호의 ‘기타 혼인을 계속하기 어려운 중대한 사유가 있을 때’를 ‘혼인의 본질에 상응하는 부부공동생활 관계가 회복할 수 없을 정도로 파탄된 때’로 해석하는 완전한 파탄주의를 전제로 하고 있는 것이라면 몰라도 현재의 판례가 유지되고 있는 이 시점에서는 부부공동생활이 파탄되어도 혼인관계가 해소되지 아니하는 경우가 있을 수밖에 없다.\\n나. 다만 부부공동생활이 파탄되어 부부 상호 간에 성적 관계를 요구하거나 기대할 수도 없는 상황에서 민법에서 정한 이혼 절차에 따라 혼인관계가 해소되기 전까지는 부부 상호 간에 성적 성실의무가 계속 존속한다고 본다면 개인의 성적 자기결정권을 과도하게 제한하는 부당한 측면이 있는 것은 부인하기 어렵다. 이러한 문제를 해결하기 위하여는 법률혼주의를 훼손하지 아니하면서 부부 일방 당사자와 제3자의 성적 행위로 인한 민사상 불법행위책임과 재판상 이혼청구의 허용 여부 및 간통죄로 인한 형사책임을 조화롭게 해석하는 법리가 필요하다.\\n(1) 부부의 성적 성실의무는 원칙적으로 법률혼이 계속되고 있는 이상 존재한다. 그러나 이는 상대방 배우자에 대한 의무이므로 부부 일방은 배우자에게 더 이상 자신에 대한 성적 성실의무를 부담하지 아니하여도 좋다는 의사를 표시할 수 있고, 그러한 의사표시를 한 부부 일방은 배우자와 제3자가 성적인 행위를 하였더라도 의무위반을 주장할 수 없다. 그러한 의사표시는 명시적뿐만 아니라 묵시적으로도 할 수 있으므로 어떤 경우에 그러한 의사표시가 있었다고 할 수 있는지가 문제 되는데, 종래 대법원판례는 간통죄와 관련하여, 혼인 당사자가 더 이상 혼인관계를 지속할 의사가 없고 이혼의사의 합치가 있는 경우에는 비록 법률적으로 혼인관계가 존속하더라도 간통에 대한 사전 동의인 종용에 해당하는 의사표시가 그 합의 속에 포함되어 있는 것으로 보아야 할 것이나, 그러한 합의가 없는 경우에는 비록 잠정적·임시적·조건적으로 이혼의사가 쌍방으로부터 표출되어 있더라도 간통을 종용한 경우에 해당하지 아니한다고 보아, 간통의 종용을 쉽게 인정하지 아니하였다(대법원 2009. 7. 9. 선고 2008도984 판결 등 참조). 그러나 부부공동생활이 파탄되어 이를 회복할 수 없는 상태에 이른 후에 그러한 상황을 인식하고 있는 부부 일방이 배우자에게 이혼의사를 표시한 경우라면, 이를 잠정적·임시적·조건적인 이혼의사라고만 할 수는 없으므로, 그러한 경우에는 비록 그 자체만으로는 이혼의 효력이 발생하지는 아니하나 장래에 향하여 배우자의 성적 성실의무 등을 면제 내지 소멸시키려는 의사로 인정할 수 있을 것이다.\\n(2) 또한 민법 제840조 제6호에 의하여 이혼이 가능한 파탄상태에서 실제로 부부 일방으로부터 이혼청구가 있는 경우에는 부부 상호 간에 성적 성실의무의 소멸을 인정할 수 있을 것이다. 이 경우에는 부부 모두 이혼의사가 없는 경우와는 달리 혼인해소가 예정되어 있어 이혼을 원하지 아니하는 배우자라도 조만간 혼인이 해소될 것을 각오하여야 하므로, 이혼소송 제기 시부터는 부부공동생활의 실체뿐만 아니라 배우자의 평화로운 부부공동생활의 존속에 대한 권리를 인정하기 어렵기 때문이다.\\n(3) 따라서 혼인의 본질에 해당하는 부부공동생활의 실체가 소멸되고 이를 회복할 수 없는 상태에서 부부 일방이 배우자로부터 이혼의사를 전달받았거나, 그의 재판상 이혼청구가 민법 제840조 제6호에 따라 이혼이 허용될 수 있는 상황이었고 실제 재판상 이혼을 청구하여 혼인관계의 해소를 앞두고 있는 경우에는, 그 부부 일방은 배우자에 대한 성적 성실의무를 더 이상 부담한다고 볼 수 없으므로, 그 후에 이루어진 제3자와 부부 중 일방 당사자의 성적 행위는 배우자에 대하여 불법행위를 구성한다고 보기 어렵다고 할 것이다. 그러나 이러한 상황에 이르지 아니한 경우에는 함부로 불법행위의 성립을 부정할 일이 아니다.\\n다. 이 사건을 보건대, 피고가 소외인과 이 사건 성적 행위를 하였을 당시 이미 원고와 소외인의 혼인생활은 객관적으로 회복할 수 없을 정도로 파탄되어 있었고, 소외인과 원고 사이에 이혼청구의 본소 및 반소가 제기되어 혼인관계의 해소를 앞두고 있었으므로, 피고가 소외인과 위와 같은 성적 행위를 한 것은 원고에 대한 불법행위를 구성한다고 보기 어렵다.\\n라. 그러므로 원심판결을 파기하여야 한다는 결론에는 다수의견과 의견을 같이 하지만, 위에서 본 바와 같이 그 파기의 이유를 달리하므로 별개의견으로 이를 밝혀 둔다.\\n7. 다수의견에 대한 대법관 민일영, 대법관 김용덕의 보충의견은 다음과 같다.\\n가. 법률혼주의를 채택하고 있는 우리나라 법제 아래에서 유효한 혼인의 합의가 이루어져 혼인신고를 마치고 법률상의 혼인이 성립하면 부부공동체로서의 동거·부양·협조 관계가 형성되고 그 혼인관계의 해소는 민법에서 정한 이혼 절차에 따라야 한다. 이와 같이 법률상 혼인에 의하여 형성되는 부부공동생활은 법률적으로 보호되어야 하지만, 부부가 서로 협조하고 애정과 인내로써 상대방을 이해하며 보호하기 위한 노력을 기울일 때에 그 유지가 가능하므로, 민법은 부부에게 그에 대한 의무를 지우고 있다. 그런데 혼인에 의하여 형성된 부부공동생활이 실제 혼인생활의 결과 혼인 시에 의도하였던 것과는 달리 상호 간의 협조와 노력을 게을리 함으로 인하여 파탄상태에 이르고, 그 파탄상태가 굳어져 외형적으로나 실질적으로 부부공동생활의 실체가 더 이상 존재하지 않고 객관적으로 회복할 수 없는 상황에 이르렀다면, 비록 민법에서 정한 이혼 절차에 따라 혼인관계가 해소되지 아니하였다고 하더라도 혼인의 본질에 해당하는 부부공동생활의 실체가 유지되고 있다고 할 수는 없다.\\n물론 법률상 혼인은 보호되어야 하며 아직 법률상 혼인이 해소된 상태가 아니므로 부부로서는 민법에서 정한 의무 내지는 이를 이행하여야 하는 부담이 당연히 소멸한다고 할 수는 없다. 그렇지만 부부공동생활의 실체가 소멸하여 객관적으로 회복할 수 없는 상태에 이른 이상, 개인의 존엄과 양성평등의 원칙에 비추어 독립된 인격체로서의 사생활에 관여하여 회복 불가능한 부부공동생활을 강제하기는 어렵다. 따라서 그와 같은 상태에서 제3자가 부부의 일방의 생활에 관여하였다고 하더라도, 그러한 제3자의 행위로 인하여 이미 실체가 소멸하여 회복 불가능한 부부공동생활이나 그에 관한 배우자의 권리가 새삼스레 침해되거나 부부공동생활의 유지에 방해가 된다고 할 수는 없으므로 제3자의 행위로 인한 불법행위가 성립한다고 할 수 없으며, 이는 제3자가 관여한 행위가 성적인 행위라 하더라도 마찬가지라 할 것이다.\\n그뿐 아니라 부부공동생활이 파탄되어 객관적으로 회복할 수 없는 정도에 이른 경우에 민법 제840조에서 재판상 이혼 사유로 정한 ‘혼인을 계속하기 어려운 중대한 사유가 있을 때’에 해당하면 이혼사유가 될 수 있는데, 이때에는 법률적으로 혼인 해소가 가능하고 부부는 이를 예상하거나 각오하고 있을 터이므로, 아직 이혼 전이라고 하더라도 더 이상 배우자 상호 간에 부부공동생활에 따른 동거의무나 성적 성실의무를 기대하기 어려움은 더욱 분명하다고 보인다. 그럼에도 이러한 경우에까지도 부부로서의 동거의무 및 성적 성실의무를 면할 수 있기 위해서는 부부의 일방이 상대방으로부터 이혼의사를 전달받았거나 재판상의 이혼을 청구하였어야 한다는 견해를 취하고, 이를 전제로 하여 그 사정 여하에 따라 제3자의 성적 행위로 인한 불법행위 성립 여부에 관하여 법적 평가를 달리하여야 한다는 별개의견은 받아들이기 어렵다.\\n나. 한편 별개의견은 다수의견이 간통죄와 관련하여 법체계상 모순되는 결과가 발생한다고 지적한다.\\n그렇지만 간통죄에 의한 형사적인 처벌과 제3자의 부부의 일방과의 성적 행위로 인한 민사적인 불법행위책임은 그 제도의 입법 목적과 법적 효과가 다르므로 항상 동일한 결론에 이르러야 한다고 단정하기 어렵다. 형법은 간통죄를 개인적인 법익에 관한 죄가 아니라 성풍속에 관한 죄로 규정하고 있고 간통죄의 보호법익은 일반적으로 건전한 성풍속·성도덕이나 일부일처주의에 터 잡은 혼인제도라고 설명되며 이와 아울러 부부간의 성적 성실의무가 거론되므로, 부부 일방의 부정행위 내지 부부공동생활 침해를 직접적인 대상으로 삼는 민사상의 불법행위책임과 간통죄의 성립 영역이나 외연이 같다고 할 수는 없다.\\n그리고 성적 자기결정권 행사 및 개인적인 사생활에 대하여 간통죄를 통하여 형사처벌의 대상으로 삼는 제도의 위헌성 여부 등을 둘러싸고 형사정책적·입법적 논쟁이 계속되고 있음은 주지하는 바와 같다. 별개의견도 이러한 문제의식에 공감하여, 혼인의 본질에 해당하는 부부공동생활의 실체가 소멸하고 이를 회복할 수 없는 상태에서 부부 일방이 이혼의사를 전달받았다면 간통죄의 종용에 해당할 수 있고, 또한 위와 같은 상태에서 그의 재판상의 이혼 청구가 허용될 수 있으며 실제로 재판상의 이혼이 청구된 상황이라면 배우자의 평화로운 부부공동생활의 존속에 대한 권리를 인정할 수 없어 간통죄가 성립하지 아니한다는 것으로서, 종래의 대법원판례보다 종용의 개념을 확대하거나 이혼 전이라도 성적 성실의무의 소멸을 인정하여 간통죄가 성립하는 범위를 좁히는 견해를 제시하고 있다.\\n이 문제는 간통죄의 성립이 부정되는 종용 또는 유서의 의의 및 그 해석 등에 관한 형사법적인 것으로서 간통죄에 관한 사건에서 구체적으로 논의될 사항이므로 이 사건에서 이에 관하여 직접 다루는 것은 적절하지 않다. 다만 간통죄의 폐지 여부 등에 관한 논의를 떠나 별개의견도 인정하는 것과 같이 혼인제도에 관한 성풍속을 해치지 아니하면서도 개인적인 사생활에 대한 형사법적인 관여의 범위를 줄이는 차원에서 종래 대법원에서 취하였던 간통행위에 대한 유서·종용의 개념 등을 적절히 보완·수정할 필요는 있다고 생각된다. 예를 들어 간통행위에 대한 사전 동의를 뜻하는 종용이 있는지는 그에 해당하는 의사표시가 있는지의 해석 문제인데, 종용의 의사표시는 명시적인 경우뿐만 아니라 묵시적인 경우도 포함될 수 있으므로, 부부의 파탄상태가 고착화되어 부부공동생활의 실체가 소멸하고 객관적으로 그 회복을 기대할 수 없을 정도의 상태에까지 이르렀다면 그 과정에서 보인 혼인관계 유지·회복을 위한 노력의 결여 및 부부공동생활의 실체 소멸에 대한 실질적인 용인 등의 사정에 기초하여 종용의 의사표시를 추인(추인)하거나 묵시적인 종용의 의사표시를 인정하는 등의 해석론도 고려될 수 있을 것이다. 따라서 이러한 향후의 논의를 통하여 민사책임과 형사책임을 조화롭게 해석할 수 있다고 생각되며, 이에 비추어 보아도 다수의견으로 인하여 간통죄의 성립과 관련하여 법체계상 모순되는 결과가 발생한다고 할 수는 없다.\\n위와 같은 이유로 다수의견에 대한 보충의견을 밝혀 둔다.\\n대법원장   양승태(재판장)        대법관   신영철 민일영 이인복 이상훈 김용덕(주심) 박보영 고영한 김창석 김소영 조희대 권순일'}\n"
     ]
    },
    {
     "data": {
      "application/vnd.jupyter.widget-view+json": {
       "model_id": "6cb1484279e34b359707956272a11ec5",
       "version_major": 2,
       "version_minor": 0
      },
      "text/plain": [
       "Map:   0%|          | 0/88 [00:00<?, ? examples/s]"
      ]
     },
     "metadata": {},
     "output_type": "display_data"
    }
   ],
   "source": [
    "train_dataloader = get_dataloader()\n",
    "valid_dataloader = get_dataloader(split='valid')"
   ]
  },
  {
   "cell_type": "code",
   "execution_count": 8,
   "metadata": {},
   "outputs": [
    {
     "name": "stdout",
     "output_type": "stream",
     "text": [
      "trainable params: 4,718,592 || all params: 8,172,867,584 || trainable%: 0.0577\n"
     ]
    }
   ],
   "source": [
    "## ---  LoRA --- ##\n",
    "from peft import LoraConfig, get_peft_model\n",
    "\n",
    "config = LoraConfig(\n",
    "    r=8,\n",
    "    lora_alpha=16,\n",
    "    target_modules=[\"q_proj\", \"k_proj\", \"v_proj\"],\n",
    "    lora_dropout=0.1,\n",
    "    bias=\"none\",\n",
    "    # modules_to_save=[\"q_proj\", \"k_proj\", \"v_proj\"],\n",
    ")\n",
    "model = get_peft_model(base_model, config)\n",
    "model.print_trainable_parameters()\n",
    "\n",
    "peft_model_id = f\"MLP-KTLim/llama-3-Korean-Bllossom-8B_Lora\""
   ]
  },
  {
   "cell_type": "code",
   "execution_count": 9,
   "metadata": {},
   "outputs": [
    {
     "ename": "ValueError",
     "evalue": "",
     "output_type": "error",
     "traceback": [
      "\u001b[0;31m---------------------------------------------------------------------------\u001b[0m",
      "\u001b[0;31mValueError\u001b[0m                                Traceback (most recent call last)",
      "Cell \u001b[0;32mIn[9], line 1\u001b[0m\n\u001b[0;32m----> 1\u001b[0m \u001b[38;5;28;01mraise\u001b[39;00m \u001b[38;5;167;01mValueError\u001b[39;00m()\n",
      "\u001b[0;31mValueError\u001b[0m: "
     ]
    }
   ],
   "source": [
    "raise ValueError()"
   ]
  },
  {
   "cell_type": "code",
   "execution_count": 10,
   "metadata": {},
   "outputs": [],
   "source": [
    "num_epochs = 30\n",
    "learning_rate = 2e-5\n",
    "optimizer = optim.Adam(\n",
    "    model.parameters(),\n",
    "    lr=learning_rate,\n",
    ")\n",
    "lr_scheduler = StepLR(optimizer, step_size=1, gamma=0.85)"
   ]
  },
  {
   "cell_type": "code",
   "execution_count": 11,
   "metadata": {},
   "outputs": [],
   "source": [
    "# accelerator.prepare(\n",
    "#     train_dataloader, valid_dataloader, model, optimizer, lr_scheduler\n",
    "# )"
   ]
  },
  {
   "cell_type": "code",
   "execution_count": 12,
   "metadata": {},
   "outputs": [],
   "source": [
    "def save_to_json(output_filename, epoch, train_epoch_loss, train_epoch_ppl, val_epoch_loss, val_epoch_ppl):\n",
    "    metrics_data = {\n",
    "        \"epoch\" : epoch,\n",
    "        \"train_epoch_loss\": train_epoch_loss,\n",
    "        \"train_epoch_perplexity\": train_epoch_ppl,\n",
    "        \"val_epoch_loss\": val_epoch_loss,\n",
    "        \"val_epoch_perplexity\": val_epoch_ppl\n",
    "    }\n",
    "    with open(output_filename, \"a+\") as f:\n",
    "        json.dump(metrics_data, f)\n",
    "        f.write('\\n')\n"
   ]
  },
  {
   "cell_type": "code",
   "execution_count": 13,
   "metadata": {},
   "outputs": [],
   "source": [
    "import os\n",
    "os.environ['CUDA_LAUNCH_BLOCKING'] = '1'"
   ]
  },
  {
   "cell_type": "code",
   "execution_count": 14,
   "metadata": {},
   "outputs": [
    {
     "name": "stderr",
     "output_type": "stream",
     "text": [
      "  0%|          | 0/701 [00:00<?, ?it/s]"
     ]
    },
    {
     "name": "stderr",
     "output_type": "stream",
     "text": [
      "100%|██████████| 701/701 [07:21<00:00,  1.59it/s]\n",
      "100%|██████████| 88/88 [00:26<00:00,  3.29it/s]\n"
     ]
    },
    {
     "name": "stdout",
     "output_type": "stream",
     "text": [
      "epoch=0: train_ppl=tensor(22.6323, device='cuda:0') train_epoch_loss=tensor(3.1194, device='cuda:0') eval_ppl=tensor(13.7109, device='cuda:0') eval_epoch_loss=tensor(2.6182, device='cuda:0')\n"
     ]
    },
    {
     "name": "stderr",
     "output_type": "stream",
     "text": [
      "100%|██████████| 701/701 [07:23<00:00,  1.58it/s]\n",
      "100%|██████████| 88/88 [00:26<00:00,  3.29it/s]\n"
     ]
    },
    {
     "name": "stdout",
     "output_type": "stream",
     "text": [
      "epoch=1: train_ppl=tensor(12.7047, device='cuda:0') train_epoch_loss=tensor(2.5420, device='cuda:0') eval_ppl=tensor(11.6100, device='cuda:0') eval_epoch_loss=tensor(2.4519, device='cuda:0')\n"
     ]
    },
    {
     "name": "stderr",
     "output_type": "stream",
     "text": [
      "100%|██████████| 701/701 [07:23<00:00,  1.58it/s]\n",
      "100%|██████████| 88/88 [00:26<00:00,  3.29it/s]\n"
     ]
    },
    {
     "name": "stdout",
     "output_type": "stream",
     "text": [
      "epoch=2: train_ppl=tensor(11.0945, device='cuda:0') train_epoch_loss=tensor(2.4064, device='cuda:0') eval_ppl=tensor(10.7440, device='cuda:0') eval_epoch_loss=tensor(2.3743, device='cuda:0')\n"
     ]
    },
    {
     "name": "stderr",
     "output_type": "stream",
     "text": [
      "100%|██████████| 701/701 [07:23<00:00,  1.58it/s]\n",
      "100%|██████████| 88/88 [00:26<00:00,  3.29it/s]\n"
     ]
    },
    {
     "name": "stdout",
     "output_type": "stream",
     "text": [
      "epoch=3: train_ppl=tensor(10.2198, device='cuda:0') train_epoch_loss=tensor(2.3243, device='cuda:0') eval_ppl=tensor(10.3177, device='cuda:0') eval_epoch_loss=tensor(2.3339, device='cuda:0')\n"
     ]
    },
    {
     "name": "stderr",
     "output_type": "stream",
     "text": [
      "100%|██████████| 701/701 [07:23<00:00,  1.58it/s]\n",
      "100%|██████████| 88/88 [00:26<00:00,  3.29it/s]\n"
     ]
    },
    {
     "name": "stdout",
     "output_type": "stream",
     "text": [
      "epoch=4: train_ppl=tensor(9.6183, device='cuda:0') train_epoch_loss=tensor(2.2637, device='cuda:0') eval_ppl=tensor(10.0182, device='cuda:0') eval_epoch_loss=tensor(2.3044, device='cuda:0')\n"
     ]
    },
    {
     "name": "stderr",
     "output_type": "stream",
     "text": [
      "100%|██████████| 701/701 [07:23<00:00,  1.58it/s]\n",
      "100%|██████████| 88/88 [00:26<00:00,  3.29it/s]\n"
     ]
    },
    {
     "name": "stdout",
     "output_type": "stream",
     "text": [
      "epoch=5: train_ppl=tensor(9.1532, device='cuda:0') train_epoch_loss=tensor(2.2141, device='cuda:0') eval_ppl=tensor(9.8310, device='cuda:0') eval_epoch_loss=tensor(2.2855, device='cuda:0')\n"
     ]
    },
    {
     "name": "stderr",
     "output_type": "stream",
     "text": [
      "100%|██████████| 701/701 [07:24<00:00,  1.58it/s]\n",
      "100%|██████████| 88/88 [00:26<00:00,  3.29it/s]\n"
     ]
    },
    {
     "name": "stdout",
     "output_type": "stream",
     "text": [
      "epoch=6: train_ppl=tensor(8.7748, device='cuda:0') train_epoch_loss=tensor(2.1719, device='cuda:0') eval_ppl=tensor(9.7168, device='cuda:0') eval_epoch_loss=tensor(2.2739, device='cuda:0')\n"
     ]
    },
    {
     "name": "stderr",
     "output_type": "stream",
     "text": [
      "100%|██████████| 701/701 [07:24<00:00,  1.58it/s]\n",
      "100%|██████████| 88/88 [00:26<00:00,  3.29it/s]\n"
     ]
    },
    {
     "name": "stdout",
     "output_type": "stream",
     "text": [
      "epoch=7: train_ppl=tensor(8.4468, device='cuda:0') train_epoch_loss=tensor(2.1338, device='cuda:0') eval_ppl=tensor(9.6426, device='cuda:0') eval_epoch_loss=tensor(2.2662, device='cuda:0')\n"
     ]
    },
    {
     "name": "stderr",
     "output_type": "stream",
     "text": [
      "100%|██████████| 701/701 [07:23<00:00,  1.58it/s]\n",
      "100%|██████████| 88/88 [00:26<00:00,  3.29it/s]\n"
     ]
    },
    {
     "name": "stdout",
     "output_type": "stream",
     "text": [
      "epoch=8: train_ppl=tensor(8.1654, device='cuda:0') train_epoch_loss=tensor(2.0999, device='cuda:0') eval_ppl=tensor(9.5623, device='cuda:0') eval_epoch_loss=tensor(2.2578, device='cuda:0')\n"
     ]
    },
    {
     "name": "stderr",
     "output_type": "stream",
     "text": [
      "100%|██████████| 701/701 [07:23<00:00,  1.58it/s]\n",
      "100%|██████████| 88/88 [00:26<00:00,  3.29it/s]\n"
     ]
    },
    {
     "name": "stdout",
     "output_type": "stream",
     "text": [
      "epoch=9: train_ppl=tensor(7.9061, device='cuda:0') train_epoch_loss=tensor(2.0676, device='cuda:0') eval_ppl=tensor(9.5696, device='cuda:0') eval_epoch_loss=tensor(2.2586, device='cuda:0')\n"
     ]
    },
    {
     "name": "stderr",
     "output_type": "stream",
     "text": [
      "100%|██████████| 701/701 [07:23<00:00,  1.58it/s]\n",
      "100%|██████████| 88/88 [00:26<00:00,  3.29it/s]\n"
     ]
    },
    {
     "name": "stdout",
     "output_type": "stream",
     "text": [
      "epoch=10: train_ppl=tensor(7.6690, device='cuda:0') train_epoch_loss=tensor(2.0372, device='cuda:0') eval_ppl=tensor(9.5950, device='cuda:0') eval_epoch_loss=tensor(2.2612, device='cuda:0')\n"
     ]
    },
    {
     "name": "stderr",
     "output_type": "stream",
     "text": [
      "100%|██████████| 701/701 [07:23<00:00,  1.58it/s]\n",
      "100%|██████████| 88/88 [00:26<00:00,  3.29it/s]\n"
     ]
    },
    {
     "name": "stdout",
     "output_type": "stream",
     "text": [
      "epoch=11: train_ppl=tensor(7.4481, device='cuda:0') train_epoch_loss=tensor(2.0080, device='cuda:0') eval_ppl=tensor(9.6161, device='cuda:0') eval_epoch_loss=tensor(2.2634, device='cuda:0')\n"
     ]
    },
    {
     "name": "stderr",
     "output_type": "stream",
     "text": [
      "100%|██████████| 701/701 [07:23<00:00,  1.58it/s]\n",
      "100%|██████████| 88/88 [00:26<00:00,  3.29it/s]\n"
     ]
    },
    {
     "name": "stdout",
     "output_type": "stream",
     "text": [
      "epoch=12: train_ppl=tensor(7.2473, device='cuda:0') train_epoch_loss=tensor(1.9806, device='cuda:0') eval_ppl=tensor(9.5822, device='cuda:0') eval_epoch_loss=tensor(2.2599, device='cuda:0')\n"
     ]
    },
    {
     "name": "stderr",
     "output_type": "stream",
     "text": [
      "100%|██████████| 701/701 [07:23<00:00,  1.58it/s]\n",
      "100%|██████████| 88/88 [00:26<00:00,  3.29it/s]\n"
     ]
    },
    {
     "name": "stdout",
     "output_type": "stream",
     "text": [
      "epoch=13: train_ppl=tensor(7.0423, device='cuda:0') train_epoch_loss=tensor(1.9519, device='cuda:0') eval_ppl=tensor(9.6396, device='cuda:0') eval_epoch_loss=tensor(2.2659, device='cuda:0')\n"
     ]
    },
    {
     "name": "stderr",
     "output_type": "stream",
     "text": [
      "100%|██████████| 701/701 [07:23<00:00,  1.58it/s]\n",
      "100%|██████████| 88/88 [00:26<00:00,  3.29it/s]\n"
     ]
    },
    {
     "name": "stdout",
     "output_type": "stream",
     "text": [
      "epoch=14: train_ppl=tensor(6.8570, device='cuda:0') train_epoch_loss=tensor(1.9253, device='cuda:0') eval_ppl=tensor(9.6828, device='cuda:0') eval_epoch_loss=tensor(2.2703, device='cuda:0')\n"
     ]
    },
    {
     "name": "stderr",
     "output_type": "stream",
     "text": [
      "100%|██████████| 701/701 [07:23<00:00,  1.58it/s]\n",
      "100%|██████████| 88/88 [00:26<00:00,  3.29it/s]\n"
     ]
    },
    {
     "name": "stdout",
     "output_type": "stream",
     "text": [
      "epoch=15: train_ppl=tensor(6.6864, device='cuda:0') train_epoch_loss=tensor(1.9001, device='cuda:0') eval_ppl=tensor(9.8050, device='cuda:0') eval_epoch_loss=tensor(2.2829, device='cuda:0')\n"
     ]
    },
    {
     "name": "stderr",
     "output_type": "stream",
     "text": [
      "100%|██████████| 701/701 [07:23<00:00,  1.58it/s]\n",
      "100%|██████████| 88/88 [00:26<00:00,  3.29it/s]\n"
     ]
    },
    {
     "name": "stdout",
     "output_type": "stream",
     "text": [
      "epoch=16: train_ppl=tensor(6.5056, device='cuda:0') train_epoch_loss=tensor(1.8727, device='cuda:0') eval_ppl=tensor(9.8710, device='cuda:0') eval_epoch_loss=tensor(2.2896, device='cuda:0')\n"
     ]
    },
    {
     "name": "stderr",
     "output_type": "stream",
     "text": [
      "100%|██████████| 701/701 [07:23<00:00,  1.58it/s]\n",
      "100%|██████████| 88/88 [00:26<00:00,  3.29it/s]\n"
     ]
    },
    {
     "name": "stdout",
     "output_type": "stream",
     "text": [
      "epoch=17: train_ppl=tensor(6.3455, device='cuda:0') train_epoch_loss=tensor(1.8478, device='cuda:0') eval_ppl=tensor(10.0470, device='cuda:0') eval_epoch_loss=tensor(2.3073, device='cuda:0')\n"
     ]
    },
    {
     "name": "stderr",
     "output_type": "stream",
     "text": [
      "100%|██████████| 701/701 [07:23<00:00,  1.58it/s]\n",
      "100%|██████████| 88/88 [00:26<00:00,  3.29it/s]\n"
     ]
    },
    {
     "name": "stdout",
     "output_type": "stream",
     "text": [
      "epoch=18: train_ppl=tensor(6.1855, device='cuda:0') train_epoch_loss=tensor(1.8222, device='cuda:0') eval_ppl=tensor(10.0208, device='cuda:0') eval_epoch_loss=tensor(2.3047, device='cuda:0')\n"
     ]
    },
    {
     "name": "stderr",
     "output_type": "stream",
     "text": [
      "100%|██████████| 701/701 [07:23<00:00,  1.58it/s]\n",
      "100%|██████████| 88/88 [00:26<00:00,  3.29it/s]\n"
     ]
    },
    {
     "name": "stdout",
     "output_type": "stream",
     "text": [
      "epoch=19: train_ppl=tensor(6.0243, device='cuda:0') train_epoch_loss=tensor(1.7958, device='cuda:0') eval_ppl=tensor(10.1931, device='cuda:0') eval_epoch_loss=tensor(2.3217, device='cuda:0')\n"
     ]
    },
    {
     "name": "stderr",
     "output_type": "stream",
     "text": [
      "100%|██████████| 701/701 [07:23<00:00,  1.58it/s]\n",
      "100%|██████████| 88/88 [00:26<00:00,  3.29it/s]\n"
     ]
    },
    {
     "name": "stdout",
     "output_type": "stream",
     "text": [
      "epoch=20: train_ppl=tensor(5.8779, device='cuda:0') train_epoch_loss=tensor(1.7712, device='cuda:0') eval_ppl=tensor(10.1494, device='cuda:0') eval_epoch_loss=tensor(2.3174, device='cuda:0')\n"
     ]
    },
    {
     "name": "stderr",
     "output_type": "stream",
     "text": [
      "100%|██████████| 701/701 [07:23<00:00,  1.58it/s]\n",
      "100%|██████████| 88/88 [00:26<00:00,  3.29it/s]\n"
     ]
    },
    {
     "name": "stdout",
     "output_type": "stream",
     "text": [
      "epoch=21: train_ppl=tensor(5.7318, device='cuda:0') train_epoch_loss=tensor(1.7460, device='cuda:0') eval_ppl=tensor(10.2321, device='cuda:0') eval_epoch_loss=tensor(2.3255, device='cuda:0')\n"
     ]
    },
    {
     "name": "stderr",
     "output_type": "stream",
     "text": [
      "100%|██████████| 701/701 [07:23<00:00,  1.58it/s]\n",
      "100%|██████████| 88/88 [00:26<00:00,  3.29it/s]\n"
     ]
    },
    {
     "name": "stdout",
     "output_type": "stream",
     "text": [
      "epoch=22: train_ppl=tensor(5.5892, device='cuda:0') train_epoch_loss=tensor(1.7208, device='cuda:0') eval_ppl=tensor(10.5527, device='cuda:0') eval_epoch_loss=tensor(2.3564, device='cuda:0')\n"
     ]
    },
    {
     "name": "stderr",
     "output_type": "stream",
     "text": [
      "100%|██████████| 701/701 [07:23<00:00,  1.58it/s]\n",
      "100%|██████████| 88/88 [00:26<00:00,  3.29it/s]\n"
     ]
    },
    {
     "name": "stdout",
     "output_type": "stream",
     "text": [
      "epoch=23: train_ppl=tensor(5.4532, device='cuda:0') train_epoch_loss=tensor(1.6962, device='cuda:0') eval_ppl=tensor(10.7228, device='cuda:0') eval_epoch_loss=tensor(2.3724, device='cuda:0')\n"
     ]
    },
    {
     "name": "stderr",
     "output_type": "stream",
     "text": [
      "100%|██████████| 701/701 [07:23<00:00,  1.58it/s]\n",
      "100%|██████████| 88/88 [00:26<00:00,  3.29it/s]\n"
     ]
    },
    {
     "name": "stdout",
     "output_type": "stream",
     "text": [
      "epoch=24: train_ppl=tensor(5.3170, device='cuda:0') train_epoch_loss=tensor(1.6709, device='cuda:0') eval_ppl=tensor(10.7354, device='cuda:0') eval_epoch_loss=tensor(2.3735, device='cuda:0')\n"
     ]
    },
    {
     "name": "stderr",
     "output_type": "stream",
     "text": [
      "100%|██████████| 701/701 [07:23<00:00,  1.58it/s]\n",
      "100%|██████████| 88/88 [00:26<00:00,  3.29it/s]\n"
     ]
    },
    {
     "name": "stdout",
     "output_type": "stream",
     "text": [
      "epoch=25: train_ppl=tensor(5.1913, device='cuda:0') train_epoch_loss=tensor(1.6470, device='cuda:0') eval_ppl=tensor(10.8491, device='cuda:0') eval_epoch_loss=tensor(2.3841, device='cuda:0')\n"
     ]
    },
    {
     "name": "stderr",
     "output_type": "stream",
     "text": [
      "100%|██████████| 701/701 [07:23<00:00,  1.58it/s]\n",
      "100%|██████████| 88/88 [00:26<00:00,  3.29it/s]\n"
     ]
    },
    {
     "name": "stdout",
     "output_type": "stream",
     "text": [
      "epoch=26: train_ppl=tensor(5.0642, device='cuda:0') train_epoch_loss=tensor(1.6222, device='cuda:0') eval_ppl=tensor(11.0763, device='cuda:0') eval_epoch_loss=tensor(2.4048, device='cuda:0')\n"
     ]
    },
    {
     "name": "stderr",
     "output_type": "stream",
     "text": [
      "100%|██████████| 701/701 [07:24<00:00,  1.58it/s]\n",
      "100%|██████████| 88/88 [00:26<00:00,  3.29it/s]\n"
     ]
    },
    {
     "name": "stdout",
     "output_type": "stream",
     "text": [
      "epoch=27: train_ppl=tensor(4.9387, device='cuda:0') train_epoch_loss=tensor(1.5971, device='cuda:0') eval_ppl=tensor(11.0040, device='cuda:0') eval_epoch_loss=tensor(2.3983, device='cuda:0')\n"
     ]
    },
    {
     "name": "stderr",
     "output_type": "stream",
     "text": [
      "100%|██████████| 701/701 [07:24<00:00,  1.58it/s]\n",
      "100%|██████████| 88/88 [00:26<00:00,  3.29it/s]\n"
     ]
    },
    {
     "name": "stdout",
     "output_type": "stream",
     "text": [
      "epoch=28: train_ppl=tensor(4.8220, device='cuda:0') train_epoch_loss=tensor(1.5732, device='cuda:0') eval_ppl=tensor(11.2609, device='cuda:0') eval_epoch_loss=tensor(2.4213, device='cuda:0')\n"
     ]
    },
    {
     "name": "stderr",
     "output_type": "stream",
     "text": [
      "100%|██████████| 701/701 [07:24<00:00,  1.58it/s]\n",
      "100%|██████████| 88/88 [00:26<00:00,  3.29it/s]"
     ]
    },
    {
     "name": "stdout",
     "output_type": "stream",
     "text": [
      "epoch=29: train_ppl=tensor(4.7057, device='cuda:0') train_epoch_loss=tensor(1.5488, device='cuda:0') eval_ppl=tensor(11.5949, device='cuda:0') eval_epoch_loss=tensor(2.4506, device='cuda:0')\n"
     ]
    },
    {
     "name": "stderr",
     "output_type": "stream",
     "text": [
      "\n"
     ]
    }
   ],
   "source": [
    "from tqdm import tqdm\n",
    "\n",
    "device = \"cuda\"\n",
    "model = model.to(device)\n",
    "scaler = torch.cuda.amp.GradScaler()\n",
    "\n",
    "for epoch in range(num_epochs):\n",
    "    model.train()\n",
    "    total_loss = 0\n",
    "    for step, batch in enumerate(tqdm(train_dataloader)):\n",
    "        batch = {k: v.to(device) for k, v in batch.items()}\n",
    "        # print(batch)\n",
    "        with torch.autocast(device_type='cuda'):\n",
    "            outputs = model(**batch)\n",
    "            loss = outputs.loss\n",
    "            total_loss += loss.detach().float()\n",
    "        \n",
    "        # accelerator.backward(loss)\n",
    "        scaler.scale(loss).backward()\n",
    "        scaler.step(optimizer)\n",
    "        scaler.update()\n",
    "        # loss.backward()\n",
    "        # optimizer.step()\n",
    "        # lr_scheduler.step()\n",
    "        optimizer.zero_grad()\n",
    "\n",
    "    model.eval()\n",
    "    eval_loss = 0\n",
    "    eval_preds = []\n",
    "    for step, batch in enumerate(tqdm(valid_dataloader)):\n",
    "        batch = {k: v.to(device) for k, v in batch.items()}\n",
    "        with torch.no_grad():\n",
    "            outputs = model(**batch)\n",
    "        loss = outputs.loss\n",
    "        eval_loss += loss.detach().float()\n",
    "        eval_preds.extend(\n",
    "            tokenizer.batch_decode(torch.argmax(outputs.logits, -1).detach().cpu().numpy(), skip_special_tokens=True)\n",
    "        )\n",
    "    \n",
    "\n",
    "    eval_epoch_loss = eval_loss / len(valid_dataloader)\n",
    "    eval_ppl = torch.exp(eval_epoch_loss)\n",
    "    train_epoch_loss = total_loss / len(train_dataloader)\n",
    "    train_ppl = torch.exp(train_epoch_loss)\n",
    "    print(f\"{epoch=}: {train_ppl=} {train_epoch_loss=} {eval_ppl=} {eval_epoch_loss=}\")\n",
    "    save_to_json(\"./finetuning_train_result.json\", epoch, float(train_epoch_loss), float(train_ppl.detach().cpu()), float(eval_epoch_loss), float(eval_ppl.detach().cpu()))\n",
    "    "
   ]
  },
  {
   "cell_type": "code",
   "execution_count": 15,
   "metadata": {},
   "outputs": [
    {
     "name": "stderr",
     "output_type": "stream",
     "text": [
      "/home/eahc00/venv/lib/python3.10/site-packages/huggingface_hub/file_download.py:1132: FutureWarning: `resume_download` is deprecated and will be removed in version 1.0.0. Downloads always resume when possible. If you want to force a new download, use `force_download=True`.\n",
      "  warnings.warn(\n"
     ]
    }
   ],
   "source": [
    "model.save_pretrained(f\"./{peft_model_id}/\")"
   ]
  },
  {
   "cell_type": "code",
   "execution_count": null,
   "metadata": {},
   "outputs": [],
   "source": []
  },
  {
   "cell_type": "code",
   "execution_count": 17,
   "metadata": {},
   "outputs": [
    {
     "data": {
      "application/vnd.jupyter.widget-view+json": {
       "model_id": "ae92e8af7f394cf08187768775192a1c",
       "version_major": 2,
       "version_minor": 0
      },
      "text/plain": [
       "Loading checkpoint shards:   0%|          | 0/4 [00:00<?, ?it/s]"
      ]
     },
     "metadata": {},
     "output_type": "display_data"
    },
    {
     "name": "stderr",
     "output_type": "stream",
     "text": [
      "Special tokens have been added in the vocabulary, make sure the associated word embeddings are fine-tuned or trained.\n"
     ]
    },
    {
     "name": "stdout",
     "output_type": "stream",
     "text": [
      "\n",
      "        system : 한국말로만 대답하고 최대한 간결하고 알기쉽게 정리해줘.\n",
      "        user : 사건의 title과 판시사항을 보고 판결 결과와 그 이유를 예측해줘\n",
      "        \n",
      " title:[배임]〈대물변제예약 사안에서 배임죄 사건〉 [공2014하,1923]\n",
      "판시사항:[1] 채권 담보 목적으로 부동산에 관한 대물변제예약을 체결한 채무자가 대물로 변제하기로 한 부동산을 제3자에게 처분한 경우, 배임죄가 성립하는지 여부(소극)\n",
      "[2] 채무자인 피고인이 채권자 갑에게 차용금을 변제하지 못할 경우 자신의 어머니 소유 부동산에 대한 유증상속분을 대물변제하기로 약정한 후 유증을 원인으로 위 부동산에 관한 소유권이전등기를 마쳤음에도 이를 제3자에게 매도함으로써 갑에게 손해를 입혔다고 하여 배임으로 기소된 사안에서, 피고인이 ‘타인의 사무를 처리하는 자’의 지위에 있다고 볼 수 없는데도, 이와 다른 전제에서 유죄를 인정한 원심판결에 법리오해의 위법이 있다고 한 사례\n",
      "\n",
      "        assistant : \n",
      "    \n",
      "\n",
      "1. 배임죄는 타인의 사무를 처리하는 자가 그 임무에 위배하는 행위로 재산상 이익을 취득하여 사무의 주체인 타인에게 손해를 가함으로써 성립하는 것이므로 그 범죄의 주체는 타인의 사무를 처리하는 지위에 있어야 한다. 여기에서 ‘타인의 사무’를 처리한다고 하려면 당사자 관계의 본질적 내용이 단순한 채권채무 관계를 넘어서 그들 간의 신임관계에 기초하여 타인의 재산을 보호 또는 관리하는 데 있어야 하고, 그 사무가 타인의 사무가 아니고 자기의 사무라면 그 사무의 처리가 타인에게 이익이 되어 타인에 대하여 이를 처리할 의무를 부담하는 경우라도 그는 타인의 사무를 처리하는 자에 해당하지 아니한다(대법원 2011. 1. 20. 선고 2008도10479 전원합의체 판결 참조).\n",
      "채무자가 채권자에 대하여 소비대차 등으로 인한 채무를 부담하고 이를 담보하기 위하여 장래에 부동산의 소유권을 이전하기로 하는 내용의 대물변제예약에서, 그 약정의 내용에 좇은 이행을 하여야 할 채무는 특별한 사정이 없는 한 ‘자기의 사무’에 해당하는 것이 원칙이다.\n",
      "채무자가 대물변제예약에 따라 부동산에 관한 소유권을 이전해 줄 의무는 그 예약 당시에 확정적으로 발생하는 것이 아니라 채무자가 차용금을 제때에 반환하지 못하여 채권자가 예약완결권을 행사한 후에야 비로소 문제가 되는 것이고, 채무자는 예약완결권 행사 이후라도 얼마든지 금전채무를 변제하여 당해 부동산에 관한 소유권이전등기절차를 이행할 의무를 소멸시키고 그 의무에서 벗어날 수 있다. 한편 채권자는 당해 부동산을 특정물 그 자체보다는 담보물로서의 가치를 평가하고 이로써 기존의 금전채권을 변제받는 데 주된 관심이 있으므로, 채무자의 채무불이행으로 인하여 대물변제예약에 따른 소유권등기를 이전받는 것이 불가능하게 되는 상황이 초래되어도 채권자는 채무자로부터 금전적 손해배상을 받음으로써 대물변제예약을 통해 달성하고자 한 목적을 사실상 이룰 수 있는 것이다. 이러한 점에서 대물변제예약의 궁극적 목적은 차용금반환채무의 이행 확보에 있고, 채무자가 대물변제예약에 따라 부동산에 관한 소유권이전등기절차를 이행할 의무는 그 궁극적 목적을 달성하기 위해 채무자에게 요구되는 부수적 내용이어서 이를 가지고 배임죄에서 말하는 신임관계에 기초하여 채권자의 재산을 보호 또는 관리하여야 하는 ‘타인의 사무’에 해당한다고 볼 수는 없다.\n",
      "그러므로 채권 담보를 위한 대물변제예약 사안에서 채무자가 대물로 변제하기로 한 부동산을 제3자에게 처분하였다고 하더라도 형법상 배임죄가 성립하는 것은 아니다.\n",
      "이와 달리 채권 담보를 위한 대물변제예약 사안에서 배임죄의 성립을 인정한 대법원 2000. 12. 8. 선고 2000도4293 판결 등은 이를 폐기하기로 한다.\n",
      "원심은, 피고인이 공소외인에게 차용금 3억 원을 변제하지 못할 경우 피고인의 어머니 소유의 이 사건 부동산에 대한 유증상속분을 대물변제하기로 약정하였고, 그 후 피고인은 유증을 원인으로 이 사건 부동산에 관한 소유권이전등기를 마쳤음에도 이를 누나와 자형에게 매도함으로써 이 사건 부동산의 실제 재산상 가치인 1억 8,500만 원 상당의 재산상 이익을 취득하고 공소외인에게 동액 상당의 손해를 입혔다는 이 사건 공소사실에 대하여, 피고인에 대하여 유죄를 선고한 제1심판결을 그대로 유지하였다.\n",
      "그러나 앞서 본 법리에 비추어 살펴보면, 피고인이 대물변제예약에 따라 공소외인에게 이 사건 부동산의 소유권이전등기를 마쳐 줄 의무는 민사상의 채무에 불과할 뿐 타인의 사무라고 할 수 없으므로 피고인이 ‘타인의 사무를 처리하는 자’의 지위에 있다고 볼 수 없다. 그런데도 원심은 피고인이 이에 해당된다고 전제하여 이 사건 공소사실을 유죄로 판단하였으니, 이러한 원심판결에는 배임죄에 있어서 ‘타인의 사무를 처리하는 자’의 의미에 관한 법리를 오해한 위법이 있다.\n",
      "그러므로 상고이유에 대한 판단을 생략한 채, 원심판결을 파기하고 사건을 다시 심리·판단하게 하기 위하여 원심법원에 환송하기로 하여 주문과 같이 판결한다. 이 판결에는 대법관 양창수, 대법관 신영철, 대법관 민일영, 대법관 김용덕의 반대의견이 있는 외에는 관여 법관의 의견이 일치하였고, 다수의견에 대한 대법관 김신, 대법관 조희대의 보충의견이 있다.\n",
      "2. 대법관 양창수, 대법관 신영철, 대법관 민일영, 대법관 김용덕의 반대의견은 다음과 같다.\n",
      "가. 다수의견은 요컨대, 채무를 담보하기 위하여 부동산에 관한 대물변제예약을 체결한 채무자가 채권자에게 그 부동산에 대한 소유권이전등기절차를 이행할 의무는 ‘자기의 사무’일 뿐 ‘타인의 사무’에 해당하지 않으므로, 채무자가 그 부동산을 제3자에게 처분하더라도 배임죄가 성립하지 않는다는 것이다.\n",
      "그러나 이러한 다수의견은 거래관계에서 발생하는 당사자 간의 신임관계를 보호하기 위하여 타인의 재산보전에 협력할 의무가 있는 경우에는 배임죄의 주체인 ‘타인의 사무를 처리하는 자’에 해당한다고 보아 온 이제까지의 대법원판례와 논리적으로 일관되지 않을 뿐만 아니라, 담보계약에 기초한 신임관계도 배임죄에 의해 보호되어야 할 법익이 될 수 있다는 점을 도외시한 것이어서 찬성할 수 없다.\n",
      "나. 배임죄의 본질은 신임관계에 기한 타인의 신뢰를 저해하는 임무위반행위를 함으로써 그 타인으로 하여금 재산상 손해를 입게 하는 데 있고, 이러한 임무위반행위에는 사무의 내용, 성질 등 구체적 상황에 비추어 법률의 규정, 계약의 내용 혹은 신의칙상 당연히 할 것으로 기대되는 행위를 하지 않거나 당연히 하지 않아야 할 것으로 기대되는 행위를 함으로써 타인과의 신임관계를 저버리는 일체의 행위가 포함된다(대법원 1987. 4. 28. 선고 83도1568 판결 등 참조).\n",
      "이와 같이 배임죄의 행위 태양은 일정한 행위 유형에 국한되지 않고 다양한 형태로 발현될 수 있으나, 그렇다고 거래관계에서 발생하는 모든 신뢰위반행위를 배임죄로 처벌할 수는 없으므로 형벌법규의 해석을 통하여 일정한 범위로 가벌적 배임행위를 제한할 수밖에 없음은 물론이다. 그러나 다른 한편으로는, 배임죄의 구성요건 자체가 이러한 제한적 해석의 필요성을 내포하고 있다 하더라도 그러한 해석을 통하여 배임죄의 처벌 범위를 지나치게 축소함으로써 형사법에 의해 마땅히 보호되어야 할 개인의 재산권이나 개인 간의 신임관계가 그 보호범위에서 제외되어 형벌법규로서의 배임죄가 그 본연의 기능을 다하지 못하게 하는 것 또한 경계하여야 한다.\n",
      "종래 대법원은 타인의 재산관리에 관한 사무를 대행하는 경우 외에도 등기절차의 이행과 같이 매매, 담보권설정 등 거래를 완성하기 위한 자기의 사무인 동시에 상대방의 재산보전에 협력할 의무의 이행인 경우에도 일관하여 이를 배임죄에서 말하는 ‘타인의 사무’에 해당한다고 보아 왔다(대법원 1983. 2. 8. 선고 81도3137 판결, 대법원 2014. 2. 27. 선고 2011도3482 판결 등 참조). 그 결과 대법원은, 부동산 매매에서 매도인이 중도금을 수령한 후에는 그 계약의 내용에 좇아 소유권이전등기를 하여야 하는 의무를 이행하는 것은 채무자로서의 자기 사무의 처리라는 측면과 상대방의 재산보전에 협력하는 타인 사무의 처리라는 성격을 동시에 가지므로, 이러한 단계에 이른 후에 매도인이 그 부동산을 제3자에게 처분하는 행위는 매수인을 위한 등기협력의무를 위반하는 것으로서 배임죄에 해당한다는 판례를 확립하여 왔다(대법원 1986. 7. 8. 선고 85도1873 판결, 대법원 1988. 12. 13. 선고 88도750 판결, 대법원 2008. 7. 10. 선고 2008도3766 판결 등 참조). 부동산 매도인이 매수인에게 등기를 하여 그 권리를 이전하는 것은 단순히 매매계약에 따른 소유권이전의무의 이행이 아니라 부동산 거래에서 형성되어 온 매도인과 매수인 사이의 강한 신뢰관계에 기초를 둔 것으로서, 매매계약의 이행 내지 등기에 관한 협조·협력의무는 그와 같은 신뢰관계에 따른 의무로 평가될 수 있고(대법원 2001. 10. 9. 선고 2000다51216 판결 등 참조), 그와 같은 신뢰관계 아래에서 협조·협력의무를 지는 매도인의 지위는 매수인의 권리 취득에 관한 사무를 처리하는 자로 평가될 수 있는 것이다. 그래서 판례는 위와 같이 부동산의 이중매도인에 대하여 형법적으로 배임죄가 성립한다고 본 것이다.\n",
      "나아가 이러한 부동산에 관한 권리이전의 신뢰관계 및 그에 대한 보호 필요성은 매매계약뿐만 아니라 부동산에 관한 권리의 이전·설정을 목적으로 하는 다른 법률관계에서도 마찬가지로 인정되는 것이고, 때문에 그동안 판례는 이러한 법률관계에 대하여도 배임죄를 적용하여 왔다. 그리하여 근저당권설정계약을 체결한 후 그에 따른 등기절차를 이행하기 전에 제3자에게 부동산을 처분하거나 근저당권설정등기를 하여 준 경우(대법원 2008. 3. 27. 선고 2007도9328 판결, 대법원 2011. 11. 10. 선고 2011도11224 판결 등 참조), 부동산에 대한 전세권설정계약이나 양도담보설정계약 후 그에 따른 등기절차를 이행하기 전에 제3자에게 근저당권설정등기나 전세권설정등기를 하여 줌으로써 담보능력 감소의 위험을 발생시킨 경우(대법원 1993. 9. 28. 선고 93도2206 판결, 대법원 1997. 6. 24. 선고 96도1218 판결 등 참조) 등에도 배임죄의 성립을 인정하였다.\n",
      "이러한 판례의 축적을 통하여, 등기협력의무 등 거래 상대방의 재산보전에 협력하여야 할 의무가 있는 사람이 고의로 그 임무를 위반하여 상대방에게 회복하기 어려운 손해를 입힌 경우에는 배임죄로 처벌받을 수 있다는 것이 우리 사회의 확립된 법원칙으로 자리매김하게 되었고, 이러한 법리는 위에서 본 것과 같은 전형적인 배신행위에 대하여는 형벌법규의 개입이 정당하다는 사회적 합의에 의해 지지되고 있는 것이다.\n",
      "다. 이와 같은 판례의 일관된 논리에 비추어 볼 때, 이 사건과 같이 담보 목적으로 부동산에 관한 대물변제예약을 체결한 후 그 부동산을 제3자에게 임의로 처분한 경우에도 배임죄가 성립한다고 보아야 한다.\n",
      "다수의견이 대물변제예약에 따라 부동산의 소유권이전등기절차를 이행하는 것을 약정에 따른 ‘자기의 사무’에 해당할 뿐 ‘타인의 사무’가 아니라고 보는 것은 대물변제예약에서 비롯되는 채권자와 채무자의 신임관계를 단지 민사상 계약의 이행이라는 관점에서만 파악한 것이어서 찬성하기 어렵다.\n",
      "종래의 판례가 부동산을 이중매매한 매도인에 대하여 배임죄를 인정한 것은 매매계약에 따라 부동산의 소유권을 이전하지 않았다는 계약상의 단순한 채무불이행을 이유로 한 것이 아니라, 거래 상대방인 매수인의 부동산 등기절차에 협력하여야 할 의무가 있는 매도인이 고의로 신뢰를 저버리고 매수인의 부동산 소유권 취득을 불가능하게 하였다는 데 그 이유가 있는 것이다. 즉, 부동산 거래관계의 특성상 매도인은 매수인에게 그의 소유권 취득을 불가능하게 할 위험을 끼칠 수 있는 지위에 있기 때문에 배임죄의 주체가 되는 ‘타인의 사무를 처리하는 자’에 해당한다고 본 것이다. 이렇게 볼 때 대물변제예약을 체결한 채무자가 대물로 제공하기로 한 부동산을 제3자에게 처분한 경우도 배임죄의 성립 여부에 있어 부동산 이중매매와 다를 게 없다. 오히려 매매의 경우 매도인이 중도금만 받은 단계에서는 매수인의 소유권이전등기청구에 대하여 매도인이 잔금과의 동시이행 항변을 주장할 수 있음에도 불구하고 이중매매 시 배임죄를 인정하고 있는바(대법원 1988. 12. 13. 선고 88도750 판결 등 참조), 대물변제예약을 한 경우에는 장차 채권자가 예약완결권을 행사하면 채무자로서는 그러한 항변조차 못하고 소유권이전등기에 응할 수밖에 없을 뿐만 아니라(이는 마치 매매잔금까지 다 수령한 부동산 매도인의 지위와 유사하다), 실제로 채권자가 예약완결권을 행사한 후에는 소유권이전등기절차를 이행할 의무가 현실화되어 민법 제607조에 해당하지 아니하는 한 그 소유권 이전이 종국적인 의무가 되므로 당해 부동산을 다시 제3자에게 처분하면 배임죄가 성립한다고 하는 것이 논리적이다. 매매를 원인으로 소유권을 넘겨주기로 했던 부동산은 다른 사람에게 처분하면 배임죄가 되지만, 기존의 채무를 변제하는 대신에 소유권을 넘겨주기로 했던 부동산은 다른 사람에게 처분해도 배임죄가 안 된다고 하는 것은 논리적인 설득력이 떨어진다.\n",
      "우리나라와 같은 성문법국가에서는 판례가 법령만큼 구속력을 지니는 것이 아님은 물론이다. 그러나 오랜 시간에 걸쳐 축적되어 온 판례는 재판의 실제에 있어 법령 못지않게 재판의 준칙으로 작용한다. 때문에 그러한 판례는 논리적으로 일관되어야 하며, 그것이 논리를 떠나 구체적 타당성의 추구를 내세워 사안에 따라 달리 적용된다면 자연히 예측가능성을 상실하고 그 결과 재판 실무에 혼란을 초래할 수밖에 없다.\n",
      "그런 점에서, 같은 이중매매임에도 불구하고 그 대상이 부동산이면 배임죄가 성립하고 동산이면 배임죄가 성립하지 않는다고 하면서 그 논거를 부동산이 갖는 재산적 특수성과 등기의무자의 등기협력의무에서 찾는 것(대법원 2011. 1. 20. 선고 2008도10479 전원합의체 판결 참조)의 당부는 차치하더라도, 등기절차에 협력하여야 한다는 신임관계에 기초한 임무위반행위라는 면에서 그 행위의 불법성이나 비난가능성의 정도가 매매와 담보 사이에 결정적으로 질적인 차이가 있는 것도 아닐진대, 양자의 형사처벌을 달리하는 것이 그동안 재산의 이중적 처분(매매, 근저당권설정, 전세권설정, 채권양도 등)에 관하여 대법원이 일관하여 취해 온 태도에 비추어 볼 때 과연 논리적으로 온당한지 의문이 아닐 수 없다.\n",
      "라. 다수의견은, 대물변제예약의 궁극적 목적은 차용금반환의무의 이행 확보에 있고, 채무자가 대물변제예약에 따라 부동산에 관한 소유권이전등기절차를 이행할 의무는 계약의 본질적 내용이라기보다는 그 궁극적 목적을 달성하기 위한 부수적 내용에 불과하므로, 채무자가 당해 부동산을 제3자에게 처분하더라도 배임죄가 성립하지 않는다고 한다.\n",
      "그러나 담보계약을 통해 채권자가 취득하는 담보권은 그 자체로 독립된 재산적 가치가 있을 뿐만 아니라, 담보물의 담보가치에 대한 채권자의 신뢰 또한 형사법에 의해 보호되어야 할 고유한 법률상 이익에 해당한다. 앞에서 본 것처럼 대물변제예약 후에 채권자가 예약완결권을 행사하면 채무자는 그 예약 대상 부동산에 관하여 소유권이전등기절차를 이행하여야 하는데, 이러한 부동산 소유권의 이전이라는 법률관계는 금전채무의 변제와는 또 다른 차원의 것이다. 그뿐만 아니라 금전을 차용하면서 그 담보로 대물변제예약을 하는 경우에 그 대물변제예약은 금전 차용의 전제가 되는 것으로서 금전소비대차 거래의 부수적인 내용에 불과하다고 할 수 없으며, 오히려 그 대물변제예약에 의한 채권자의 권리 및 그에 따른 담보가치를 유지·보전하여야 할 채무자의 의무 이행 내지 그에 대한 신뢰관계는 당사자 사이에서 금전소비대차를 가능하게 하는 본질적인 요소가 된다. 이는 마치 근저당권의 설정을 전제로 금전소비대차를 하는 것과 동일한 구조를 띠는 것으로서, 근저당권설정조건부 금전소비대차에서 근저당권설정등기의 이행이 부수적인 것이 아니라 본질적인 요소인 것과 마찬가지이다.\n",
      "그러므로 담보계약을 체결한 채권자와 채무자 사이에는 그 담보계약 자체로부터 피담보채권의 발생원인이 된 법률관계와는 별도의 독자적인 신임관계가 발생한다고 보아야 한다. 부동산 매매계약에서 신임관계의 본질이 부동산의 소유권을 이전하는 데 있는 것과 마찬가지로, 담보 목적으로 체결된 대물변제예약에서 신임관계의 본질은 담보로 제공하기로 한 부동산의 담보가치를 채권자에게 취득하게 하는 데 있으며, 이는 결국 배임죄의 성립 여부에 있어 양자가 다르지 않다는 것을 의미한다.\n",
      "다수의견의 논리대로라면, 신축한 아파트의 시행자가 일부 세대에 관하여는 분양계약을 체결하고 일부 세대에 관하여는 시공자에 대한 공사대금채무의 담보를 위한 대물변제예약을 체결한 아파트 전체를 제3자에게 일괄적으로 처분한 경우, 수분양자에 대하여는 배임죄가 성립하지만 시공자에 대하여는 배임죄가 성립하지 않는다는 결론에 이르게 된다. 그러나 시행자의 배신적 처분행위로 인해 침해된 수분양자의 아파트 소유권에 대한 신뢰와 시공자의 아파트 담보가치에 대한 신뢰를 형법상으로 차별하여야 할 합리적 근거가 무엇인지, 또 위와 같은 결론이 과연 정당한 것인지 의문이 아닐 수 없다.\n",
      "이와 관련하여 다수의견은, 채무자의 배신행위로 인하여 대물변제예약에 따른 소유권이전등기를 넘겨받는 것이 불가능하게 되더라도 채권자는 채무자로부터 금전적 손해배상을 받음으로써 대물변제예약을 통해 달성하고자 한 목적을 사실상 이룰 수 있으므로 배임죄를 논할 것이 아니라고 한다. 그러나 이러한 논리는 형법상 범죄의 성립 여부를 논의의 차원을 달리하는 민사상 손해배상채권에 견련시키는 것으로서 옳지 않다. 이는 마치 변제의 능력과 의사가 있는 것처럼 기망하여 금전을 차용함으로써 사기죄가 성립한 이상 피해자가 그 금원 상당의 손해배상채권을 취득한다고 하여 사기죄의 성립 여부가 달라지는 것이 아니며, 나중에 피해자가 실제로 그 금원을 변제받는다 하더라도 사기죄가 여전히 인정되는 것과 동일한 이치이다. 나아가 다수의견의 위 논거는 대물변제예약을 체결한 당사자의 진정한 의사에도 부합하지 않는다. 채권자는 원래의 채권에 대한 담보를 취득하기 위하여 대물변제예약을 체결한 것인데 그 담보물이 없어진 후에도 채무자의 일반재산으로부터 금전적 손해배상을 받기만 하면 대물변제예약의 목적이 달성된 것과 같다고 하는 것은 담보계약으로서의 대물변제예약 자체를 무의미한 것으로 만드는 것이나 다름없다. 통상적인 거래에서 채권자는 담보권의 유무에 따라 피담보채권의 원인이 되는 법률행위에 나아갈지를 결정하게 되므로 법률적으로 보나 경제적으로 보나 담보가치의 취득과 보전은 거래당사자에게 중요한 의미가 있는 것인데, 유독 배임죄의 해석에 있어서만 이를 부수적인 의미에 불과하다고 치부하는 것은 법리적으로도 옳지 않고, 일반 국민의 법감정에도 부합하지 않는다.\n",
      "마. 끝으로, 거래 현실에서는 당사자 사이에 체결된 대물변제예약이 담보 목적으로 체결된 것인지 아니면 기존 채무의 소멸을 전제로 그를 대체하는 새로운 채무의 내용을 정하기 위하여 체결된 것인지 그 문언만으로는 분명하지 않은 경우가 많은데, 다수의견이 그 중 담보 목적으로 체결된 대물변제예약의 경우에만 배임죄가 성립하지 않는다는 취지라면 이러한 해석은 많은 경우에 형벌법규의 해석에 관한 법적 안정성을 크게 훼손하는 결과를 초래할 수 있다는 점을 유념하여야 할 것이다. 만일 다수의견이 후자의 경우에도 배임죄가 성립하지 않는다고 보는 것이라면 그 부당성에 관하여는 더 말할 것도 없이 이제껏 지적하여 온 논의가 그대로 적용되므로 더 이상 언급하지 아니한다.\n",
      "바. 결론적으로, 담보 목적으로 부동산에 관한 대물변제예약을 체결한 채무자가 그 신임관계를 위반하여 당해 부동산을 제3자에게 처분함으로써 채권자로 하여금 그 부동산의 소유권 취득을 불가능하게 하거나 현저히 곤란하게 하였다면 이러한 행위는 대물변제예약에서 비롯되는 본질적·전형적 신임관계를 위반한 것으로서 배임죄에 해당한다고 보아야 한다. 그리고 그렇게 보는 것이 부동산의 이중매매, 이중근저당권설정, 이중전세권설정에 관하여 배임죄를 인정하여 온 판례의 확립된 태도와 논리적으로 부합한다. 이들 판례들을 근본적으로 부인한다면 모를까, 그렇지 않고 단지 대물변제예약의 경우에만 심정적으로 다소 부당하다는 생각에 달리 취급하다가는 자칫 교각살우의 우를 범하는 것이 아닐지 저어된다.\n",
      "이상의 법리에 비추어 보면, 이 사건에서 대물변제예약을 체결한 피고인이 대물로 제공하기로 한 부동산을 자신의 누나와 자형에게 임의로 처분한 행위가 배임죄에 해당한다고 본 제1심을 유지한 원심의 판단은 정당하고, 거기에 배임죄에 있어서의 ‘타인의 사무를 처리하는 자’의 의미에 관한 법리를 오해한 잘못이 없다.\n",
      "이상과 같은 이유로 다수의견에 반대하는 취지를 밝힌다.\n",
      "3. 다수의견에 대한 대법관 김신, 대법관 조희대의 보충의견은 다음과 같다.\n",
      "가. 종래 대법원은 등기협력의무를 매개로 하여 부동산 이중매매, 이중저당 등 일정한 계약 파기 사안에 대하여 형법상 배임죄의 성립을 인정해 왔다. 배임죄에 있어서 ‘타인의 사무’라고 함은 신임관계에 기초하여 타인의 재산의 보호 또는 관리의무가 있음을 그 본질적 내용으로 하는 것인데, 매매나 담보권설정 등에 있어서 등기협력의무도 이에 포함된다고 보았다. 이러한 판례의 입장은 채권채무 관계에서 신임관계의 유형과 정도를 구별하지 않은 채 등기협력의무의 존재가 인정되기만 하면 예외 없이 그 의무의 이행불능을 초래한 등기의무자를 배임죄로 처벌하기에 이르렀다. 이러한 대법원 판결의 태도에 따르면, 이 사건과 같은 채권 담보를 위한 대물변제예약의 경우에도 그에 따른 등기협력의무를 지게 되므로 배임죄가 성립된다고 보아야 하겠지만, 다수의견은 등기협력의무가 존재한다는 사실만으로 등기의무자가 당연히 ‘타인의 사무’를 처리하는 자에 해당한다거나 배임죄가 성립한다고 할 수 없음을 명확히 밝히고 있다.\n",
      "나. 판례는 계약에 따른 등기협력의무가 자기의 거래를 완성하기 위한 자기 사무의 처리라는 측면과 상대방의 재산보전에 협력하는 타인 사무의 처리라는 성격을 동시에 가진다고 보아 이를 부동산 이중매매, 이중저당 등 사안에서 배임죄의 처벌 근거로 삼아왔다(대법원 1983. 2. 8. 선고 81도3137 판결 등 참조). 그러나 등기협력의무가 부동산 거래에 있어서 배임죄의 처벌을 정당화하는 근거가 될 수 있는지에 대하여는 다음과 같은 근본적인 의문이 있다.\n",
      "(1) 채무자가 계약의 내용에 좇아 채무를 이행하는 것은 ‘자기 사무’의 처리이다. 채무자가 계약에 따른 이행을 함으로써 결과적으로 채권자가 권리의 실현이라는 이익을 얻는다고 하여도 그 이행은 어디까지나 채무자가 자기의 의무를 다하는 것일 뿐이다. 이를 넘어 채무자에게 내부적 신임관계에 기초하여 채권자의 재산보전에 협력할 의무가 있다거나, 나아가 그 의무가 신임관계의 전형적·본질적 내용이 되어 결국 채무자가 타인인 채권자의 사무를 대신 처리하는 관계에 있다고 볼 근거는 어디서도 찾을 수 없다. 마찬가지로 부동산 거래에서 매도인이 등기절차이행의무를 이행하는 것 역시 자기 사무의 처리일 뿐이다. 계약에 따른 의무의 이행으로 결과적으로 매수인이 매매계약의 내용을 실현하는 이익을 얻게 된다는 이유로 매도인이 타인인 매수인을 위한 사무를 처리하는 지위에 있다고 말할 수 있을지는 몰라도, 타인인 매수인의 사무를 대신 처리하는 지위에 있다고 말할 수는 없다.\n",
      "(2) 대법원 2011. 1. 20. 선고 2008도10479 전원합의체 판결은 매매와 같이 당사자 일방이 재산권을 상대방에게 이전할 것을 약정하고 상대방이 그 대금을 지급할 것을 약정함으로써 그 효력이 생기는 계약의 경우 쌍방이 그 계약의 내용에 좇은 이행을 하여야 할 채무는 특별한 사정이 없는 한 ‘자기의 사무’에 해당한다는 점을 분명히 하면서, 동산매매계약에서 매도인은 매수인에게 계약에서 정한 바에 따라 그 목적물인 동산을 인도함으로써 그 계약의 이행을 완료하게 되고 그때 매수인은 매매목적물에 대한 권리를 취득하는 것이므로, 매도인에게 자기의 사무인 동산인도채무 외에 별도로 매수인의 재산의 보호 또는 관리 행위에 협력할 의무가 있다고 할 수 없다고 보아 동산매매계약에서 매도인은 매수인에 대하여 그의 사무를 처리하는 지위에 있지 아니하다고 판시하였다. 이러한 법리를 적용함에 있어서 계약의 목적물이 부동산인지 동산인지에 따라 차이를 둘 이유가 없다. 목적물이 부동산이든 동산이든 매매목적물에 대한 권리의 변동은 당사자 사이의 합의와 공시방법의 구비에 의하여 발생한다는 점에서 그 법적 구조가 동일하고, 다만 그 공시방법이 등기 또는 인도라는 점에서 차이가 있을 뿐이다. 그런데도 동산인도의무는 매도인의 자기의 사무로서 배임죄의 대상이 될 수 없는 데 반해, 부동산 등기협력의무는 매도인의 자기 사무의 처리인 동시에 매수인인 타인의 사무의 처리가 되어 국가형벌권의 개입이 정당화된다는 논리는 배임죄에서 타인의 사무를 통일적으로 이해하는 데 어려움을 가져온다.\n",
      "(3) 종전 판례는 부동산 매매계약에서 매도인에게는 등기협력의무가 있고, 등기협력의무는 자기의 사무라는 성격과 타인의 사무라는 성격을 동시에 가지고 있다고 판시하였다. 그러나 판례가 배임죄의 처벌 근거로 삼은 ‘등기협력의무’라는 용어는 민사적으로 인정되는 ‘등기절차이행의무’와 그 내용이 전혀 다르지 않다. 그리고 등기협력의무의 내용인즉슨, 매도인이 등기에 필요한 서류를 가지고 등기소에 출석하거나 혹은 등기에 필요한 서류를 등기권리자인 매수인에게 제공하는 것에 불과하다. 등기절차이행의무라는 민사적 의무를 위반하였다면 그에 따른 민사적인 책임을 지는 것으로 충분하고 나아가 배임죄로 처벌하자고 말하기는 쉽지 않을 것이다. 그런데도 굳이 등기절차이행의무라는 용어 대신 ‘등기협력의무’를 고안하여 놓고 그 의무는 자기의 사무임과 동시에 타인의 사무라고 하여 그 위반행위를 배임죄로 처벌할 수 있다는 주장은, 결국 민사상 채무불이행 사안을 형사처벌하겠다는 의지의 표현이라고 말할 수밖에 없다.\n",
      "(4) 부동산 소유권이전의무와 대가적·등가적 관계에 있는 반대의무와의 형평을 고려하지 않을 수 없다. 계약 당사자 일방에 대하여 상대방의 재산보전에 협력할 의무의 불이행을 이유로 배임죄의 성립을 인정한다면 그 반대의 경우에도 배임죄의 성립을 인정하는 것이 논리적으로 균형이 맞다. 그런데 대법원은 부동산매매에서 미리 소유권을 이전받은 매수인이 목적물을 담보로 제공하는 방법으로 매매대금을 마련하여 매도인에게 제공하기로 한 약정에 위반하여 소유권을 이전받은 후에 다른 용도로 근저당권을 설정한 사안에서 배임죄의 성립을 부정한다(대법원 2011. 4. 28. 선고 2011도3247 판결 참조). 배신적 행위라는 점에서 하등 다를 바 없는데도 매수인의 채무불이행에는 눈을 감고 매도인의 등기협력의무의 이행불능행위에 대하여만 두 눈을 부릅뜨고 배임죄의 성립을 인정하는 합당한 이유를 찾기 어렵다.\n",
      "다. 배임죄의 본질을 어떻게 이해하든, 배임죄의 주체는 ‘타인의 사무를 처리하는 자’이다. 즉, 배임죄는 ‘타인의 사무를 처리하는 자’라는 신분을 요하는 진정신분범이다. 따라서 배임죄의 성립을 인정하기 위해서는 임무위배행위가 있었는지를 따지기에 앞서 ‘타인의 사무를 처리하는 자’에 해당하는지를 먼저 따져보아야 한다. 그리고 그 해석을 함에 있어서 피고인에게 불리하게 확장해석하거나 유추해석하는 일은 경계하여야 함은 물론이다.\n",
      "종래 판례는, 배임죄에 있어서 ‘타인의 사무’라고 함은 신임관계에 기초를 둔 타인의 재산의 보호 또는 관리의무가 있을 것을 그 본질적 내용으로 하는 것이라고 하면서, 중도금 이상을 지급하고도 부동산의 소유권 취득을 법적으로 보장받지 못하는 매수인을 보호하기 위하여 부동산매매의 계약관계가 일정한 정도로 진행된 경우 매도인에게 매수인의 재산을 보호·관리하는 신임관계를 인정하여 그가 자신의 사무를 처리함과 동시에 타인의 사무를 처리한다고 평가하여 배임죄로 처벌하여 왔다.\n",
      "그러나 채무의 이행이 타인의 이익을 위하여 중요하다는 이유로 그것이 자신의 사무임과 동시에 타인의 사무가 된다는 논리는 수용하기 어렵다. 반대의견은 등기절차에 협력하여야 한다는 신임관계에 기초한 임무위반행위라는 점을 강조하고 있으나, 이는 임무위배 여부를 판단하는 요소가 될 수 있음은 별론으로 하고, 이러한 신임관계가 있다는 이유로 ‘타인의 사무를 처리하는 자’가 될 수는 없다. ‘타인의 사무’는 계약에서 정한 급부의 내용을 어떤 관점에서 보는가에 따라 상대적으로 이해될 수 있는 것이 아니라, 어떠한 신임관계 위배를 형법적으로 처벌할 수 있을지 죄형법정주의의 관점에서 엄격하게 해석·적용되어야 한다. 계약상 의무의 이행을 통하여 상대방으로 하여금 그 재산에 관한 완전한 권리를 취득하게 하기 전에 이를 다시 제3자에게 처분하는 등으로 상대방의 재산 취득 또는 보전에 지장을 초래하는 행위는 상대방의 이익과 신뢰를 저버리는 것으로서 비난가능성이 높다고 할 수 있다. 그러나 그 대부분의 경우 매도인이 위배한 임무라는 것은 ‘타인을 위한 사무’에 해당할 뿐 ‘타인의 사무’가 아니다. 매도인의 행위가 임무위배행위에 해당하는지 여부를 판단하기 이전에 과연 그 매도인이 ‘타인의 사무’를 처리하는 자에 해당하는지 여부를 먼저 판단하여야 한다. 매도인의 행위가 임무위배행위에 해당하고 그 위반행위가 상대방의 이익을 위한 것이라거나 그 의무의 불이행이 상대방의 이익과 신뢰를 해친다는 이유만으로 막바로 그 의무불이행에 대하여 배임죄의 죄책을 물을 수는 없다. 배임죄의 주체는 어디까지나 ‘타인의 사무를 처리하는 자’이어야 한다. 매도인에게 부동산 등기협력의무가 있다고 하더라도 그 의무가 매수인의 사무가 될 수는 없다.\n",
      "이러한 점에서 그동안 등기협력의무를 매개로 하여 부동산 이중매매, 이중저당 등의 사안에서 배임죄의 성립을 인정해 온 판례의 태도는 전면적인 재검토가 필요하다. 따라서 이 사건과 같은 채권 담보를 위한 대물변제예약 사안에서 채무자가 대물로 변제하기로 한 부동산을 제3자에게 처분하였다고 하더라도 형법상 배임죄가 성립하지 않는 것은 그 논리의 귀결에 비추어 당연한 결론이다.\n",
      "라. 설령 등기협력의무의 존재를 매개로 하여 ‘타인의 사무를 처리하는 자’의 지위를 인정해 온 기존 판례의 태도를 전제로 하더라도, 다음에서 보는 이유로 채권 담보를 위한 대물변제예약 사안에서 배임죄가 성립한다고 할 수 없다.\n",
      "(1) ‘타인의 사무’라고 하기 위해서는 본인의 재산보호가 신임관계의 전형적·본질적 내용이 되어야 하고 단순히 부수적 의무가 되는 것으로는 부족하다는 것이 판례의 태도이다. 따라서 채권채무 관계에서 신임관계의 유형과 정도를 구별하지 않은 채 등기협력의무의 존재가 인정되기만 하면 모두 신임관계의 전형적·본질적인 내용이 된다고 할 수는 없고, 계약관계에서 비롯되는 등기협력의무의 내용과 구속력의 정도에 있어서 차이가 있으므로 그것이 당사자 사이의 신임관계의 전형적·본질적 내용이 되는지 여부를 가려서 배임죄의 성부를 논해야 한다. 부동산 이중양도 사안에서 계약금만 지급한 단계에서는 계약관계의 파기가능성을 이유로 배임죄의 성립을 부정하고 있는 것도 등기협력의무의 내용과 구속력의 정도에 따라 배임죄의 성부를 달리하고 있음을 보여주는 사례로 볼 수 있다.\n",
      "(2) 채권 담보를 위한 대물변제예약은 본래의 금전채무를 이행하지 못할 것에 대비하여 담보 목적으로 부동산에 대한 소유권을 이전하기로 하는 약정으로 부동산에 관한 소유권이전등기의무가 있다는 점에서는 부동산 이중매매 사안과 유사해 보인다. 그러나 부동산 이중매매 사안에서 중도금을 수령한 매도인은 매수인의 대금지급의무의 불이행을 이유로 계약을 해제하지 않는 한 매수인에게 부동산의 소유권을 이전해 줄 의무에서 벗어날 길이 없다. 특히 잔금까지 모두 수령한 매도인은 매수인에게 그 부동산의 소유권을 이전해 주는 것만이 자신의 의무에서 벗어날 수 있는 유일한 방법이다. 이에 반해 채권 담보를 위한 대물변제예약 사안에서 채무자는 언제든지 자신의 차용금채무를 변제함으로써 채권자에게 그 부동산의 소유권을 이전해 줄 의무에서 벗어날 수 있다. 양자는 부동산에 관한 소유권이전등기를 마쳐줄 의무가 있다는 점은 유사하지만, 그 의무의 내용과 구속력의 정도에 있어서는 현저한 차이가 있다.\n",
      "(3) 부동산 이중매매 사안의 경우 배임죄라는 형사 제재를 통해 얻게 되는 사회적·경제적 효용은 매수인으로 하여금 특정 부동산의 소유권을 애초 약정한 대로 이전받게 하는 데 있다. 부동산 매매에 있어서 매수인은 특정물로서의 부동산의 가치를 파악하여 그 소유권을 이전받을 것을 기대하였다는 점에서 사후에 금전적 손해배상을 받더라도 그것만으로는 매매계약을 통해 이루고자 하는 목적을 달성할 수 없고, 다만 손해배상을 통해 그와 가치적으로 동등한 상태를 실현시킬 수 있을 뿐이다. 이러한 점에서 그 이행불능 사유를 초래한 매도인에 대하여 민사상 손해배상책임을 지우는 것 이외에 별도로 배임죄의 처벌을 통하여 매매계약의 이행을 강제하는 것은 그나마 정당화될 여지가 있다.\n",
      "이에 반해 채권 담보를 위한 대물변제예약 사안에서 배임죄라는 형사 제재를 통해 얻고자 하는 사회적·경제적 효용이라는 것은 채권자의 금전채권을 확보해 주는 것에 불과하다. 채권자는 담보물로서의 부동산의 가치를 파악하여 이로써 기존의 금전채권을 변제받는 데 주된 관심이 있으므로 부동산에 대한 담보권의 설정 그 자체보다는 기존 금전채권을 변제받는 데 궁극적인 목적이 있다. 그리하여 채권자는 채무자로부터 대물변제예약에 따른 소유권등기를 이전받지 못하더라도 채무자로부터 기존 금전채권을 변제받으면 대물변제예약을 통해 이루고자 한 목적을 사실상 달성하게 된다. 이러한 면에서 채권 담보를 위한 대물변제예약 사안에서 당사자 사이의 부동산 소유권이전에 관한 신임관계는 본질적·전형적인 것으로 보기 어렵다.\n",
      "마. 판례가 등기협력의무를 근거로 하여 배임죄의 성립을 인정해 온 데에는 나름대로 이유가 있었다. 부동산은 다른 재산과 달리 그 재산적 가치가 커서 거래당사자를 보호할 필요 역시 상대적으로 컸고, 또 의용 민법에서 현행 민법으로 변천하는 과정에서 의사주의의 잔재가 남아 있었던 거래현실을 무시할 수 없었던 것이다. 그렇지만 이제는 민법이 시행된 지 반세기가 넘었고 등기를 갖추어야만 소유권을 취득한다는 관념이 국민들 사이에서 확고하게 자리 잡았으며, 부동산보다 중요한 가치를 가진 재산도 많아졌다. 판례가 동산과 부동산의 이중양도 사안과 부동산 매매계약과 대물변제예약 사안에서 보인 일관성 없는 태도를 버리고, 이제는 원칙으로 돌아가 당사자 사이의 채권채무 관계에서 그 내용이 매매계약이든 대물변제예약이든 그 대상이 부동산이든 동산이든 묻지 않고 민사상 채무불이행에 불과한 사안을 배임죄로 처벌할 수 없다는 점을 분명히 해 둘 때라고 생각한다.\n",
      "바. 반대의견의 주된 요지는, 부동산 이중매매나 이중양도에 대하여 배임죄의 성립을 인정해 온 대법원 판례를 변경하지 않는 이상 이 사건 채권 담보를 위한 대물변제예약의 경우에도 배임죄의 성립을 인정하는 것이 논리적으로 일관되고, 담보계약에 기초한 신임관계의 위배도 배임죄로 처벌할 현실적 필요성이 있다는 것으로 이해된다. 그러나 반대의견은 부동산 등기협력의무가 왜 배임죄의 성립 근거가 되는지에 대한 이론적 근거를 설명하는 데 여전히 미흡할 뿐 아니라, ‘자기의 사무를 처리하는 자’이거나 기껏해야 ‘타인을 위한 사무를 처리하는 자’라고 볼 수 있을 뿐인 등기협력의무를 위반한 매도인 등을 ‘타인의 사무를 처리하는 자’에 해당한다고 해석함으로써 죄형법정주의의 원칙에 충실하지 않다는 비판을 피하기 어렵다. 그리고 차용금에 대한 채권 담보를 위하여 대물변제를 약속하였다가 이를 이행하지 못한 채무불이행 사안에 불과한 이 사건 사안의 경우에까지 채무자에게 신임관계에 기초하여 채권자의 재산을 보호 또는 관리할 의무가 있고 더욱이 그것이 신임관계의 전형적·본질적 내용이 되므로 배임죄로 처벌하여야 한다는 것은 결국 민사상 채무불이행을 형사처벌하여야 한다는 지나친 주장에 불과하다고 생각한다.\n",
      "이상과 같이 다수의견에 대한 보충의견을 밝힌다.\n",
      "대법원장   양승태(재판장)        대법관   양창수 신영철 민일영(주심) 이인복 이상훈 김용덕 박보영 고영한 김창석 김신 김소영 조희대\n"
     ]
    }
   ],
   "source": [
    "from peft import PeftModel\n",
    "\n",
    "text_decoder_id = f\"MLP-KTLim/llama-3-Korean-Bllossom-8B\"\n",
    "peft_model_id = f\"MLP-KTLim/llama-3-Korean-Bllossom-8B_Lora\"\n",
    "\n",
    "bnb_config = BitsAndBytesConfig(\n",
    "    load_in_4bit=True,\n",
    "    bnb_4bit_use_double_quant=True,\n",
    "    bnb_4bit_quant_type=\"nf4\",\n",
    "    bnb_4bit_compute_dtype=torch.bfloat16\n",
    ")\n",
    "\n",
    "# LoRA 적용 모델 불러오기\n",
    "base_model = AutoModelForCausalLM.from_pretrained(\n",
    "    text_decoder_id,\n",
    "    torch_dtype=torch.float16,\n",
    "    low_cpu_mem_usage=True, \n",
    "    quantization_config=bnb_config\n",
    "    )\n",
    "\n",
    "\n",
    "load_model = PeftModel.from_pretrained(base_model, peft_model_id)\n",
    "loaded_state_dict = load_file(\"/home/eahc00/NLP/term_project/MLP-KTLim/llama-3-Korean-Bllossom-8B_Lora/adapter_model.safetensors\")\n",
    "load_model.load_state_dict(loaded_state_dict, strict=False)\n",
    "tokenizer = AutoTokenizer.from_pretrained(text_decoder_id)\n",
    "\n",
    "ds = get_dataset(split=\"test\", get_prompt_only=True)\n",
    "\n",
    "load_model.to('cuda')\n",
    "\n",
    "i = 1\n",
    "inputs = tokenizer(ds[i]['prompt'], return_tensors=\"pt\")\n",
    "print(ds[i]['prompt'])\n",
    "print(ds[i]['label'])"
   ]
  },
  {
   "cell_type": "code",
   "execution_count": 18,
   "metadata": {},
   "outputs": [
    {
     "name": "stderr",
     "output_type": "stream",
     "text": [
      "The attention mask and the pad token id were not set. As a consequence, you may observe unexpected behavior. Please pass your input's `attention_mask` to obtain reliable results.\n",
      "Setting `pad_token_id` to `eos_token_id`:144783 for open-end generation.\n"
     ]
    },
    {
     "name": "stdout",
     "output_type": "stream",
     "text": [
      "['\\n        system : 한국말로만 대답하고 최대한 간결하고 알기쉽게 정리해줘.\\n        user : 사건의 title과 판시사항을 보고 판결 결과와 그 이유를 예측해줘\\n        \\n title:[배임]〈대물변제예약 사안에서 배임죄 사건〉 [공2014하,1923]\\n판시사항:[1] 채권 담보 목적으로 부동산에 관한 대물변제예약을 체결한 채무자가 대물로 변제하기로 한 부동산을 제3자에게 처분한 경우, 배임죄가 성립하는지 여부(소극)\\n[2] 채무자인 피고인이 채권자 갑에게 차용금을 변제하지 못할 경우 자신의 어머니 소유 부동산에 대한 유증상속분을 대물변제하기로 약정한 후 유증을 원인으로 위 부동산에 관한 소유권이전등기를 마쳤음에도 이를 제3자에게 매도함으로써 갑에게 손해를 입혔다고 하여 배임으로 기소된 사안에서, 피고인이 ‘타인의 사무를 처리하는 자’의 지위에 있다고 볼 수 없는데도, 이와 다른 전제에서 유죄를 인정한 원심판결에 법리오해의 위법이 있다고 한 사례\\n\\n        assistant : \\n    \\n상고이유를 판단한다.\\n1. 원심판결 이유를 원심이 채택한 증거에 비추어 살펴보면, 다음과 같은 사실을 알 수 있다.\\n가. 피고인은 1988. 6. 1. 피고인과 그의 부인인 공소외인 공소외인(이하 ‘공소외인’이라 한다) 사이의 배우자간 재산공정한혼이라는 재산공정한혼에 관한 혼인유치의 증명으로 ‘공소외인 소유 (위 1) 부동산에 대한 유증증서, (위 1) 부동산의 공시가액에 대한 유증증서’를 변제예금으로 지정한 채무를 이행할 경우, 위 (위 1) 부동산을 공소외인에게 모두 처분한다고 약정한 뒤 2006. 1. 6. 위 (위 1) 부동산에 관한 대물변제계약서를 공소외인으로 작성하여 공소외인이 중도정산한 금액을 지급받고 2006. 2. 11. 공소외인에게 등기를 하였다(이하 위 (위 1) 부동산을 취득하는 채무자로서의 피고인을 ‘피고인’이라 하고, 위 (위 1) 부동산을 취득하는 공소외인을 ‘피해자’라 한다. 이하 위와 같은 표현을 이용한다). 이에 따라 공소외인은 2006. 3. 1. 위 (위 1) 부동산에 대한 유증증서, (위 1) 부동산의 공시가액에 대한 유증증서를 변제한 채무를 이행하기 위하여 2006. 3. 1. 피고인으로부터 위 (위 1) 부동산을 취득하였다.\\n나. 공소외인은 2006. 3. 1. 피고인으로부터 위 (위 1) 부동산을 취득하면서 이 사건 유증증서에 의하여 변제받기로 한 대물변제증서를 제출하였다. 이에 따라 피고인은 2006. 3. 1. 공소외인을 상대로 대물변제증서를 첨부한 위 (위 1) 부동산에 관한 등기를 하였다. 한편 피고인은 2006. 3. 1. 공소외인과 각 서명 및 공증을 첨부하여 유증증서로 변제할 채무를 이행하기 위하여 2006. 3. 1. 공소자로부터 차용금 2억 원을 변제받기로 한 사실, 공소자로부터 차용금 2억 원의 변제를 받은 경우 (']\n"
     ]
    }
   ],
   "source": [
    "device = \"cuda\"\n",
    "\n",
    "with torch.no_grad():\n",
    "    inputs = {k: v.to(device) for k, v in inputs.items()}\n",
    "    outputs = load_model.generate(input_ids=inputs[\"input_ids\"], max_new_tokens=512)\n",
    "    print(tokenizer.batch_decode(outputs.detach().cpu().numpy(), skip_special_tokens=True))"
   ]
  },
  {
   "cell_type": "markdown",
   "metadata": {},
   "source": []
  },
  {
   "cell_type": "code",
   "execution_count": null,
   "metadata": {},
   "outputs": [],
   "source": []
  },
  {
   "cell_type": "code",
   "execution_count": null,
   "metadata": {},
   "outputs": [],
   "source": []
  }
 ],
 "metadata": {
  "kernelspec": {
   "display_name": "venv",
   "language": "python",
   "name": "python3"
  },
  "language_info": {
   "codemirror_mode": {
    "name": "ipython",
    "version": 3
   },
   "file_extension": ".py",
   "mimetype": "text/x-python",
   "name": "python",
   "nbconvert_exporter": "python",
   "pygments_lexer": "ipython3",
   "version": "3.10.12"
  }
 },
 "nbformat": 4,
 "nbformat_minor": 2
}
