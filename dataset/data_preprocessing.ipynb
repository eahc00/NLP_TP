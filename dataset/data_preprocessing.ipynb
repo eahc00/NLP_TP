{
 "cells": [
  {
   "cell_type": "code",
   "execution_count": 1,
   "metadata": {},
   "outputs": [],
   "source": [
    "import pandas as pd\n",
    "import json\n",
    "import re"
   ]
  },
  {
   "cell_type": "code",
   "execution_count": 2,
   "metadata": {},
   "outputs": [
    {
     "data": {
      "text/html": [
       "<div>\n",
       "<style scoped>\n",
       "    .dataframe tbody tr th:only-of-type {\n",
       "        vertical-align: middle;\n",
       "    }\n",
       "\n",
       "    .dataframe tbody tr th {\n",
       "        vertical-align: top;\n",
       "    }\n",
       "\n",
       "    .dataframe thead th {\n",
       "        text-align: right;\n",
       "    }\n",
       "</style>\n",
       "<table border=\"1\" class=\"dataframe\">\n",
       "  <thead>\n",
       "    <tr style=\"text-align: right;\">\n",
       "      <th></th>\n",
       "      <th>id</th>\n",
       "      <th>url</th>\n",
       "      <th>title</th>\n",
       "      <th>doc</th>\n",
       "    </tr>\n",
       "  </thead>\n",
       "  <tbody>\n",
       "    <tr>\n",
       "      <th>0</th>\n",
       "      <td>0</td>\n",
       "      <td>https://glaw.scourt.go.kr/wsjo/panre/sjo100.do...</td>\n",
       "      <td>대법원 2024. 4. 4. 선고 2023다298670 판결 [보수약정금]〈북한주민...</td>\n",
       "      <td>【판시사항】\\n[1] 북한주민이 상속 등으로 취득한 재산 그 자체는 물론이고 그 재...</td>\n",
       "    </tr>\n",
       "    <tr>\n",
       "      <th>1</th>\n",
       "      <td>1</td>\n",
       "      <td>https://glaw.scourt.go.kr/wsjo/panre/sjo100.do...</td>\n",
       "      <td>대법원 2024. 4. 4. 선고 2022두56661 판결 [입학전형이의신청거부처분...</td>\n",
       "      <td>【판시사항】\\n[1] 국립대학교 법학전문대학원 입시 과정에서 제칠일안식일예수재림교 ...</td>\n",
       "    </tr>\n",
       "    <tr>\n",
       "      <th>2</th>\n",
       "      <td>2</td>\n",
       "      <td>https://glaw.scourt.go.kr/wsjo/panre/sjo100.do...</td>\n",
       "      <td>대법원 2024. 3. 29.자 2024터2 결정 [피해자보호명령등에대한재항고]〈피...</td>\n",
       "      <td>【판시사항】\\n[1] 가정폭력범죄의 처벌 등에 관한 특례법에 도입된 피해자보호명령 ...</td>\n",
       "    </tr>\n",
       "    <tr>\n",
       "      <th>3</th>\n",
       "      <td>3</td>\n",
       "      <td>https://glaw.scourt.go.kr/wsjo/panre/sjo100.do...</td>\n",
       "      <td>대법원 2024. 3. 28. 선고 2023다308911 판결 [부당이득금]〈채무를...</td>\n",
       "      <td>【판시사항】\\n[1] 채무를 면하는 경우와 같이 어떠한 사실의 발생으로 당연히 발생...</td>\n",
       "    </tr>\n",
       "    <tr>\n",
       "      <th>4</th>\n",
       "      <td>4</td>\n",
       "      <td>https://glaw.scourt.go.kr/wsjo/panre/sjo100.do...</td>\n",
       "      <td>대법원 2024. 3. 28. 선고 2023도15133 판결 [성폭력범죄의처벌등에관...</td>\n",
       "      <td>【판시사항】\\n[1] 형사소송법 제313조 제1항에서 규정한 ‘전 2조의 규정 이외...</td>\n",
       "    </tr>\n",
       "    <tr>\n",
       "      <th>...</th>\n",
       "      <td>...</td>\n",
       "      <td>...</td>\n",
       "      <td>...</td>\n",
       "      <td>...</td>\n",
       "    </tr>\n",
       "    <tr>\n",
       "      <th>955</th>\n",
       "      <td>955</td>\n",
       "      <td>https://glaw.scourt.go.kr/wsjo/panre/sjo100.do...</td>\n",
       "      <td>대법원 2015. 7. 9. 선고 2015도3352 판결 [부정경쟁방지및영업비밀보호...</td>\n",
       "      <td>【판시사항】\\n[1] 저작권법 제2조 제28호 (가)목, (나)목에서 정한 ‘기술적...</td>\n",
       "    </tr>\n",
       "    <tr>\n",
       "      <th>956</th>\n",
       "      <td>956</td>\n",
       "      <td>https://glaw.scourt.go.kr/wsjo/panre/sjo100.do...</td>\n",
       "      <td>대법원 2015. 6. 24. 선고 2015도5916 판결 [횡령]〈공소시효 정지 ...</td>\n",
       "      <td>【판시사항】\\n공소시효 정지사유를 규정한 형사소송법 제253조 제3항의 입법 취지 ...</td>\n",
       "    </tr>\n",
       "    <tr>\n",
       "      <th>957</th>\n",
       "      <td>957</td>\n",
       "      <td>https://glaw.scourt.go.kr/wsjo/panre/sjo100.do...</td>\n",
       "      <td>대법원 2015. 6. 24. 선고 2013다522 판결 [구상금등]〈하자담보책임 ...</td>\n",
       "      <td>【판시사항】\\n[1] 민법상 매도인의 담보책임에 대한 특칙인 상법 제69조 제1항이...</td>\n",
       "    </tr>\n",
       "    <tr>\n",
       "      <th>958</th>\n",
       "      <td>958</td>\n",
       "      <td>https://glaw.scourt.go.kr/wsjo/panre/sjo100.do...</td>\n",
       "      <td>대법원 2015. 6. 24. 선고 2013다13849 판결 [손해배상(기)]〈금융...</td>\n",
       "      <td>【판시사항】\\n유사투자자문업자가 금융투자상품에 대한 고객의 투자판단에 영향을 미칠 ...</td>\n",
       "    </tr>\n",
       "    <tr>\n",
       "      <th>959</th>\n",
       "      <td>959</td>\n",
       "      <td>https://glaw.scourt.go.kr/wsjo/panre/sjo100.do...</td>\n",
       "      <td>대법원 2015. 6. 11. 선고 2015다200227 판결 [근저당권말소등]〈시...</td>\n",
       "      <td>【판시사항】\\n시효이익을 이미 포기한 자와의 법률관계를 통하여 비로소 시효이익을 원...</td>\n",
       "    </tr>\n",
       "  </tbody>\n",
       "</table>\n",
       "<p>960 rows × 4 columns</p>\n",
       "</div>"
      ],
      "text/plain": [
       "      id                                                url  \\\n",
       "0      0  https://glaw.scourt.go.kr/wsjo/panre/sjo100.do...   \n",
       "1      1  https://glaw.scourt.go.kr/wsjo/panre/sjo100.do...   \n",
       "2      2  https://glaw.scourt.go.kr/wsjo/panre/sjo100.do...   \n",
       "3      3  https://glaw.scourt.go.kr/wsjo/panre/sjo100.do...   \n",
       "4      4  https://glaw.scourt.go.kr/wsjo/panre/sjo100.do...   \n",
       "..   ...                                                ...   \n",
       "955  955  https://glaw.scourt.go.kr/wsjo/panre/sjo100.do...   \n",
       "956  956  https://glaw.scourt.go.kr/wsjo/panre/sjo100.do...   \n",
       "957  957  https://glaw.scourt.go.kr/wsjo/panre/sjo100.do...   \n",
       "958  958  https://glaw.scourt.go.kr/wsjo/panre/sjo100.do...   \n",
       "959  959  https://glaw.scourt.go.kr/wsjo/panre/sjo100.do...   \n",
       "\n",
       "                                                 title  \\\n",
       "0    대법원 2024. 4. 4. 선고 2023다298670 판결 [보수약정금]〈북한주민...   \n",
       "1    대법원 2024. 4. 4. 선고 2022두56661 판결 [입학전형이의신청거부처분...   \n",
       "2    대법원 2024. 3. 29.자 2024터2 결정 [피해자보호명령등에대한재항고]〈피...   \n",
       "3    대법원 2024. 3. 28. 선고 2023다308911 판결 [부당이득금]〈채무를...   \n",
       "4    대법원 2024. 3. 28. 선고 2023도15133 판결 [성폭력범죄의처벌등에관...   \n",
       "..                                                 ...   \n",
       "955  대법원 2015. 7. 9. 선고 2015도3352 판결 [부정경쟁방지및영업비밀보호...   \n",
       "956  대법원 2015. 6. 24. 선고 2015도5916 판결 [횡령]〈공소시효 정지 ...   \n",
       "957  대법원 2015. 6. 24. 선고 2013다522 판결 [구상금등]〈하자담보책임 ...   \n",
       "958  대법원 2015. 6. 24. 선고 2013다13849 판결 [손해배상(기)]〈금융...   \n",
       "959  대법원 2015. 6. 11. 선고 2015다200227 판결 [근저당권말소등]〈시...   \n",
       "\n",
       "                                                   doc  \n",
       "0    【판시사항】\\n[1] 북한주민이 상속 등으로 취득한 재산 그 자체는 물론이고 그 재...  \n",
       "1    【판시사항】\\n[1] 국립대학교 법학전문대학원 입시 과정에서 제칠일안식일예수재림교 ...  \n",
       "2    【판시사항】\\n[1] 가정폭력범죄의 처벌 등에 관한 특례법에 도입된 피해자보호명령 ...  \n",
       "3    【판시사항】\\n[1] 채무를 면하는 경우와 같이 어떠한 사실의 발생으로 당연히 발생...  \n",
       "4    【판시사항】\\n[1] 형사소송법 제313조 제1항에서 규정한 ‘전 2조의 규정 이외...  \n",
       "..                                                 ...  \n",
       "955  【판시사항】\\n[1] 저작권법 제2조 제28호 (가)목, (나)목에서 정한 ‘기술적...  \n",
       "956  【판시사항】\\n공소시효 정지사유를 규정한 형사소송법 제253조 제3항의 입법 취지 ...  \n",
       "957  【판시사항】\\n[1] 민법상 매도인의 담보책임에 대한 특칙인 상법 제69조 제1항이...  \n",
       "958  【판시사항】\\n유사투자자문업자가 금융투자상품에 대한 고객의 투자판단에 영향을 미칠 ...  \n",
       "959  【판시사항】\\n시효이익을 이미 포기한 자와의 법률관계를 통하여 비로소 시효이익을 원...  \n",
       "\n",
       "[960 rows x 4 columns]"
      ]
     },
     "execution_count": 2,
     "metadata": {},
     "output_type": "execute_result"
    }
   ],
   "source": [
    "ori_df = pd.read_json('./data_panre.json', lines=True)\n",
    "ori_df"
   ]
  },
  {
   "cell_type": "markdown",
   "metadata": {},
   "source": [
    "### 데이터 중복 제거"
   ]
  },
  {
   "cell_type": "code",
   "execution_count": 3,
   "metadata": {},
   "outputs": [
    {
     "data": {
      "text/plain": [
       "(0      False\n",
       " 1      False\n",
       " 2      False\n",
       " 3      False\n",
       " 4      False\n",
       "        ...  \n",
       " 875    False\n",
       " 876    False\n",
       " 877    False\n",
       " 878    False\n",
       " 879    False\n",
       " Length: 880, dtype: bool,\n",
       " 0)"
      ]
     },
     "execution_count": 3,
     "metadata": {},
     "output_type": "execute_result"
    }
   ],
   "source": [
    "duplicates = ori_df.duplicated(subset=['doc'])\n",
    "num_duplicates = ori_df.duplicated(subset=['doc']).sum()\n",
    "ori_df.drop_duplicates(subset=['doc'], keep='first', inplace=True)\n",
    "duplicates = ori_df.duplicated(subset=['doc'])\n",
    "num_duplicates = ori_df.duplicated(subset=['doc']).sum()\n",
    "duplicates, num_duplicates"
   ]
  },
  {
   "cell_type": "markdown",
   "metadata": {},
   "source": [
    "#### 필요없는 데이터 column drop"
   ]
  },
  {
   "cell_type": "code",
   "execution_count": 4,
   "metadata": {},
   "outputs": [
    {
     "data": {
      "text/plain": [
       "title    880\n",
       "doc      880\n",
       "dtype: int64"
      ]
     },
     "execution_count": 4,
     "metadata": {},
     "output_type": "execute_result"
    }
   ],
   "source": [
    "dropped_df = ori_df.drop(columns='url')\n",
    "dropped_df = dropped_df.drop(columns='id')\n",
    "dropped_df.count()"
   ]
  },
  {
   "cell_type": "markdown",
   "metadata": {},
   "source": [
    "#### 판례 title만 분리"
   ]
  },
  {
   "cell_type": "code",
   "execution_count": 5,
   "metadata": {},
   "outputs": [],
   "source": [
    "dropped_df['title'] = dropped_df['title'].str.replace(\"★\", \"\")\n",
    "dropped_df['title'] = dropped_df['title'].str.replace(\"*\", \"\")\n",
    "df_title1 = dropped_df['title'].str.split(r\"판결\\s+\\[\", expand=True)\n",
    "\n",
    "df_title1.columns = ['날짜', 'title']\n",
    "\n",
    "df_title1['title'] = '[' + df_title1['title']"
   ]
  },
  {
   "cell_type": "code",
   "execution_count": 6,
   "metadata": {},
   "outputs": [
    {
     "data": {
      "text/plain": [
       "날짜       880\n",
       "title    846\n",
       "dtype: int64"
      ]
     },
     "execution_count": 6,
     "metadata": {},
     "output_type": "execute_result"
    }
   ],
   "source": [
    "df_title1.count()"
   ]
  },
  {
   "cell_type": "code",
   "execution_count": 7,
   "metadata": {},
   "outputs": [],
   "source": [
    "df_title2 = dropped_df['title'].str.split(r\"결정\\s+\\[\", expand=True)\n",
    "\n",
    "df_title2.columns = ['날짜', 'title']\n",
    "\n",
    "df_title2['title'] = '[' + df_title2['title']"
   ]
  },
  {
   "cell_type": "code",
   "execution_count": 8,
   "metadata": {},
   "outputs": [
    {
     "name": "stdout",
     "output_type": "stream",
     "text": [
      "날짜       880\n",
      "title     34\n",
      "dtype: int64\n"
     ]
    },
    {
     "data": {
      "text/html": [
       "<div>\n",
       "<style scoped>\n",
       "    .dataframe tbody tr th:only-of-type {\n",
       "        vertical-align: middle;\n",
       "    }\n",
       "\n",
       "    .dataframe tbody tr th {\n",
       "        vertical-align: top;\n",
       "    }\n",
       "\n",
       "    .dataframe thead th {\n",
       "        text-align: right;\n",
       "    }\n",
       "</style>\n",
       "<table border=\"1\" class=\"dataframe\">\n",
       "  <thead>\n",
       "    <tr style=\"text-align: right;\">\n",
       "      <th></th>\n",
       "      <th>날짜</th>\n",
       "      <th>title</th>\n",
       "    </tr>\n",
       "  </thead>\n",
       "  <tbody>\n",
       "    <tr>\n",
       "      <th>0</th>\n",
       "      <td>대법원 2024. 4. 4. 선고 2023다298670 판결 [보수약정금]〈북한주민...</td>\n",
       "      <td>NaN</td>\n",
       "    </tr>\n",
       "    <tr>\n",
       "      <th>1</th>\n",
       "      <td>대법원 2024. 4. 4. 선고 2022두56661 판결 [입학전형이의신청거부처분...</td>\n",
       "      <td>NaN</td>\n",
       "    </tr>\n",
       "    <tr>\n",
       "      <th>2</th>\n",
       "      <td>대법원 2024. 3. 29.자 2024터2</td>\n",
       "      <td>[피해자보호명령등에대한재항고]〈피해자보호명령의 발령 요건 및 심리절차의 법령 위반이...</td>\n",
       "    </tr>\n",
       "    <tr>\n",
       "      <th>3</th>\n",
       "      <td>대법원 2024. 3. 28. 선고 2023다308911 판결 [부당이득금]〈채무를...</td>\n",
       "      <td>NaN</td>\n",
       "    </tr>\n",
       "    <tr>\n",
       "      <th>4</th>\n",
       "      <td>대법원 2024. 3. 28. 선고 2023도15133 판결 [성폭력범죄의처벌등에관...</td>\n",
       "      <td>NaN</td>\n",
       "    </tr>\n",
       "    <tr>\n",
       "      <th>...</th>\n",
       "      <td>...</td>\n",
       "      <td>...</td>\n",
       "    </tr>\n",
       "    <tr>\n",
       "      <th>875</th>\n",
       "      <td>대법원 2011. 9. 2.자 2009스117 전원합의체</td>\n",
       "      <td>[등록부정정]〈성전환자의 성별정정 사건〉 [공2011하,2087]</td>\n",
       "    </tr>\n",
       "    <tr>\n",
       "      <th>876</th>\n",
       "      <td>대법원 2011. 9. 2. 선고 2008두17363 전원합의체 판결  [지역개발세...</td>\n",
       "      <td>NaN</td>\n",
       "    </tr>\n",
       "    <tr>\n",
       "      <th>877</th>\n",
       "      <td>부산지방법원 2011. 5. 27. 선고 2011고합93 판결 [해상강도살인미수ㆍ강...</td>\n",
       "      <td>NaN</td>\n",
       "    </tr>\n",
       "    <tr>\n",
       "      <th>878</th>\n",
       "      <td>대법원 2011. 3. 17. 선고 2006도8839 전원합의체 판결  [통신비밀보...</td>\n",
       "      <td>NaN</td>\n",
       "    </tr>\n",
       "    <tr>\n",
       "      <th>879</th>\n",
       "      <td>대법원 2011. 3. 17. 선고 2007도482 전원합의체 판결  [업무방해]〈...</td>\n",
       "      <td>NaN</td>\n",
       "    </tr>\n",
       "  </tbody>\n",
       "</table>\n",
       "<p>880 rows × 2 columns</p>\n",
       "</div>"
      ],
      "text/plain": [
       "                                                    날짜  \\\n",
       "0    대법원 2024. 4. 4. 선고 2023다298670 판결 [보수약정금]〈북한주민...   \n",
       "1    대법원 2024. 4. 4. 선고 2022두56661 판결 [입학전형이의신청거부처분...   \n",
       "2                            대법원 2024. 3. 29.자 2024터2    \n",
       "3    대법원 2024. 3. 28. 선고 2023다308911 판결 [부당이득금]〈채무를...   \n",
       "4    대법원 2024. 3. 28. 선고 2023도15133 판결 [성폭력범죄의처벌등에관...   \n",
       "..                                                 ...   \n",
       "875                   대법원 2011. 9. 2.자 2009스117 전원합의체    \n",
       "876  대법원 2011. 9. 2. 선고 2008두17363 전원합의체 판결  [지역개발세...   \n",
       "877  부산지방법원 2011. 5. 27. 선고 2011고합93 판결 [해상강도살인미수ㆍ강...   \n",
       "878  대법원 2011. 3. 17. 선고 2006도8839 전원합의체 판결  [통신비밀보...   \n",
       "879  대법원 2011. 3. 17. 선고 2007도482 전원합의체 판결  [업무방해]〈...   \n",
       "\n",
       "                                                 title  \n",
       "0                                                  NaN  \n",
       "1                                                  NaN  \n",
       "2    [피해자보호명령등에대한재항고]〈피해자보호명령의 발령 요건 및 심리절차의 법령 위반이...  \n",
       "3                                                  NaN  \n",
       "4                                                  NaN  \n",
       "..                                                 ...  \n",
       "875               [등록부정정]〈성전환자의 성별정정 사건〉 [공2011하,2087]  \n",
       "876                                                NaN  \n",
       "877                                                NaN  \n",
       "878                                                NaN  \n",
       "879                                                NaN  \n",
       "\n",
       "[880 rows x 2 columns]"
      ]
     },
     "execution_count": 8,
     "metadata": {},
     "output_type": "execute_result"
    }
   ],
   "source": [
    "print(df_title2.count())\n",
    "df_title2"
   ]
  },
  {
   "cell_type": "code",
   "execution_count": 9,
   "metadata": {},
   "outputs": [],
   "source": [
    "df_title1['title'] = df_title1['title'].fillna(df_title2['title'])"
   ]
  },
  {
   "cell_type": "code",
   "execution_count": 10,
   "metadata": {},
   "outputs": [
    {
     "name": "stdout",
     "output_type": "stream",
     "text": [
      "날짜       880\n",
      "title    880\n",
      "dtype: int64\n"
     ]
    },
    {
     "data": {
      "text/html": [
       "<div>\n",
       "<style scoped>\n",
       "    .dataframe tbody tr th:only-of-type {\n",
       "        vertical-align: middle;\n",
       "    }\n",
       "\n",
       "    .dataframe tbody tr th {\n",
       "        vertical-align: top;\n",
       "    }\n",
       "\n",
       "    .dataframe thead th {\n",
       "        text-align: right;\n",
       "    }\n",
       "</style>\n",
       "<table border=\"1\" class=\"dataframe\">\n",
       "  <thead>\n",
       "    <tr style=\"text-align: right;\">\n",
       "      <th></th>\n",
       "      <th>날짜</th>\n",
       "      <th>title</th>\n",
       "    </tr>\n",
       "  </thead>\n",
       "  <tbody>\n",
       "    <tr>\n",
       "      <th>0</th>\n",
       "      <td>대법원 2024. 4. 4. 선고 2023다298670</td>\n",
       "      <td>[보수약정금]〈북한주민인 피고들과 위임 및 보수약정을 체결한 법무법인인 원고가 위임...</td>\n",
       "    </tr>\n",
       "    <tr>\n",
       "      <th>1</th>\n",
       "      <td>대법원 2024. 4. 4. 선고 2022두56661</td>\n",
       "      <td>[입학전형이의신청거부처분및불합격처분취소의소]〈종교적 신념을 이유로 면접시험 일정 변...</td>\n",
       "    </tr>\n",
       "    <tr>\n",
       "      <th>2</th>\n",
       "      <td>대법원 2024. 3. 29.자 2024터2 결정 [피해자보호명령등에대한재항고]〈피...</td>\n",
       "      <td>[피해자보호명령등에대한재항고]〈피해자보호명령의 발령 요건 및 심리절차의 법령 위반이...</td>\n",
       "    </tr>\n",
       "    <tr>\n",
       "      <th>3</th>\n",
       "      <td>대법원 2024. 3. 28. 선고 2023다308911</td>\n",
       "      <td>[부당이득금]〈채무를 면하는 경우와 같은 재산의 소극적 증가도 부당이득이 성립하기 ...</td>\n",
       "    </tr>\n",
       "    <tr>\n",
       "      <th>4</th>\n",
       "      <td>대법원 2024. 3. 28. 선고 2023도15133</td>\n",
       "      <td>[성폭력범죄의처벌등에관한특례법위반(친족관계에의한강간)ㆍ아동복지법위반(아동학대)ㆍ아동...</td>\n",
       "    </tr>\n",
       "    <tr>\n",
       "      <th>...</th>\n",
       "      <td>...</td>\n",
       "      <td>...</td>\n",
       "    </tr>\n",
       "    <tr>\n",
       "      <th>875</th>\n",
       "      <td>대법원 2011. 9. 2.자 2009스117 전원합의체 결정  [등록부정정]〈성전...</td>\n",
       "      <td>[등록부정정]〈성전환자의 성별정정 사건〉 [공2011하,2087]</td>\n",
       "    </tr>\n",
       "    <tr>\n",
       "      <th>876</th>\n",
       "      <td>대법원 2011. 9. 2. 선고 2008두17363 전원합의체</td>\n",
       "      <td>[지역개발세부과처분취소]〈지역개발세 부과 사건〉 [공2011하,2126]</td>\n",
       "    </tr>\n",
       "    <tr>\n",
       "      <th>877</th>\n",
       "      <td>부산지방법원 2011. 5. 27. 선고 2011고합93</td>\n",
       "      <td>[해상강도살인미수ㆍ강도살인미수ㆍ해상강도상해ㆍ강도상해ㆍ특수공무집행방해치상ㆍ선박및해상구...</td>\n",
       "    </tr>\n",
       "    <tr>\n",
       "      <th>878</th>\n",
       "      <td>대법원 2011. 3. 17. 선고 2006도8839 전원합의체</td>\n",
       "      <td>[통신비밀보호법위반]〈불법 감청·녹음 사건〉 [공2011상,846]</td>\n",
       "    </tr>\n",
       "    <tr>\n",
       "      <th>879</th>\n",
       "      <td>대법원 2011. 3. 17. 선고 2007도482 전원합의체</td>\n",
       "      <td>[업무방해]〈파업으로 인한 업무방해 사건〉 [공2011상,865]</td>\n",
       "    </tr>\n",
       "  </tbody>\n",
       "</table>\n",
       "<p>880 rows × 2 columns</p>\n",
       "</div>"
      ],
      "text/plain": [
       "                                                    날짜  \\\n",
       "0                      대법원 2024. 4. 4. 선고 2023다298670    \n",
       "1                       대법원 2024. 4. 4. 선고 2022두56661    \n",
       "2    대법원 2024. 3. 29.자 2024터2 결정 [피해자보호명령등에대한재항고]〈피...   \n",
       "3                     대법원 2024. 3. 28. 선고 2023다308911    \n",
       "4                      대법원 2024. 3. 28. 선고 2023도15133    \n",
       "..                                                 ...   \n",
       "875  대법원 2011. 9. 2.자 2009스117 전원합의체 결정  [등록부정정]〈성전...   \n",
       "876               대법원 2011. 9. 2. 선고 2008두17363 전원합의체    \n",
       "877                   부산지방법원 2011. 5. 27. 선고 2011고합93    \n",
       "878               대법원 2011. 3. 17. 선고 2006도8839 전원합의체    \n",
       "879                대법원 2011. 3. 17. 선고 2007도482 전원합의체    \n",
       "\n",
       "                                                 title  \n",
       "0    [보수약정금]〈북한주민인 피고들과 위임 및 보수약정을 체결한 법무법인인 원고가 위임...  \n",
       "1    [입학전형이의신청거부처분및불합격처분취소의소]〈종교적 신념을 이유로 면접시험 일정 변...  \n",
       "2    [피해자보호명령등에대한재항고]〈피해자보호명령의 발령 요건 및 심리절차의 법령 위반이...  \n",
       "3    [부당이득금]〈채무를 면하는 경우와 같은 재산의 소극적 증가도 부당이득이 성립하기 ...  \n",
       "4    [성폭력범죄의처벌등에관한특례법위반(친족관계에의한강간)ㆍ아동복지법위반(아동학대)ㆍ아동...  \n",
       "..                                                 ...  \n",
       "875               [등록부정정]〈성전환자의 성별정정 사건〉 [공2011하,2087]  \n",
       "876           [지역개발세부과처분취소]〈지역개발세 부과 사건〉 [공2011하,2126]  \n",
       "877  [해상강도살인미수ㆍ강도살인미수ㆍ해상강도상해ㆍ강도상해ㆍ특수공무집행방해치상ㆍ선박및해상구...  \n",
       "878              [통신비밀보호법위반]〈불법 감청·녹음 사건〉 [공2011상,846]  \n",
       "879               [업무방해]〈파업으로 인한 업무방해 사건〉 [공2011상,865]  \n",
       "\n",
       "[880 rows x 2 columns]"
      ]
     },
     "execution_count": 10,
     "metadata": {},
     "output_type": "execute_result"
    }
   ],
   "source": [
    "print(df_title1.count())\n",
    "df_title1"
   ]
  },
  {
   "cell_type": "markdown",
   "metadata": {},
   "source": [
    "#### 판결요지 or 결정요지 분리"
   ]
  },
  {
   "cell_type": "code",
   "execution_count": 29,
   "metadata": {},
   "outputs": [],
   "source": [
    "df_split1 = dropped_df['doc'].str.split('【판결요지】', expand=True)\n",
    "\n",
    "df_split1.columns = ['판시사항', '판결요지']"
   ]
  },
  {
   "cell_type": "code",
   "execution_count": 30,
   "metadata": {},
   "outputs": [],
   "source": [
    "df_split2 = dropped_df['doc'].str.split('【결정요지】', expand=True)\n",
    "\n",
    "df_split2.columns = ['판시사항', '결정요지']"
   ]
  },
  {
   "cell_type": "code",
   "execution_count": 31,
   "metadata": {},
   "outputs": [
    {
     "data": {
      "text/plain": [
       "판시사항    880\n",
       "결정요지     33\n",
       "dtype: int64"
      ]
     },
     "execution_count": 31,
     "metadata": {},
     "output_type": "execute_result"
    }
   ],
   "source": [
    "df_split2.count('rows')"
   ]
  },
  {
   "cell_type": "code",
   "execution_count": 32,
   "metadata": {},
   "outputs": [
    {
     "name": "stdout",
     "output_type": "stream",
     "text": [
      "판시사항    880\n",
      "판결요지    880\n",
      "dtype: int64\n"
     ]
    },
    {
     "data": {
      "text/html": [
       "<div>\n",
       "<style scoped>\n",
       "    .dataframe tbody tr th:only-of-type {\n",
       "        vertical-align: middle;\n",
       "    }\n",
       "\n",
       "    .dataframe tbody tr th {\n",
       "        vertical-align: top;\n",
       "    }\n",
       "\n",
       "    .dataframe thead th {\n",
       "        text-align: right;\n",
       "    }\n",
       "</style>\n",
       "<table border=\"1\" class=\"dataframe\">\n",
       "  <thead>\n",
       "    <tr style=\"text-align: right;\">\n",
       "      <th></th>\n",
       "      <th>판시사항</th>\n",
       "      <th>판결요지</th>\n",
       "    </tr>\n",
       "  </thead>\n",
       "  <tbody>\n",
       "    <tr>\n",
       "      <th>0</th>\n",
       "      <td>【판시사항】\\n[1] 북한주민이 상속 등으로 취득한 재산 그 자체는 물론이고 그 재...</td>\n",
       "      <td>\\n[1] 남북 주민 사이의 가족관계와 상속 등에 관한 특례법(이하 ‘남북가족특례법...</td>\n",
       "    </tr>\n",
       "    <tr>\n",
       "      <th>1</th>\n",
       "      <td>【판시사항】\\n[1] 국립대학교 법학전문대학원 입시 과정에서 제칠일안식일예수재림교 ...</td>\n",
       "      <td>\\n[1] 국립대학교 총장은 공권력을 행사하는 주체이자 기본권 수범자로서의 지위를 ...</td>\n",
       "    </tr>\n",
       "    <tr>\n",
       "      <th>2</th>\n",
       "      <td>【판시사항】\\n[1] 가정폭력범죄의 처벌 등에 관한 특례법에 도입된 피해자보호명령 ...</td>\n",
       "      <td>\\n[1] 가정폭력범죄의 처벌 등에 관한 특례법(이하 ‘가정폭력처벌법’이라고 한다)...</td>\n",
       "    </tr>\n",
       "    <tr>\n",
       "      <th>3</th>\n",
       "      <td>【판시사항】\\n[1] 채무를 면하는 경우와 같이 어떠한 사실의 발생으로 당연히 발생...</td>\n",
       "      <td>\\n[1] 법률상 원인 없이 타인의 재산 또는 노무로 인하여 이익을 얻고 이로 인하...</td>\n",
       "    </tr>\n",
       "    <tr>\n",
       "      <th>4</th>\n",
       "      <td>【판시사항】\\n[1] 형사소송법 제313조 제1항에서 규정한 ‘전 2조의 규정 이외...</td>\n",
       "      <td>\\n[1] 헌법 제12조 제1항이 규정한 적법절차의 원칙과 헌법 제27조에 의하여 ...</td>\n",
       "    </tr>\n",
       "    <tr>\n",
       "      <th>...</th>\n",
       "      <td>...</td>\n",
       "      <td>...</td>\n",
       "    </tr>\n",
       "    <tr>\n",
       "      <th>875</th>\n",
       "      <td>【판시사항】\\n[1] 성전환자가 혼인 중에 있거나 미성년자인 자녀가 있는 경우 성별...</td>\n",
       "      <td>\\n[1] [다수의견] 성전환수술에 의하여 출생 시의 성과 다른 반대의 성으로 성전...</td>\n",
       "    </tr>\n",
       "    <tr>\n",
       "      <th>876</th>\n",
       "      <td>【판시사항】\\n[1] 법률에 예외규정이 없는데도 조례로 새로운 납세의무를 부과하는 ...</td>\n",
       "      <td>\\n[1] 조세법률주의를 규정한 헌법 제38조, 제59조의 취지에 의하면 국민에게 ...</td>\n",
       "    </tr>\n",
       "    <tr>\n",
       "      <th>877</th>\n",
       "      <td>【판시사항】\\n[1] 토지관할을 규정한 형사소송법 제4조 제1항의 ‘현재지’에 ‘위...</td>\n",
       "      <td>\\n[1] 형사소송법 제4조 제1항은 “토지관할은 범죄지, 피고인의 주소, 거소 또...</td>\n",
       "    </tr>\n",
       "    <tr>\n",
       "      <th>878</th>\n",
       "      <td>【판시사항】\\n[1] 불법 감청·녹음 등에 관여하지 아니한 언론기관이 그 사정을 알...</td>\n",
       "      <td>\\n[1] [다수의견] (가) 통신비밀보호법은 같은 법 및 형사소송법 또는 군사법원...</td>\n",
       "    </tr>\n",
       "    <tr>\n",
       "      <th>879</th>\n",
       "      <td>【판시사항】\\n[1] 쟁의행위로서 파업이 업무방해죄의 ‘위력’에 해당하는지 여부(한...</td>\n",
       "      <td>\\n[1] [다수의견] (가) 업무방해죄는 위계 또는 위력으로써 사람의 업무를 방해...</td>\n",
       "    </tr>\n",
       "  </tbody>\n",
       "</table>\n",
       "<p>880 rows × 2 columns</p>\n",
       "</div>"
      ],
      "text/plain": [
       "                                                  판시사항  \\\n",
       "0    【판시사항】\\n[1] 북한주민이 상속 등으로 취득한 재산 그 자체는 물론이고 그 재...   \n",
       "1    【판시사항】\\n[1] 국립대학교 법학전문대학원 입시 과정에서 제칠일안식일예수재림교 ...   \n",
       "2    【판시사항】\\n[1] 가정폭력범죄의 처벌 등에 관한 특례법에 도입된 피해자보호명령 ...   \n",
       "3    【판시사항】\\n[1] 채무를 면하는 경우와 같이 어떠한 사실의 발생으로 당연히 발생...   \n",
       "4    【판시사항】\\n[1] 형사소송법 제313조 제1항에서 규정한 ‘전 2조의 규정 이외...   \n",
       "..                                                 ...   \n",
       "875  【판시사항】\\n[1] 성전환자가 혼인 중에 있거나 미성년자인 자녀가 있는 경우 성별...   \n",
       "876  【판시사항】\\n[1] 법률에 예외규정이 없는데도 조례로 새로운 납세의무를 부과하는 ...   \n",
       "877  【판시사항】\\n[1] 토지관할을 규정한 형사소송법 제4조 제1항의 ‘현재지’에 ‘위...   \n",
       "878  【판시사항】\\n[1] 불법 감청·녹음 등에 관여하지 아니한 언론기관이 그 사정을 알...   \n",
       "879  【판시사항】\\n[1] 쟁의행위로서 파업이 업무방해죄의 ‘위력’에 해당하는지 여부(한...   \n",
       "\n",
       "                                                  판결요지  \n",
       "0    \\n[1] 남북 주민 사이의 가족관계와 상속 등에 관한 특례법(이하 ‘남북가족특례법...  \n",
       "1    \\n[1] 국립대학교 총장은 공권력을 행사하는 주체이자 기본권 수범자로서의 지위를 ...  \n",
       "2    \\n[1] 가정폭력범죄의 처벌 등에 관한 특례법(이하 ‘가정폭력처벌법’이라고 한다)...  \n",
       "3    \\n[1] 법률상 원인 없이 타인의 재산 또는 노무로 인하여 이익을 얻고 이로 인하...  \n",
       "4    \\n[1] 헌법 제12조 제1항이 규정한 적법절차의 원칙과 헌법 제27조에 의하여 ...  \n",
       "..                                                 ...  \n",
       "875  \\n[1] [다수의견] 성전환수술에 의하여 출생 시의 성과 다른 반대의 성으로 성전...  \n",
       "876  \\n[1] 조세법률주의를 규정한 헌법 제38조, 제59조의 취지에 의하면 국민에게 ...  \n",
       "877  \\n[1] 형사소송법 제4조 제1항은 “토지관할은 범죄지, 피고인의 주소, 거소 또...  \n",
       "878  \\n[1] [다수의견] (가) 통신비밀보호법은 같은 법 및 형사소송법 또는 군사법원...  \n",
       "879  \\n[1] [다수의견] (가) 업무방해죄는 위계 또는 위력으로써 사람의 업무를 방해...  \n",
       "\n",
       "[880 rows x 2 columns]"
      ]
     },
     "execution_count": 32,
     "metadata": {},
     "output_type": "execute_result"
    }
   ],
   "source": [
    "df_split1['판결요지'] = df_split1['판결요지'].fillna(df_split2['결정요지'])\n",
    "print(df_split1.count())\n",
    "df_split1"
   ]
  },
  {
   "cell_type": "code",
   "execution_count": null,
   "metadata": {},
   "outputs": [],
   "source": []
  },
  {
   "cell_type": "markdown",
   "metadata": {},
   "source": [
    "#### 판결 이유 & 결론 분리"
   ]
  },
  {
   "cell_type": "code",
   "execution_count": 33,
   "metadata": {},
   "outputs": [],
   "source": [
    "df_split3 = df_split1['판결요지'].str.split('【이 유】', expand=True)\n",
    "\n",
    "df_split3.columns = ['판결요지', '이유']"
   ]
  },
  {
   "cell_type": "code",
   "execution_count": 34,
   "metadata": {},
   "outputs": [],
   "source": [
    "df_split4 = df_split3['이유'].str.split(r\"\\d+\\.\\s*결론\", expand=True)\n",
    "\n",
    "df_split4.columns = ['이유', '결론']\n",
    "\n",
    "df_split6 = df_split4['결론'].str.split(\"\\n대법관   \", expand=True)\n",
    "\n",
    "df_split6.columns = ['결론', '그외']"
   ]
  },
  {
   "cell_type": "code",
   "execution_count": 35,
   "metadata": {},
   "outputs": [
    {
     "data": {
      "text/html": [
       "<div>\n",
       "<style scoped>\n",
       "    .dataframe tbody tr th:only-of-type {\n",
       "        vertical-align: middle;\n",
       "    }\n",
       "\n",
       "    .dataframe tbody tr th {\n",
       "        vertical-align: top;\n",
       "    }\n",
       "\n",
       "    .dataframe thead th {\n",
       "        text-align: right;\n",
       "    }\n",
       "</style>\n",
       "<table border=\"1\" class=\"dataframe\">\n",
       "  <thead>\n",
       "    <tr style=\"text-align: right;\">\n",
       "      <th></th>\n",
       "      <th>이유</th>\n",
       "      <th>결론</th>\n",
       "    </tr>\n",
       "  </thead>\n",
       "  <tbody>\n",
       "    <tr>\n",
       "      <th>0</th>\n",
       "      <td>\\n상고이유(상고이유서 제출기간이 지난 다음 제출된 상고이유보충서의 기재는 상고이유...</td>\n",
       "      <td>\\n원심판결을 파기하고, 사건을 다시 심리·판단하도록 원심법원에 환송하기로 하여, ...</td>\n",
       "    </tr>\n",
       "    <tr>\n",
       "      <th>1</th>\n",
       "      <td>\\n상고이유를 판단한다.\\n1. 사안의 개요\\n원심판결 이유와 기록에 따르면 다음 ...</td>\n",
       "      <td>\\n원심판결 중 입학전형이의신청거부처분 취소청구 부분을 파기하되, 이 부분은 이 법...</td>\n",
       "    </tr>\n",
       "    <tr>\n",
       "      <th>2</th>\n",
       "      <td>\\n재항고이유를 판단한다.\\n1. 피해자보호명령의 발령 요건을 갖추지 못하였다는 주...</td>\n",
       "      <td>\\n그러므로 원심결정을 취소하고, 사건을 다시 심리·판단하도록 원심법원에 환송하기로...</td>\n",
       "    </tr>\n",
       "    <tr>\n",
       "      <th>3</th>\n",
       "      <td>\\n상고이유를 판단한다.\\n1. 법률상 원인 없이 타인의 재산 또는 노무로 인하여 ...</td>\n",
       "      <td>None</td>\n",
       "    </tr>\n",
       "    <tr>\n",
       "      <th>4</th>\n",
       "      <td>\\n상고이유를 판단한다.\\n1. 검사의 상고이유에 관하여\\n가. ‘피해자 진술분석 ...</td>\n",
       "      <td>\\n그러므로 상고를 모두 기각하기로 하여, 관여 대법관의 일치된 의견으로 주문과 같...</td>\n",
       "    </tr>\n",
       "    <tr>\n",
       "      <th>...</th>\n",
       "      <td>...</td>\n",
       "      <td>...</td>\n",
       "    </tr>\n",
       "    <tr>\n",
       "      <th>875</th>\n",
       "      <td>\\n재항고이유를 판단한다.\\n1. 성전환자의 성(성)의 결정과 성전환자에 대한 가족...</td>\n",
       "      <td>\\n그러므로 재항고를 기각하기로 하여 주문과 같이 결정한다. 이 결정에 대하여는 미...</td>\n",
       "    </tr>\n",
       "    <tr>\n",
       "      <th>876</th>\n",
       "      <td>\\n상고이유를 판단한다.\\n1. 피고들의 상고이유에 대하여\\n조세법률주의를 규정한 ...</td>\n",
       "      <td>\\n그러므로 상고를 모두 기각하고, 상고비용은 패소자들 각자가 부담하도록 하여, 관...</td>\n",
       "    </tr>\n",
       "    <tr>\n",
       "      <th>877</th>\n",
       "      <td>\\n토지관할에 관한 판단\\n1. 피고인 4의 변호인 주장의 요지\\n가. 대한민국 헌...</td>\n",
       "      <td>\\n이로써 피고인들은 제1심 공동피고인 5 및 이 사건 피살된 해적들과 공모하여, ...</td>\n",
       "    </tr>\n",
       "    <tr>\n",
       "      <th>878</th>\n",
       "      <td>\\n상고이유를 판단한다.\\n1. 피고인 1의 상고이유에 관한 판단\\n가. 정당행위에...</td>\n",
       "      <td>\\n그러므로 상고를 모두 기각하기로 하여 주문과 같이 판결한다. 이 판결에는 위 1...</td>\n",
       "    </tr>\n",
       "    <tr>\n",
       "      <th>879</th>\n",
       "      <td>\\n상고이유를 판단한다.\\n1. 업무방해죄의 구성요건인 “위력”에 관한 상고이유에 ...</td>\n",
       "      <td>\\n그러므로 상고를 기각하기로 하여 주문과 같이 판결한다. 이 판결에는 위 1.항의...</td>\n",
       "    </tr>\n",
       "  </tbody>\n",
       "</table>\n",
       "<p>880 rows × 2 columns</p>\n",
       "</div>"
      ],
      "text/plain": [
       "                                                    이유  \\\n",
       "0    \\n상고이유(상고이유서 제출기간이 지난 다음 제출된 상고이유보충서의 기재는 상고이유...   \n",
       "1    \\n상고이유를 판단한다.\\n1. 사안의 개요\\n원심판결 이유와 기록에 따르면 다음 ...   \n",
       "2    \\n재항고이유를 판단한다.\\n1. 피해자보호명령의 발령 요건을 갖추지 못하였다는 주...   \n",
       "3    \\n상고이유를 판단한다.\\n1. 법률상 원인 없이 타인의 재산 또는 노무로 인하여 ...   \n",
       "4    \\n상고이유를 판단한다.\\n1. 검사의 상고이유에 관하여\\n가. ‘피해자 진술분석 ...   \n",
       "..                                                 ...   \n",
       "875  \\n재항고이유를 판단한다.\\n1. 성전환자의 성(성)의 결정과 성전환자에 대한 가족...   \n",
       "876  \\n상고이유를 판단한다.\\n1. 피고들의 상고이유에 대하여\\n조세법률주의를 규정한 ...   \n",
       "877  \\n토지관할에 관한 판단\\n1. 피고인 4의 변호인 주장의 요지\\n가. 대한민국 헌...   \n",
       "878  \\n상고이유를 판단한다.\\n1. 피고인 1의 상고이유에 관한 판단\\n가. 정당행위에...   \n",
       "879  \\n상고이유를 판단한다.\\n1. 업무방해죄의 구성요건인 “위력”에 관한 상고이유에 ...   \n",
       "\n",
       "                                                    결론  \n",
       "0    \\n원심판결을 파기하고, 사건을 다시 심리·판단하도록 원심법원에 환송하기로 하여, ...  \n",
       "1    \\n원심판결 중 입학전형이의신청거부처분 취소청구 부분을 파기하되, 이 부분은 이 법...  \n",
       "2    \\n그러므로 원심결정을 취소하고, 사건을 다시 심리·판단하도록 원심법원에 환송하기로...  \n",
       "3                                                 None  \n",
       "4    \\n그러므로 상고를 모두 기각하기로 하여, 관여 대법관의 일치된 의견으로 주문과 같...  \n",
       "..                                                 ...  \n",
       "875  \\n그러므로 재항고를 기각하기로 하여 주문과 같이 결정한다. 이 결정에 대하여는 미...  \n",
       "876  \\n그러므로 상고를 모두 기각하고, 상고비용은 패소자들 각자가 부담하도록 하여, 관...  \n",
       "877  \\n이로써 피고인들은 제1심 공동피고인 5 및 이 사건 피살된 해적들과 공모하여, ...  \n",
       "878  \\n그러므로 상고를 모두 기각하기로 하여 주문과 같이 판결한다. 이 판결에는 위 1...  \n",
       "879  \\n그러므로 상고를 기각하기로 하여 주문과 같이 판결한다. 이 판결에는 위 1.항의...  \n",
       "\n",
       "[880 rows x 2 columns]"
      ]
     },
     "execution_count": 35,
     "metadata": {},
     "output_type": "execute_result"
    }
   ],
   "source": [
    "df_split4"
   ]
  },
  {
   "cell_type": "markdown",
   "metadata": {},
   "source": [
    "#### 판시사항 분리"
   ]
  },
  {
   "cell_type": "code",
   "execution_count": null,
   "metadata": {},
   "outputs": [],
   "source": []
  },
  {
   "cell_type": "code",
   "execution_count": 36,
   "metadata": {},
   "outputs": [
    {
     "name": "stdout",
     "output_type": "stream",
     "text": [
      "판시사항    880\n",
      "그 외      33\n",
      "dtype: int64\n"
     ]
    },
    {
     "data": {
      "text/plain": [
       "'【판시사항】\\n[1] 채무를 면하는 경우와 같이 어떠한 사실의 발생으로 당연히 발생하였을 손실을 보지 않는 것이 부당이득이 성립하기 위한 요건인 ‘이익’에 해당하는지 여부(적극)\\n[2] 갑의 자녀를 사칭한 성명불상자가 갑에게 전화하여 갑의 휴대전화에 원격조종 프로그램을 설치한 다음, 갑의 은행계좌에서 을에게 부여된 병 주식회사의 가상계좌로 100만 원을 이체하였는데, 위 돈은 을의 병 회사에 대한 신용카드대금으로 결제되었고, 이에 갑이 성명불상자로부터 송금을 받은 을을 상대로 부당이득반환을 구한 사안에서, 을이 위 돈을 사실상 지배할 수 있는 상태에 이르지 못하여 실질적인 이득을 얻지 못하였다는 이유로 을의 부당이득 반환의무를 부정한 원심판결에 소액사건심판법 제3조 제1호에서 정한 ‘대법원의 판례에 상반되는 판단’을 한 잘못이 있다고 한 사례\\n'"
      ]
     },
     "execution_count": 36,
     "metadata": {},
     "output_type": "execute_result"
    }
   ],
   "source": [
    "df_split5 = df_split1['판시사항'].str.split('【참조조문】', expand=True)\n",
    "\n",
    "df_split5.columns = ['판시사항', '그 외']\n",
    "\n",
    "print(df_split5.count())\n",
    "df_split5['판시사항'][3]"
   ]
  },
  {
   "cell_type": "code",
   "execution_count": 37,
   "metadata": {},
   "outputs": [
    {
     "name": "stdout",
     "output_type": "stream",
     "text": [
      "판시사항    880\n",
      "그 외      33\n",
      "dtype: int64\n"
     ]
    },
    {
     "data": {
      "text/plain": [
       "'[1] 채무를 면하는 경우와 같이 어떠한 사실의 발생으로 당연히 발생하였을 손실을 보지 않는 것이 부당이득이 성립하기 위한 요건인 ‘이익’에 해당하는지 여부(적극)\\n[2] 갑의 자녀를 사칭한 성명불상자가 갑에게 전화하여 갑의 휴대전화에 원격조종 프로그램을 설치한 다음, 갑의 은행계좌에서 을에게 부여된 병 주식회사의 가상계좌로 100만 원을 이체하였는데, 위 돈은 을의 병 회사에 대한 신용카드대금으로 결제되었고, 이에 갑이 성명불상자로부터 송금을 받은 을을 상대로 부당이득반환을 구한 사안에서, 을이 위 돈을 사실상 지배할 수 있는 상태에 이르지 못하여 실질적인 이득을 얻지 못하였다는 이유로 을의 부당이득 반환의무를 부정한 원심판결에 소액사건심판법 제3조 제1호에서 정한 ‘대법원의 판례에 상반되는 판단’을 한 잘못이 있다고 한 사례\\n'"
      ]
     },
     "execution_count": 37,
     "metadata": {},
     "output_type": "execute_result"
    }
   ],
   "source": [
    "df_split5['판시사항'] = df_split5['판시사항'].str.replace('【판시사항】\\n', '')\n",
    "\n",
    "print(df_split5.count())\n",
    "df_split5['판시사항'][3]"
   ]
  },
  {
   "cell_type": "code",
   "execution_count": null,
   "metadata": {},
   "outputs": [],
   "source": []
  },
  {
   "cell_type": "markdown",
   "metadata": {},
   "source": [
    "#### 이유, 결론 확인"
   ]
  },
  {
   "cell_type": "code",
   "execution_count": null,
   "metadata": {},
   "outputs": [],
   "source": []
  },
  {
   "cell_type": "code",
   "execution_count": 38,
   "metadata": {},
   "outputs": [
    {
     "data": {
      "text/html": [
       "<div>\n",
       "<style scoped>\n",
       "    .dataframe tbody tr th:only-of-type {\n",
       "        vertical-align: middle;\n",
       "    }\n",
       "\n",
       "    .dataframe tbody tr th {\n",
       "        vertical-align: top;\n",
       "    }\n",
       "\n",
       "    .dataframe thead th {\n",
       "        text-align: right;\n",
       "    }\n",
       "</style>\n",
       "<table border=\"1\" class=\"dataframe\">\n",
       "  <thead>\n",
       "    <tr style=\"text-align: right;\">\n",
       "      <th></th>\n",
       "      <th>이유</th>\n",
       "      <th>결론</th>\n",
       "    </tr>\n",
       "  </thead>\n",
       "  <tbody>\n",
       "    <tr>\n",
       "      <th>0</th>\n",
       "      <td>\\n상고이유(상고이유서 제출기간이 지난 다음 제출된 상고이유보충서의 기재는 상고이유...</td>\n",
       "      <td>\\n원심판결을 파기하고, 사건을 다시 심리·판단하도록 원심법원에 환송하기로 하여, ...</td>\n",
       "    </tr>\n",
       "    <tr>\n",
       "      <th>1</th>\n",
       "      <td>\\n상고이유를 판단한다.\\n1. 사안의 개요\\n원심판결 이유와 기록에 따르면 다음 ...</td>\n",
       "      <td>\\n원심판결 중 입학전형이의신청거부처분 취소청구 부분을 파기하되, 이 부분은 이 법...</td>\n",
       "    </tr>\n",
       "    <tr>\n",
       "      <th>2</th>\n",
       "      <td>\\n재항고이유를 판단한다.\\n1. 피해자보호명령의 발령 요건을 갖추지 못하였다는 주...</td>\n",
       "      <td>\\n그러므로 원심결정을 취소하고, 사건을 다시 심리·판단하도록 원심법원에 환송하기로...</td>\n",
       "    </tr>\n",
       "    <tr>\n",
       "      <th>3</th>\n",
       "      <td>\\n상고이유를 판단한다.\\n1. 법률상 원인 없이 타인의 재산 또는 노무로 인하여 ...</td>\n",
       "      <td>None</td>\n",
       "    </tr>\n",
       "    <tr>\n",
       "      <th>4</th>\n",
       "      <td>\\n상고이유를 판단한다.\\n1. 검사의 상고이유에 관하여\\n가. ‘피해자 진술분석 ...</td>\n",
       "      <td>\\n그러므로 상고를 모두 기각하기로 하여, 관여 대법관의 일치된 의견으로 주문과 같...</td>\n",
       "    </tr>\n",
       "    <tr>\n",
       "      <th>...</th>\n",
       "      <td>...</td>\n",
       "      <td>...</td>\n",
       "    </tr>\n",
       "    <tr>\n",
       "      <th>875</th>\n",
       "      <td>\\n재항고이유를 판단한다.\\n1. 성전환자의 성(성)의 결정과 성전환자에 대한 가족...</td>\n",
       "      <td>\\n그러므로 재항고를 기각하기로 하여 주문과 같이 결정한다. 이 결정에 대하여는 미...</td>\n",
       "    </tr>\n",
       "    <tr>\n",
       "      <th>876</th>\n",
       "      <td>\\n상고이유를 판단한다.\\n1. 피고들의 상고이유에 대하여\\n조세법률주의를 규정한 ...</td>\n",
       "      <td>\\n그러므로 상고를 모두 기각하고, 상고비용은 패소자들 각자가 부담하도록 하여, 관...</td>\n",
       "    </tr>\n",
       "    <tr>\n",
       "      <th>877</th>\n",
       "      <td>\\n토지관할에 관한 판단\\n1. 피고인 4의 변호인 주장의 요지\\n가. 대한민국 헌...</td>\n",
       "      <td>\\n이로써 피고인들은 제1심 공동피고인 5 및 이 사건 피살된 해적들과 공모하여, ...</td>\n",
       "    </tr>\n",
       "    <tr>\n",
       "      <th>878</th>\n",
       "      <td>\\n상고이유를 판단한다.\\n1. 피고인 1의 상고이유에 관한 판단\\n가. 정당행위에...</td>\n",
       "      <td>\\n그러므로 상고를 모두 기각하기로 하여 주문과 같이 판결한다. 이 판결에는 위 1...</td>\n",
       "    </tr>\n",
       "    <tr>\n",
       "      <th>879</th>\n",
       "      <td>\\n상고이유를 판단한다.\\n1. 업무방해죄의 구성요건인 “위력”에 관한 상고이유에 ...</td>\n",
       "      <td>\\n그러므로 상고를 기각하기로 하여 주문과 같이 판결한다. 이 판결에는 위 1.항의...</td>\n",
       "    </tr>\n",
       "  </tbody>\n",
       "</table>\n",
       "<p>880 rows × 2 columns</p>\n",
       "</div>"
      ],
      "text/plain": [
       "                                                    이유  \\\n",
       "0    \\n상고이유(상고이유서 제출기간이 지난 다음 제출된 상고이유보충서의 기재는 상고이유...   \n",
       "1    \\n상고이유를 판단한다.\\n1. 사안의 개요\\n원심판결 이유와 기록에 따르면 다음 ...   \n",
       "2    \\n재항고이유를 판단한다.\\n1. 피해자보호명령의 발령 요건을 갖추지 못하였다는 주...   \n",
       "3    \\n상고이유를 판단한다.\\n1. 법률상 원인 없이 타인의 재산 또는 노무로 인하여 ...   \n",
       "4    \\n상고이유를 판단한다.\\n1. 검사의 상고이유에 관하여\\n가. ‘피해자 진술분석 ...   \n",
       "..                                                 ...   \n",
       "875  \\n재항고이유를 판단한다.\\n1. 성전환자의 성(성)의 결정과 성전환자에 대한 가족...   \n",
       "876  \\n상고이유를 판단한다.\\n1. 피고들의 상고이유에 대하여\\n조세법률주의를 규정한 ...   \n",
       "877  \\n토지관할에 관한 판단\\n1. 피고인 4의 변호인 주장의 요지\\n가. 대한민국 헌...   \n",
       "878  \\n상고이유를 판단한다.\\n1. 피고인 1의 상고이유에 관한 판단\\n가. 정당행위에...   \n",
       "879  \\n상고이유를 판단한다.\\n1. 업무방해죄의 구성요건인 “위력”에 관한 상고이유에 ...   \n",
       "\n",
       "                                                    결론  \n",
       "0    \\n원심판결을 파기하고, 사건을 다시 심리·판단하도록 원심법원에 환송하기로 하여, ...  \n",
       "1    \\n원심판결 중 입학전형이의신청거부처분 취소청구 부분을 파기하되, 이 부분은 이 법...  \n",
       "2    \\n그러므로 원심결정을 취소하고, 사건을 다시 심리·판단하도록 원심법원에 환송하기로...  \n",
       "3                                                 None  \n",
       "4    \\n그러므로 상고를 모두 기각하기로 하여, 관여 대법관의 일치된 의견으로 주문과 같...  \n",
       "..                                                 ...  \n",
       "875  \\n그러므로 재항고를 기각하기로 하여 주문과 같이 결정한다. 이 결정에 대하여는 미...  \n",
       "876  \\n그러므로 상고를 모두 기각하고, 상고비용은 패소자들 각자가 부담하도록 하여, 관...  \n",
       "877  \\n이로써 피고인들은 제1심 공동피고인 5 및 이 사건 피살된 해적들과 공모하여, ...  \n",
       "878  \\n그러므로 상고를 모두 기각하기로 하여 주문과 같이 판결한다. 이 판결에는 위 1...  \n",
       "879  \\n그러므로 상고를 기각하기로 하여 주문과 같이 판결한다. 이 판결에는 위 1.항의...  \n",
       "\n",
       "[880 rows x 2 columns]"
      ]
     },
     "execution_count": 38,
     "metadata": {},
     "output_type": "execute_result"
    }
   ],
   "source": [
    "df_split4"
   ]
  },
  {
   "cell_type": "code",
   "execution_count": 39,
   "metadata": {},
   "outputs": [
    {
     "data": {
      "text/plain": [
       "이유    877\n",
       "결론    626\n",
       "dtype: int64"
      ]
     },
     "execution_count": 39,
     "metadata": {},
     "output_type": "execute_result"
    }
   ],
   "source": [
    "df_split4.count('rows')"
   ]
  },
  {
   "cell_type": "code",
   "execution_count": 40,
   "metadata": {},
   "outputs": [
    {
     "name": "stdout",
     "output_type": "stream",
     "text": [
      "결론    626\n",
      "그외    503\n",
      "dtype: int64\n"
     ]
    },
    {
     "data": {
      "text/html": [
       "<div>\n",
       "<style scoped>\n",
       "    .dataframe tbody tr th:only-of-type {\n",
       "        vertical-align: middle;\n",
       "    }\n",
       "\n",
       "    .dataframe tbody tr th {\n",
       "        vertical-align: top;\n",
       "    }\n",
       "\n",
       "    .dataframe thead th {\n",
       "        text-align: right;\n",
       "    }\n",
       "</style>\n",
       "<table border=\"1\" class=\"dataframe\">\n",
       "  <thead>\n",
       "    <tr style=\"text-align: right;\">\n",
       "      <th></th>\n",
       "      <th>결론</th>\n",
       "      <th>그외</th>\n",
       "    </tr>\n",
       "  </thead>\n",
       "  <tbody>\n",
       "    <tr>\n",
       "      <th>0</th>\n",
       "      <td>\\n원심판결을 파기하고, 사건을 다시 심리·판단하도록 원심법원에 환송하기로 하여, ...</td>\n",
       "      <td>노태악(재판장) 김선수 오경미 서경환(주심)</td>\n",
       "    </tr>\n",
       "    <tr>\n",
       "      <th>1</th>\n",
       "      <td>\\n원심판결 중 입학전형이의신청거부처분 취소청구 부분을 파기하되, 이 부분은 이 법...</td>\n",
       "      <td>오경미(재판장) 김선수(주심) 노태악 서경환</td>\n",
       "    </tr>\n",
       "    <tr>\n",
       "      <th>2</th>\n",
       "      <td>\\n그러므로 원심결정을 취소하고, 사건을 다시 심리·판단하도록 원심법원에 환송하기로...</td>\n",
       "      <td>권영준(재판장) 이동원(주심) 김상환 신숙희</td>\n",
       "    </tr>\n",
       "    <tr>\n",
       "      <th>3</th>\n",
       "      <td>None</td>\n",
       "      <td>None</td>\n",
       "    </tr>\n",
       "    <tr>\n",
       "      <th>4</th>\n",
       "      <td>\\n그러므로 상고를 모두 기각하기로 하여, 관여 대법관의 일치된 의견으로 주문과 같...</td>\n",
       "      <td>이동원(재판장) 김상환 권영준(주심) 신숙희</td>\n",
       "    </tr>\n",
       "    <tr>\n",
       "      <th>...</th>\n",
       "      <td>...</td>\n",
       "      <td>...</td>\n",
       "    </tr>\n",
       "    <tr>\n",
       "      <th>875</th>\n",
       "      <td>\\n그러므로 재항고를 기각하기로 하여 주문과 같이 결정한다. 이 결정에 대하여는 미...</td>\n",
       "      <td>None</td>\n",
       "    </tr>\n",
       "    <tr>\n",
       "      <th>876</th>\n",
       "      <td>\\n그러므로 상고를 모두 기각하고, 상고비용은 패소자들 각자가 부담하도록 하여, 관...</td>\n",
       "      <td>None</td>\n",
       "    </tr>\n",
       "    <tr>\n",
       "      <th>877</th>\n",
       "      <td>\\n이로써 피고인들은 제1심 공동피고인 5 및 이 사건 피살된 해적들과 공모하여, ...</td>\n",
       "      <td>None</td>\n",
       "    </tr>\n",
       "    <tr>\n",
       "      <th>878</th>\n",
       "      <td>\\n그러므로 상고를 모두 기각하기로 하여 주문과 같이 판결한다. 이 판결에는 위 1...</td>\n",
       "      <td>None</td>\n",
       "    </tr>\n",
       "    <tr>\n",
       "      <th>879</th>\n",
       "      <td>\\n그러므로 상고를 기각하기로 하여 주문과 같이 판결한다. 이 판결에는 위 1.항의...</td>\n",
       "      <td>None</td>\n",
       "    </tr>\n",
       "  </tbody>\n",
       "</table>\n",
       "<p>880 rows × 2 columns</p>\n",
       "</div>"
      ],
      "text/plain": [
       "                                                    결론  \\\n",
       "0    \\n원심판결을 파기하고, 사건을 다시 심리·판단하도록 원심법원에 환송하기로 하여, ...   \n",
       "1    \\n원심판결 중 입학전형이의신청거부처분 취소청구 부분을 파기하되, 이 부분은 이 법...   \n",
       "2    \\n그러므로 원심결정을 취소하고, 사건을 다시 심리·판단하도록 원심법원에 환송하기로...   \n",
       "3                                                 None   \n",
       "4    \\n그러므로 상고를 모두 기각하기로 하여, 관여 대법관의 일치된 의견으로 주문과 같...   \n",
       "..                                                 ...   \n",
       "875  \\n그러므로 재항고를 기각하기로 하여 주문과 같이 결정한다. 이 결정에 대하여는 미...   \n",
       "876  \\n그러므로 상고를 모두 기각하고, 상고비용은 패소자들 각자가 부담하도록 하여, 관...   \n",
       "877  \\n이로써 피고인들은 제1심 공동피고인 5 및 이 사건 피살된 해적들과 공모하여, ...   \n",
       "878  \\n그러므로 상고를 모두 기각하기로 하여 주문과 같이 판결한다. 이 판결에는 위 1...   \n",
       "879  \\n그러므로 상고를 기각하기로 하여 주문과 같이 판결한다. 이 판결에는 위 1.항의...   \n",
       "\n",
       "                           그외  \n",
       "0    노태악(재판장) 김선수 오경미 서경환(주심)  \n",
       "1    오경미(재판장) 김선수(주심) 노태악 서경환  \n",
       "2    권영준(재판장) 이동원(주심) 김상환 신숙희  \n",
       "3                        None  \n",
       "4    이동원(재판장) 김상환 권영준(주심) 신숙희  \n",
       "..                        ...  \n",
       "875                      None  \n",
       "876                      None  \n",
       "877                      None  \n",
       "878                      None  \n",
       "879                      None  \n",
       "\n",
       "[880 rows x 2 columns]"
      ]
     },
     "execution_count": 40,
     "metadata": {},
     "output_type": "execute_result"
    }
   ],
   "source": [
    "df_split_result = df_split4['결론'].str.split('\\n대법관   ', expand=True)\n",
    "\n",
    "df_split_result.columns = ['결론', '그외']\n",
    "\n",
    "print(df_split_result.count())\n",
    "df_split_result"
   ]
  },
  {
   "cell_type": "code",
   "execution_count": 41,
   "metadata": {},
   "outputs": [
    {
     "data": {
      "text/plain": [
       "결론    877\n",
       "그외    503\n",
       "dtype: int64"
      ]
     },
     "execution_count": 41,
     "metadata": {},
     "output_type": "execute_result"
    }
   ],
   "source": [
    "df_split_result['결론'] = df_split_result['결론'].str.cat(df_split4['이유'])\n",
    "df_split_result['결론'] = df_split_result['결론'].fillna(df_split4['이유'])\n",
    "\n",
    "df_split_result.count()"
   ]
  },
  {
   "cell_type": "code",
   "execution_count": 42,
   "metadata": {},
   "outputs": [
    {
     "data": {
      "text/plain": [
       "'\\n원심판결 중 입학전형이의신청거부처분 취소청구 부분을 파기하되, 이 부분은 이 법원이 직접 재판하기에 충분하므로 자판하기로 하여 위 파기 부분에 해당하는 원고의 항소를 기각하고, 피고의 나머지 상고를 기각하며, 소송총비용 중 1/2은 원고가, 나머지는 피고가 각 부담하도록 하여, 관여 대법관의 일치된 의견으로 주문과 같이 판결한다.\\n상고이유를 판단한다.\\n1. 사안의 개요\\n원심판결 이유와 기록에 따르면 다음 사실을 알 수 있다.\\n가. 원고는 제칠일안식일예수재림교(이하 ‘재림교’라 한다) 신자이다. 재림교는 금요일 일몰부터 토요일 일몰까지를 종교적 안식일로 여겨 직장·사업·학교 활동 및 시험 응시 등의 세속적 행위를 금지하고 있다.\\n나. 피고는 2020. 4.경 ‘2021학년도 법학전문대학원 전문석사 입학전형 기본계획’(이하 ‘이 사건 기본계획’이라 한다)을, 2020. 6.경 ‘2021학년도 ○○대학교 법학전문대학원 신입생 모집요강’(이하 ‘이 사건 모집요강’이라 한다)을 각 공고하였다. 위 각 공고에 따르면 2021학년도 ○○대학교 법학전문대학원(이하 ‘○○대 법전원’이라 한다)의 입학생 선발은 서류전형으로 이루어진 1단계 평가를 거친 후 이에 합격한 학생들을 대상으로 면접평가와 논술평가를 실시하여 최종적으로 입학생을 선발하는 두 단계로 이루어진다. 면접평가는 토요일 오전반과 오후반으로 나누어 실시되고, 응시생들은 무작위로 각 면접반에 배정되는데, 면접 결시자는 불합격 처리하도록 되어 있다.\\n다. 원고는 2021학년도 ○○대 법전원 전문석사 입학을 위한 입학원서를 제출하였는데, 면접일시가 토요일 일몰 전에 지정될 경우 안식일에 관한 원고의 종교적 신념을 지키면서 면접에 응시할 수 없었다. 이에 원고는 2020. 10.경 국가인권위원회에 대하여, 피고로 하여금 원고의 면접순서를 마지막으로 배치하는 등 원고의 종교적 양심을 제한하지 않을 수 있는 대체조치를 취할 것을 구하는 취지의 진정서를 제출하였다. 국가인권위원회는 2020. 10. 27. 피고에게 이에 관한 심의를 요청하였다.\\n라. 그럼에도 피고는 2020. 11. 6. 원고에게 1단계 평가에 합격하였다고 통지하면서 원고의 면접고사 일정을 ‘2020. 11. 21. (토요일) 오전반’으로 지정하였다(이하 ‘이 사건 면접시간 지정행위’라 한다). 이에 원고는 2020. 11. 11. 피고에게 면접 일정을 토요일 오후 마지막 순번으로 변경하기를 희망한다는 취지의 이의신청서를 제출하였으나, 피고는 2020. 11. 20. 이를 거부하였다(이하 ‘이 사건 거부행위’라 한다).\\n마. 원고는 2020. 11. 21. 실시된 2021학년도 ○○대 법전원 입학생 선발 면접평가에 응시하지 않았고, 피고는 2020. 12. 10. 원고에 대하여 불합격 통지를 하였다(이하 ‘이 사건 불합격처분’이라 한다).\\n2. 이 사건 거부행위의 취소를 구하는 소의 적법 여부에 대한 판단\\n가. 피고가 ○○대 법전원 입학생을 선발하는 과정에서 입학원서를 접수 또는 반려하고, 1단계 평가에 대한 합격·불합격을 통보하며, 1단계 합격자를 대상으로 면접일정을 지정하는 등의 행위들은 모두 ○○대 법전원 입학생 선발이라는 종국적 처분에 이르기 위한 단계적인 행위들이다. 따라서 ○○대 법전원 입학시험에 대한 최종적인 합격 또는 불합격처분이 이루어졌다면, 피고가 이를 위해 앞서 하였던 단계적 행위들은 그 종국적인 합격 또는 불합격처분에 흡수된다.\\n나. 결국 이 사건 불합격처분이 이루어짐으로써 이 사건 면접시간 지정행위와 이 사건 거부행위는 모두 이 사건 불합격처분에 흡수되어 독립된 존재가치를 상실하였으므로, 이 사건 불합격처분만이 쟁송의 대상이 되고 이 사건 소 중 이 사건 거부행위의 취소를 구하는 부분은 이 사건 불합격처분으로 인해 소의 이익이 없어 부적법하게 된다. 원심은 이와 달리 원고가 이 사건 거부행위를 다툴 소의 이익이 있음을 전제로 그 본안판단에 나아가 판결에 영향을 미친 잘못이 있다.\\n다. 이처럼 원고가 이 사건 거부행위를 독자적으로 다툴 소의 이익이 인정되지 않는 이상 이 사건 거부행위에 관한 피고의 상고이유에 대하여는 더 나아가 판단하지 않는다.\\n3. 이 사건 불합격처분의 취소를 구할 소의 이익 유무\\n가. 행정처분이 기간의 경과 등으로 그 효과가 소멸한 때에 그 처분이 취소되어도 원상회복이 불가능하다고 보이는 경우라 하더라도, 무효 확인 또는 취소로써 회복할 수 있는 다른 권리나 이익이 남아 있거나 또는 그 행정처분과 동일한 사유로 위법한 처분이 반복될 위험성이 있어 행정처분의 위법성 확인 내지 불분명한 법률문제에 대한 해명이 필요한 경우에는 행정의 적법성 확보와 그에 대한 사법통제, 국민의 권리구제의 확대 등의 측면에서 예외적으로 그 처분의 취소를 구할 소의 이익을 인정할 수 있다(대법원 2007. 7. 19. 선고 2006두19297 전원합의체 판결, 대법원 2016. 6. 10. 선고 2013두1638 판결 등 참조).\\n나. 이 사건 불합격처분이 취소된다 하더라도 원고가 2021학년도 ○○대 법전원 입학시험에 다시 응시할 기회를 갖게 되는 것은 아니다. 그러나 원고가 장래에 ○○대 법전원 입학시험에 다시 응시할 경우 1단계 평가를 별도로 거치지 않고 곧바로 면접평가와 논술평가만을 받을 여지가 있어 이 사건 불합격처분의 취소를 통해 원고에게 회복되는 이익이 없다고 단정할 수 없다. 따라서 원고에게는 예외적으로 이 사건 불합격처분의 취소를 구할 법률상 이익이 인정된다.\\n다. 이 사건 불합격처분의 취소를 구할 원고의 소의 이익을 다투는 피고의 이 부분 상고이유는 이유 없다.\\n4. 제소기간 준수 여부\\n기록에 의하면, 이 사건 불합격처분은 2020. 12. 10.에 이루어졌고, 이 사건 소는 2021. 2. 3.에 제기되었으므로, 원고가 행정소송법 제20조 제1항에서 정한 90일의 제소기간을 준수하였음이 역수상 명백하다. 이 사건 불합격처분의 취소를 구하는 소가 제소기간을 위반하여 부적법하다는 취지의 피고의 이 부분 상고이유 주장도 이유 없다.\\n5. 이 사건 불합격처분의 적법 여부\\n가. 관련 법리\\n1) 국립대학교 총장인 피고는 공권력을 행사하는 주체이자 기본권의 수범자로서의 지위를 갖는다. 그 결과 사적 단체 또는 사인의 경우 차별처우가 사회공동체의 건전한 상식과 법감정에 비추어 볼 때 도저히 용인될 수 있는 한계를 벗어난 경우에 한해 사회질서에 위반되는 행위로서 위법한 행위로 평가되는 것과 달리, 피고는 헌법상 평등원칙의 직접적인 구속을 받고, 국민의 기본권을 보호 내지 실현할 책임과 의무를 부담하므로(헌법재판소 2006. 2. 23. 선고 2004헌바50 전원재판부 결정 참조), 그 차별처우의 위법성이 보다 폭넓게 인정된다.\\n2) 헌법 제11조 제1항은 “모든 국민은 법 앞에 평등하다. 누구든지 성별·종교 또는 사회적 신분에 의하여 정치적·경제적·사회적·문화적 생활의 모든 영역에 있어서 차별을 받지 아니한다.”라고 규정하고 있는데, 여기서 말하는 평등은 형식적 의미의 평등이 아니라 실질적 의미의 평등을 의미한다. 한편 비례의 원칙은 법치국가 원리에서 당연히 파생되는 헌법상의 기본원리로서, 모든 국가작용에 적용된다(대법원 2019. 9. 9. 선고 2018두48298 판결).\\n3) 위와 같은 법리에 비추어 볼 때, ○○대 법전원 입시 과정에서 재림교 신자들이 종교적 신념을 이유로 결과적으로 불이익을 받게 되는 경우, 이를 해소하기 위한 조치가 공익이나 제3자의 이익을 다소 제한한다고 하더라도, 그 제한의 정도가 재림교 신자들이 받는 불이익에 비해 현저히 적다고 인정된다면, 헌법이 보장하는 실질적 평등을 실현할 의무와 책무를 부담하는 피고로서는 재림교 신자들의 신청에 따라 그들이 받는 불이익을 해소하기 위한 적극적인 조치를 취할 의무가 있다.\\n나. 이 사건에서의 판단\\n1) 이 사건 기본계획과 모집요강에 따라 원고가 입는 불이익\\n앞서 본 것과 같이 ○○대 법전원 입학생 선발 과정에서 1단계 평가 합격자들의 면접일시는 무작위로 토요일 오전반 또는 오후반으로 배치되는데, 이에 따라 원고의 면접시간이 토요일 오전으로 정해졌다. 그 결과 토요일 일몰 전까지를 안식일로 삼는 원고는 종교적 신념으로 인해 면접에 응시할 수 없게 되는 불이익을 입게 되었다. ○○대 법전원은 △△광역시와 □□□도 지역에 설치된 유일한 국립대학교 법전원으로서 해당 지역 학생들에게 보다 낮은 비용으로 법조인이 될 수 있는 기회를 제공하고 있는데, ○○대 법전원에 입학하는 기회를 박탈당하는 불이익이 결코 가볍다고 볼 수 없다.\\n2) 면접일정의 예외를 인정함으로써 초래되는 공익 등의 제한과의 비교\\n지필시험의 경우 문제의 유출을 방지하기 위해 모든 응시자들이 동시에 시험에 응시하여야 할 공익적 요청이 높으므로 특정 응시자에 대하여만 시험일정을 변경하기 어렵고, 특정 응시자의 종교적 신념을 보장하기 위해 다른 모든 응시자의 시험일정을 일괄적으로 변경할 경우 그로 인해 소요되는 비용과 혼란이 크다. 그러나 피고가 ○○대 법전원 입학생 선발을 위해 실시하는 면접평가의 경우 개별면접 방식으로 진행되므로, 원고 개인의 면접시간만을 토요일 일몰 후로 손쉽게 변경할 수 있고, 그 과정에서 다른 응시자들의 면접시간을 변경할 필요도 없다.\\n한편 원심판결 이유와 기록에 의하면, 면접평가 응시자들은 각 반의 면접이 시작되기 전에 모두 소지품을 제출하고 대기실에 입실한 뒤 격리된 상태로 자신의 면접 순서를 기다려야 한다는 것이다. 따라서 원고가 일몰 후에 면접을 실시할 수 있도록 늦은 순번으로 면접순번이 지정된다고 하더라도 원고가 다른 응시자들에 비해 면접평가 준비 시간을 더 많이 받는 등의 부당한 이익을 받는다고 보기도 어렵다.\\n이처럼 피고가 종교적 신념에 따라 원고가 입는 불이익을 해소하기 위해 면접시간을 변경한다고 하더라도, 그로 인해 제한되는 공익이나 제3자의 이익은 원고가 받는 불이익에 비해 현저히 적다고 평가할 수 있다.\\n3) 소결\\n피고는 원고에 대한 면접시간을 변경하는 데에 비용 또는 불편이 다소 증가한다는 이유만으로 토요일 오전으로 지정된 원고의 면접일시의 변경을 거부함으로써 원고가 종교적 신념을 이유로 받게 된 중대한 불이익을 방치하였다. 이와 같은 피고의 행위는 헌법상 평등원칙을 위반한 것으로 위법하다. 이 사건 불합격처분은 이처럼 위법하게 지정된 면접일정에 원고가 응시하지 않았음을 이유로 한 처분이므로 적법한 처분사유가 존재한다고 볼 수 없어 취소되어야 한다. 원심의 이 부분 이유 설시에 다소 부적절한 부분이 있으나, 이 사건 불합격처분이 위법하다는 원심의 결론은 정당하므로 이를 다투는 피고의 이 부분 상고이유는 이유 없다.\\n'"
      ]
     },
     "execution_count": 42,
     "metadata": {},
     "output_type": "execute_result"
    }
   ],
   "source": [
    "df_split_result['결론'][1]"
   ]
  },
  {
   "cell_type": "markdown",
   "metadata": {},
   "source": [
    "#### 필요한 데이터 결합"
   ]
  },
  {
   "cell_type": "code",
   "execution_count": 43,
   "metadata": {},
   "outputs": [],
   "source": [
    "df_concatenated = pd.concat([df_title1['title'], df_split5['판시사항'], df_split_result['결론']], axis=1)"
   ]
  },
  {
   "cell_type": "code",
   "execution_count": 44,
   "metadata": {},
   "outputs": [
    {
     "name": "stdout",
     "output_type": "stream",
     "text": [
      "title    880\n",
      "판시사항     880\n",
      "결론       877\n",
      "dtype: int64\n"
     ]
    },
    {
     "data": {
      "text/html": [
       "<div>\n",
       "<style scoped>\n",
       "    .dataframe tbody tr th:only-of-type {\n",
       "        vertical-align: middle;\n",
       "    }\n",
       "\n",
       "    .dataframe tbody tr th {\n",
       "        vertical-align: top;\n",
       "    }\n",
       "\n",
       "    .dataframe thead th {\n",
       "        text-align: right;\n",
       "    }\n",
       "</style>\n",
       "<table border=\"1\" class=\"dataframe\">\n",
       "  <thead>\n",
       "    <tr style=\"text-align: right;\">\n",
       "      <th></th>\n",
       "      <th>title</th>\n",
       "      <th>판시사항</th>\n",
       "      <th>결론</th>\n",
       "    </tr>\n",
       "  </thead>\n",
       "  <tbody>\n",
       "    <tr>\n",
       "      <th>0</th>\n",
       "      <td>[보수약정금]〈북한주민인 피고들과 위임 및 보수약정을 체결한 법무법인인 원고가 위임...</td>\n",
       "      <td>[1] 북한주민이 상속 등으로 취득한 재산 그 자체는 물론이고 그 재산을 처분한 대...</td>\n",
       "      <td>\\n원심판결을 파기하고, 사건을 다시 심리·판단하도록 원심법원에 환송하기로 하여, ...</td>\n",
       "    </tr>\n",
       "    <tr>\n",
       "      <th>1</th>\n",
       "      <td>[입학전형이의신청거부처분및불합격처분취소의소]〈종교적 신념을 이유로 면접시험 일정 변...</td>\n",
       "      <td>[1] 국립대학교 법학전문대학원 입시 과정에서 제칠일안식일예수재림교 신자들이 종교적...</td>\n",
       "      <td>\\n원심판결 중 입학전형이의신청거부처분 취소청구 부분을 파기하되, 이 부분은 이 법...</td>\n",
       "    </tr>\n",
       "    <tr>\n",
       "      <th>2</th>\n",
       "      <td>[피해자보호명령등에대한재항고]〈피해자보호명령의 발령 요건 및 심리절차의 법령 위반이...</td>\n",
       "      <td>[1] 가정폭력범죄의 처벌 등에 관한 특례법에 도입된 피해자보호명령 제도의 취지 /...</td>\n",
       "      <td>\\n그러므로 원심결정을 취소하고, 사건을 다시 심리·판단하도록 원심법원에 환송하기로...</td>\n",
       "    </tr>\n",
       "    <tr>\n",
       "      <th>3</th>\n",
       "      <td>[부당이득금]〈채무를 면하는 경우와 같은 재산의 소극적 증가도 부당이득이 성립하기 ...</td>\n",
       "      <td>[1] 채무를 면하는 경우와 같이 어떠한 사실의 발생으로 당연히 발생하였을 손실을 ...</td>\n",
       "      <td>\\n상고이유를 판단한다.\\n1. 법률상 원인 없이 타인의 재산 또는 노무로 인하여 ...</td>\n",
       "    </tr>\n",
       "    <tr>\n",
       "      <th>4</th>\n",
       "      <td>[성폭력범죄의처벌등에관한특례법위반(친족관계에의한강간)ㆍ아동복지법위반(아동학대)ㆍ아동...</td>\n",
       "      <td>[1] 형사소송법 제313조 제1항에서 규정한 ‘전 2조의 규정 이외에 피고인 또는...</td>\n",
       "      <td>\\n그러므로 상고를 모두 기각하기로 하여, 관여 대법관의 일치된 의견으로 주문과 같...</td>\n",
       "    </tr>\n",
       "    <tr>\n",
       "      <th>...</th>\n",
       "      <td>...</td>\n",
       "      <td>...</td>\n",
       "      <td>...</td>\n",
       "    </tr>\n",
       "    <tr>\n",
       "      <th>875</th>\n",
       "      <td>[등록부정정]〈성전환자의 성별정정 사건〉 [공2011하,2087]</td>\n",
       "      <td>[1] 성전환자가 혼인 중에 있거나 미성년자인 자녀가 있는 경우 성별정정을 허가할 ...</td>\n",
       "      <td>\\n그러므로 재항고를 기각하기로 하여 주문과 같이 결정한다. 이 결정에 대하여는 미...</td>\n",
       "    </tr>\n",
       "    <tr>\n",
       "      <th>876</th>\n",
       "      <td>[지역개발세부과처분취소]〈지역개발세 부과 사건〉 [공2011하,2126]</td>\n",
       "      <td>[1] 법률에 예외규정이 없는데도 조례로 새로운 납세의무를 부과하는 요건에 관한 규...</td>\n",
       "      <td>\\n그러므로 상고를 모두 기각하고, 상고비용은 패소자들 각자가 부담하도록 하여, 관...</td>\n",
       "    </tr>\n",
       "    <tr>\n",
       "      <th>877</th>\n",
       "      <td>[해상강도살인미수ㆍ강도살인미수ㆍ해상강도상해ㆍ강도상해ㆍ특수공무집행방해치상ㆍ선박및해상구...</td>\n",
       "      <td>[1] 토지관할을 규정한 형사소송법 제4조 제1항의 ‘현재지’에 ‘위법한 강제에 의...</td>\n",
       "      <td>\\n이로써 피고인들은 제1심 공동피고인 5 및 이 사건 피살된 해적들과 공모하여, ...</td>\n",
       "    </tr>\n",
       "    <tr>\n",
       "      <th>878</th>\n",
       "      <td>[통신비밀보호법위반]〈불법 감청·녹음 사건〉 [공2011상,846]</td>\n",
       "      <td>[1] 불법 감청·녹음 등에 관여하지 아니한 언론기관이 그 사정을 알면서 이를 보도...</td>\n",
       "      <td>\\n그러므로 상고를 모두 기각하기로 하여 주문과 같이 판결한다. 이 판결에는 위 1...</td>\n",
       "    </tr>\n",
       "    <tr>\n",
       "      <th>879</th>\n",
       "      <td>[업무방해]〈파업으로 인한 업무방해 사건〉 [공2011상,865]</td>\n",
       "      <td>[1] 쟁의행위로서 파업이 업무방해죄의 ‘위력’에 해당하는지 여부(한정 적극)\\n[...</td>\n",
       "      <td>\\n그러므로 상고를 기각하기로 하여 주문과 같이 판결한다. 이 판결에는 위 1.항의...</td>\n",
       "    </tr>\n",
       "  </tbody>\n",
       "</table>\n",
       "<p>880 rows × 3 columns</p>\n",
       "</div>"
      ],
      "text/plain": [
       "                                                 title  \\\n",
       "0    [보수약정금]〈북한주민인 피고들과 위임 및 보수약정을 체결한 법무법인인 원고가 위임...   \n",
       "1    [입학전형이의신청거부처분및불합격처분취소의소]〈종교적 신념을 이유로 면접시험 일정 변...   \n",
       "2    [피해자보호명령등에대한재항고]〈피해자보호명령의 발령 요건 및 심리절차의 법령 위반이...   \n",
       "3    [부당이득금]〈채무를 면하는 경우와 같은 재산의 소극적 증가도 부당이득이 성립하기 ...   \n",
       "4    [성폭력범죄의처벌등에관한특례법위반(친족관계에의한강간)ㆍ아동복지법위반(아동학대)ㆍ아동...   \n",
       "..                                                 ...   \n",
       "875               [등록부정정]〈성전환자의 성별정정 사건〉 [공2011하,2087]   \n",
       "876           [지역개발세부과처분취소]〈지역개발세 부과 사건〉 [공2011하,2126]   \n",
       "877  [해상강도살인미수ㆍ강도살인미수ㆍ해상강도상해ㆍ강도상해ㆍ특수공무집행방해치상ㆍ선박및해상구...   \n",
       "878              [통신비밀보호법위반]〈불법 감청·녹음 사건〉 [공2011상,846]   \n",
       "879               [업무방해]〈파업으로 인한 업무방해 사건〉 [공2011상,865]   \n",
       "\n",
       "                                                  판시사항  \\\n",
       "0    [1] 북한주민이 상속 등으로 취득한 재산 그 자체는 물론이고 그 재산을 처분한 대...   \n",
       "1    [1] 국립대학교 법학전문대학원 입시 과정에서 제칠일안식일예수재림교 신자들이 종교적...   \n",
       "2    [1] 가정폭력범죄의 처벌 등에 관한 특례법에 도입된 피해자보호명령 제도의 취지 /...   \n",
       "3    [1] 채무를 면하는 경우와 같이 어떠한 사실의 발생으로 당연히 발생하였을 손실을 ...   \n",
       "4    [1] 형사소송법 제313조 제1항에서 규정한 ‘전 2조의 규정 이외에 피고인 또는...   \n",
       "..                                                 ...   \n",
       "875  [1] 성전환자가 혼인 중에 있거나 미성년자인 자녀가 있는 경우 성별정정을 허가할 ...   \n",
       "876  [1] 법률에 예외규정이 없는데도 조례로 새로운 납세의무를 부과하는 요건에 관한 규...   \n",
       "877  [1] 토지관할을 규정한 형사소송법 제4조 제1항의 ‘현재지’에 ‘위법한 강제에 의...   \n",
       "878  [1] 불법 감청·녹음 등에 관여하지 아니한 언론기관이 그 사정을 알면서 이를 보도...   \n",
       "879  [1] 쟁의행위로서 파업이 업무방해죄의 ‘위력’에 해당하는지 여부(한정 적극)\\n[...   \n",
       "\n",
       "                                                    결론  \n",
       "0    \\n원심판결을 파기하고, 사건을 다시 심리·판단하도록 원심법원에 환송하기로 하여, ...  \n",
       "1    \\n원심판결 중 입학전형이의신청거부처분 취소청구 부분을 파기하되, 이 부분은 이 법...  \n",
       "2    \\n그러므로 원심결정을 취소하고, 사건을 다시 심리·판단하도록 원심법원에 환송하기로...  \n",
       "3    \\n상고이유를 판단한다.\\n1. 법률상 원인 없이 타인의 재산 또는 노무로 인하여 ...  \n",
       "4    \\n그러므로 상고를 모두 기각하기로 하여, 관여 대법관의 일치된 의견으로 주문과 같...  \n",
       "..                                                 ...  \n",
       "875  \\n그러므로 재항고를 기각하기로 하여 주문과 같이 결정한다. 이 결정에 대하여는 미...  \n",
       "876  \\n그러므로 상고를 모두 기각하고, 상고비용은 패소자들 각자가 부담하도록 하여, 관...  \n",
       "877  \\n이로써 피고인들은 제1심 공동피고인 5 및 이 사건 피살된 해적들과 공모하여, ...  \n",
       "878  \\n그러므로 상고를 모두 기각하기로 하여 주문과 같이 판결한다. 이 판결에는 위 1...  \n",
       "879  \\n그러므로 상고를 기각하기로 하여 주문과 같이 판결한다. 이 판결에는 위 1.항의...  \n",
       "\n",
       "[880 rows x 3 columns]"
      ]
     },
     "execution_count": 44,
     "metadata": {},
     "output_type": "execute_result"
    }
   ],
   "source": [
    "print(df_concatenated.count())\n",
    "df_concatenated"
   ]
  },
  {
   "cell_type": "markdown",
   "metadata": {},
   "source": [
    "#### 결론 데이터를 못 추출해 낸 데이터 index를 구하여 inference할 데이터 추출"
   ]
  },
  {
   "cell_type": "code",
   "execution_count": 45,
   "metadata": {},
   "outputs": [],
   "source": [
    "null_indices = df_concatenated[df_concatenated['결론'].isnull()].index.tolist()"
   ]
  },
  {
   "cell_type": "code",
   "execution_count": 46,
   "metadata": {},
   "outputs": [
    {
     "ename": "ValueError",
     "evalue": "",
     "output_type": "error",
     "traceback": [
      "\u001b[0;31m---------------------------------------------------------------------------\u001b[0m",
      "\u001b[0;31mValueError\u001b[0m                                Traceback (most recent call last)",
      "Cell \u001b[0;32mIn[46], line 1\u001b[0m\n\u001b[0;32m----> 1\u001b[0m \u001b[38;5;28;01mraise\u001b[39;00m \u001b[38;5;167;01mValueError\u001b[39;00m()\n",
      "\u001b[0;31mValueError\u001b[0m: "
     ]
    }
   ],
   "source": [
    "raise ValueError()"
   ]
  },
  {
   "cell_type": "code",
   "execution_count": 47,
   "metadata": {},
   "outputs": [],
   "source": [
    "test = df_concatenated.iloc[null_indices]\n",
    "test = test.drop(columns='결론')"
   ]
  },
  {
   "cell_type": "code",
   "execution_count": 48,
   "metadata": {},
   "outputs": [],
   "source": [
    "test = test.dropna()"
   ]
  },
  {
   "cell_type": "code",
   "execution_count": 49,
   "metadata": {},
   "outputs": [
    {
     "data": {
      "text/plain": [
       "title    3\n",
       "판시사항     3\n",
       "dtype: int64"
      ]
     },
     "execution_count": 49,
     "metadata": {},
     "output_type": "execute_result"
    }
   ],
   "source": [
    "test.count()"
   ]
  },
  {
   "cell_type": "code",
   "execution_count": 50,
   "metadata": {},
   "outputs": [],
   "source": [
    "test.to_json('./test_dataset.json', orient='records', lines = True, force_ascii=False)"
   ]
  },
  {
   "cell_type": "markdown",
   "metadata": {},
   "source": [
    "#### None값을 제거하고 테스트 데이터 추출"
   ]
  },
  {
   "cell_type": "code",
   "execution_count": 51,
   "metadata": {},
   "outputs": [],
   "source": [
    "df_concatenated = df_concatenated.dropna()\n"
   ]
  },
  {
   "cell_type": "code",
   "execution_count": 52,
   "metadata": {},
   "outputs": [
    {
     "data": {
      "text/plain": [
       "title    877\n",
       "판시사항     877\n",
       "결론       877\n",
       "dtype: int64"
      ]
     },
     "execution_count": 52,
     "metadata": {},
     "output_type": "execute_result"
    }
   ],
   "source": [
    "df_concatenated.count()"
   ]
  },
  {
   "cell_type": "code",
   "execution_count": 55,
   "metadata": {},
   "outputs": [],
   "source": [
    "df_concatenated.to_json('./total_dataset.json', orient='records', lines = True, force_ascii=False)"
   ]
  },
  {
   "cell_type": "code",
   "execution_count": 54,
   "metadata": {},
   "outputs": [
    {
     "data": {
      "text/html": [
       "<div>\n",
       "<style scoped>\n",
       "    .dataframe tbody tr th:only-of-type {\n",
       "        vertical-align: middle;\n",
       "    }\n",
       "\n",
       "    .dataframe tbody tr th {\n",
       "        vertical-align: top;\n",
       "    }\n",
       "\n",
       "    .dataframe thead th {\n",
       "        text-align: right;\n",
       "    }\n",
       "</style>\n",
       "<table border=\"1\" class=\"dataframe\">\n",
       "  <thead>\n",
       "    <tr style=\"text-align: right;\">\n",
       "      <th></th>\n",
       "      <th>title</th>\n",
       "      <th>판시사항</th>\n",
       "      <th>결론</th>\n",
       "    </tr>\n",
       "  </thead>\n",
       "  <tbody>\n",
       "    <tr>\n",
       "      <th>0</th>\n",
       "      <td>[보수약정금]〈북한주민인 피고들과 위임 및 보수약정을 체결한 법무법인인 원고가 위임...</td>\n",
       "      <td>[1] 북한주민이 상속 등으로 취득한 재산 그 자체는 물론이고 그 재산을 처분한 대...</td>\n",
       "      <td>\\n원심판결을 파기하고, 사건을 다시 심리·판단하도록 원심법원에 환송하기로 하여, ...</td>\n",
       "    </tr>\n",
       "    <tr>\n",
       "      <th>1</th>\n",
       "      <td>[입학전형이의신청거부처분및불합격처분취소의소]〈종교적 신념을 이유로 면접시험 일정 변...</td>\n",
       "      <td>[1] 국립대학교 법학전문대학원 입시 과정에서 제칠일안식일예수재림교 신자들이 종교적...</td>\n",
       "      <td>\\n원심판결 중 입학전형이의신청거부처분 취소청구 부분을 파기하되, 이 부분은 이 법...</td>\n",
       "    </tr>\n",
       "    <tr>\n",
       "      <th>2</th>\n",
       "      <td>[피해자보호명령등에대한재항고]〈피해자보호명령의 발령 요건 및 심리절차의 법령 위반이...</td>\n",
       "      <td>[1] 가정폭력범죄의 처벌 등에 관한 특례법에 도입된 피해자보호명령 제도의 취지 /...</td>\n",
       "      <td>\\n그러므로 원심결정을 취소하고, 사건을 다시 심리·판단하도록 원심법원에 환송하기로...</td>\n",
       "    </tr>\n",
       "    <tr>\n",
       "      <th>3</th>\n",
       "      <td>[부당이득금]〈채무를 면하는 경우와 같은 재산의 소극적 증가도 부당이득이 성립하기 ...</td>\n",
       "      <td>[1] 채무를 면하는 경우와 같이 어떠한 사실의 발생으로 당연히 발생하였을 손실을 ...</td>\n",
       "      <td>\\n상고이유를 판단한다.\\n1. 법률상 원인 없이 타인의 재산 또는 노무로 인하여 ...</td>\n",
       "    </tr>\n",
       "    <tr>\n",
       "      <th>4</th>\n",
       "      <td>[성폭력범죄의처벌등에관한특례법위반(친족관계에의한강간)ㆍ아동복지법위반(아동학대)ㆍ아동...</td>\n",
       "      <td>[1] 형사소송법 제313조 제1항에서 규정한 ‘전 2조의 규정 이외에 피고인 또는...</td>\n",
       "      <td>\\n그러므로 상고를 모두 기각하기로 하여, 관여 대법관의 일치된 의견으로 주문과 같...</td>\n",
       "    </tr>\n",
       "    <tr>\n",
       "      <th>...</th>\n",
       "      <td>...</td>\n",
       "      <td>...</td>\n",
       "      <td>...</td>\n",
       "    </tr>\n",
       "    <tr>\n",
       "      <th>875</th>\n",
       "      <td>[등록부정정]〈성전환자의 성별정정 사건〉 [공2011하,2087]</td>\n",
       "      <td>[1] 성전환자가 혼인 중에 있거나 미성년자인 자녀가 있는 경우 성별정정을 허가할 ...</td>\n",
       "      <td>\\n그러므로 재항고를 기각하기로 하여 주문과 같이 결정한다. 이 결정에 대하여는 미...</td>\n",
       "    </tr>\n",
       "    <tr>\n",
       "      <th>876</th>\n",
       "      <td>[지역개발세부과처분취소]〈지역개발세 부과 사건〉 [공2011하,2126]</td>\n",
       "      <td>[1] 법률에 예외규정이 없는데도 조례로 새로운 납세의무를 부과하는 요건에 관한 규...</td>\n",
       "      <td>\\n그러므로 상고를 모두 기각하고, 상고비용은 패소자들 각자가 부담하도록 하여, 관...</td>\n",
       "    </tr>\n",
       "    <tr>\n",
       "      <th>877</th>\n",
       "      <td>[해상강도살인미수ㆍ강도살인미수ㆍ해상강도상해ㆍ강도상해ㆍ특수공무집행방해치상ㆍ선박및해상구...</td>\n",
       "      <td>[1] 토지관할을 규정한 형사소송법 제4조 제1항의 ‘현재지’에 ‘위법한 강제에 의...</td>\n",
       "      <td>\\n이로써 피고인들은 제1심 공동피고인 5 및 이 사건 피살된 해적들과 공모하여, ...</td>\n",
       "    </tr>\n",
       "    <tr>\n",
       "      <th>878</th>\n",
       "      <td>[통신비밀보호법위반]〈불법 감청·녹음 사건〉 [공2011상,846]</td>\n",
       "      <td>[1] 불법 감청·녹음 등에 관여하지 아니한 언론기관이 그 사정을 알면서 이를 보도...</td>\n",
       "      <td>\\n그러므로 상고를 모두 기각하기로 하여 주문과 같이 판결한다. 이 판결에는 위 1...</td>\n",
       "    </tr>\n",
       "    <tr>\n",
       "      <th>879</th>\n",
       "      <td>[업무방해]〈파업으로 인한 업무방해 사건〉 [공2011상,865]</td>\n",
       "      <td>[1] 쟁의행위로서 파업이 업무방해죄의 ‘위력’에 해당하는지 여부(한정 적극)\\n[...</td>\n",
       "      <td>\\n그러므로 상고를 기각하기로 하여 주문과 같이 판결한다. 이 판결에는 위 1.항의...</td>\n",
       "    </tr>\n",
       "  </tbody>\n",
       "</table>\n",
       "<p>877 rows × 3 columns</p>\n",
       "</div>"
      ],
      "text/plain": [
       "                                                 title  \\\n",
       "0    [보수약정금]〈북한주민인 피고들과 위임 및 보수약정을 체결한 법무법인인 원고가 위임...   \n",
       "1    [입학전형이의신청거부처분및불합격처분취소의소]〈종교적 신념을 이유로 면접시험 일정 변...   \n",
       "2    [피해자보호명령등에대한재항고]〈피해자보호명령의 발령 요건 및 심리절차의 법령 위반이...   \n",
       "3    [부당이득금]〈채무를 면하는 경우와 같은 재산의 소극적 증가도 부당이득이 성립하기 ...   \n",
       "4    [성폭력범죄의처벌등에관한특례법위반(친족관계에의한강간)ㆍ아동복지법위반(아동학대)ㆍ아동...   \n",
       "..                                                 ...   \n",
       "875               [등록부정정]〈성전환자의 성별정정 사건〉 [공2011하,2087]   \n",
       "876           [지역개발세부과처분취소]〈지역개발세 부과 사건〉 [공2011하,2126]   \n",
       "877  [해상강도살인미수ㆍ강도살인미수ㆍ해상강도상해ㆍ강도상해ㆍ특수공무집행방해치상ㆍ선박및해상구...   \n",
       "878              [통신비밀보호법위반]〈불법 감청·녹음 사건〉 [공2011상,846]   \n",
       "879               [업무방해]〈파업으로 인한 업무방해 사건〉 [공2011상,865]   \n",
       "\n",
       "                                                  판시사항  \\\n",
       "0    [1] 북한주민이 상속 등으로 취득한 재산 그 자체는 물론이고 그 재산을 처분한 대...   \n",
       "1    [1] 국립대학교 법학전문대학원 입시 과정에서 제칠일안식일예수재림교 신자들이 종교적...   \n",
       "2    [1] 가정폭력범죄의 처벌 등에 관한 특례법에 도입된 피해자보호명령 제도의 취지 /...   \n",
       "3    [1] 채무를 면하는 경우와 같이 어떠한 사실의 발생으로 당연히 발생하였을 손실을 ...   \n",
       "4    [1] 형사소송법 제313조 제1항에서 규정한 ‘전 2조의 규정 이외에 피고인 또는...   \n",
       "..                                                 ...   \n",
       "875  [1] 성전환자가 혼인 중에 있거나 미성년자인 자녀가 있는 경우 성별정정을 허가할 ...   \n",
       "876  [1] 법률에 예외규정이 없는데도 조례로 새로운 납세의무를 부과하는 요건에 관한 규...   \n",
       "877  [1] 토지관할을 규정한 형사소송법 제4조 제1항의 ‘현재지’에 ‘위법한 강제에 의...   \n",
       "878  [1] 불법 감청·녹음 등에 관여하지 아니한 언론기관이 그 사정을 알면서 이를 보도...   \n",
       "879  [1] 쟁의행위로서 파업이 업무방해죄의 ‘위력’에 해당하는지 여부(한정 적극)\\n[...   \n",
       "\n",
       "                                                    결론  \n",
       "0    \\n원심판결을 파기하고, 사건을 다시 심리·판단하도록 원심법원에 환송하기로 하여, ...  \n",
       "1    \\n원심판결 중 입학전형이의신청거부처분 취소청구 부분을 파기하되, 이 부분은 이 법...  \n",
       "2    \\n그러므로 원심결정을 취소하고, 사건을 다시 심리·판단하도록 원심법원에 환송하기로...  \n",
       "3    \\n상고이유를 판단한다.\\n1. 법률상 원인 없이 타인의 재산 또는 노무로 인하여 ...  \n",
       "4    \\n그러므로 상고를 모두 기각하기로 하여, 관여 대법관의 일치된 의견으로 주문과 같...  \n",
       "..                                                 ...  \n",
       "875  \\n그러므로 재항고를 기각하기로 하여 주문과 같이 결정한다. 이 결정에 대하여는 미...  \n",
       "876  \\n그러므로 상고를 모두 기각하고, 상고비용은 패소자들 각자가 부담하도록 하여, 관...  \n",
       "877  \\n이로써 피고인들은 제1심 공동피고인 5 및 이 사건 피살된 해적들과 공모하여, ...  \n",
       "878  \\n그러므로 상고를 모두 기각하기로 하여 주문과 같이 판결한다. 이 판결에는 위 1...  \n",
       "879  \\n그러므로 상고를 기각하기로 하여 주문과 같이 판결한다. 이 판결에는 위 1.항의...  \n",
       "\n",
       "[877 rows x 3 columns]"
      ]
     },
     "execution_count": 54,
     "metadata": {},
     "output_type": "execute_result"
    }
   ],
   "source": [
    "df_concatenated"
   ]
  },
  {
   "cell_type": "code",
   "execution_count": null,
   "metadata": {},
   "outputs": [],
   "source": []
  },
  {
   "cell_type": "code",
   "execution_count": null,
   "metadata": {},
   "outputs": [],
   "source": []
  }
 ],
 "metadata": {
  "kernelspec": {
   "display_name": "venv",
   "language": "python",
   "name": "venv"
  },
  "language_info": {
   "codemirror_mode": {
    "name": "ipython",
    "version": 3
   },
   "file_extension": ".py",
   "mimetype": "text/x-python",
   "name": "python",
   "nbconvert_exporter": "python",
   "pygments_lexer": "ipython3",
   "version": "3.10.12"
  }
 },
 "nbformat": 4,
 "nbformat_minor": 2
}
